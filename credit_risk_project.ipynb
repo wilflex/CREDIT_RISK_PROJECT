{
 "cells": [
  {
   "cell_type": "markdown",
   "metadata": {
    "id": "ob0WkpFQMbk8"
   },
   "source": [
    "Project Credit Risk\n",
    "==\n",
    "\n",
    "**Deadline : 28/02/2022**"
   ]
  },
  {
   "cell_type": "markdown",
   "metadata": {
    "id": "IcVI7DW1MdDK"
   },
   "source": [
    "***\n",
    "DETAIL DU PLAN DU PROJET\n",
    "==\n",
    "*****\n",
    "\n",
    "**Objectif** : Le but de cette étude est de construire un modèle basé sur cet échantillon permettant de construire la nouvelle grille de probabilité de défaut.\n",
    "\n",
    "<u><h4>Decrir le jeu de données</h4></u>\n",
    "- [X] construction d'un dictionnaire de données\n",
    "\n",
    "<u><h4>Analyse de la variable cible</h4></u><br>\n",
    "\n",
    "- [X] Identifier la variable cible\n",
    "- [X] Examen de la distribution de la variable cible\n",
    "\n",
    "<u><h4>Exploration de base des données</h4></u>\n",
    "\n",
    "- [X] Statistique descriptif des données\n",
    "- [X] Analyse visuelle exploratoire des données (Histogramme et Barcharts)\n",
    "- [X] Sélection des caractéristiques en fonction de la distribution des données\n",
    "- [X] Traitement des valeurs aberrantes\n",
    "- [X] Traitement des valeurs manquantes\n",
    "\n",
    "<u><h4>Construction de profile de risque (defaut)</h4></u>\n",
    "- [X] Statistique croisé\n",
    "- [X] Analyse statistique des corrélations (Sélection des caractéristiques)\n",
    "\n",
    "<u><h4>Preparation modélisation</h4></u>\n",
    "- [X] Conversion des données en données numériques pour le ML\n",
    "- [X] Échantillonnage et validation croisée K-fold pour identification de meillleur paramettre du modèle\n",
    "\n",
    "<u><h4>Modelisation et construction de classe de defaut</h4></u>\n",
    "\n",
    "- [X] algo de DecisionTreeClassifier\n",
    "- [X] modele de LinearDiscriminantAnalysis\n",
    "- [X] modele de LogisticRegression\n",
    "- [X] algo de KNN\n",
    "- [X] algo de GradientBoostingClassifier\n",
    "- [X] algo de RandomForestClassifier\n",
    "\n",
    "<u><h4>Construction de classe homogene de risque</h4></u>\n",
    "- [X] à realiser pour chaque modele\n",
    "\n",
    "<u><h4>Utiles</h4></u>\n",
    "- [X] methode de selection de varaible modrene :  Methode LASSO,RFE ou SequentialFeatureSelector\n",
    "\n",
    "<u><h4>Conclusion</h4></u>\n",
    "\n",
    "[**remarque**](https://zhuanlan.zhihu.com/p/255105477) : <br>\n",
    "\n",
    "*pour chque algo ici proposer un documentation (description assez exhaustive du fonctionnement de ces algo avec a l'appuis un schema algorithim)* \n",
    "\n",
    "resource :\n",
    "- [x] [source data](http://www.creditriskanalytics.net/datasets-private2.html)"
   ]
  },
  {
   "cell_type": "code",
   "execution_count": null,
   "metadata": {},
   "outputs": [],
   "source": []
  },
  {
   "cell_type": "markdown",
   "metadata": {},
   "source": [
    "Chargement des bibliothèques\n",
    "=="
   ]
  },
  {
   "cell_type": "code",
   "execution_count": 1212,
   "metadata": {
    "id": "n7nSJot6ufgl"
   },
   "outputs": [],
   "source": [
    "import pandas as pd\n",
    "import os\n",
    "# plotting\n",
    "import matplotlib.pyplot as plt\n",
    "import seaborn as sns\n",
    "\n",
    "#modeling\n",
    "import numpy as np\n",
    "import scipy as sp\n",
    "from sklearn.metrics import accuracy_score\n",
    "from sklearn.model_selection import train_test_split\n",
    "from sklearn.impute import SimpleImputer\n",
    "from scipy.stats import skew\n",
    "import scorecardpy as sc\n",
    "import statsmodels.api as sm\n",
    "from statsmodels.tools import tools\n",
    "from statsmodels.iolib.summary import Summary\n",
    "from sklearn.linear_model import LogisticRegression\n",
    "from sklearn.tree import DecisionTreeClassifier\n",
    "from sklearn.neighbors import KNeighborsClassifier\n",
    "from sklearn.ensemble import RandomForestClassifier, GradientBoostingClassifier, VotingClassifier, StackingClassifier\n",
    "from sklearn.feature_selection import RFE\n",
    "from mlxtend.feature_selection import SequentialFeatureSelector, ExhaustiveFeatureSelector\n",
    "from sklearn.model_selection import RepeatedStratifiedKFold, cross_validate, cross_val_score, GridSearchCV\n",
    "from sklearn.metrics import accuracy_score, recall_score, f1_score, precision_score, precision_recall_curve\n",
    "from sklearn.metrics import make_scorer, auc, classification_report, roc_auc_score, roc_curve, confusion_matrix\n",
    "from sklearn.discriminant_analysis import LinearDiscriminantAnalysis\n",
    "from imblearn.over_sampling import SMOTE\n",
    "\n",
    "\n",
    "#formating\n",
    "sns.set_style('darkgrid')\n",
    "import warnings\n",
    "warnings.filterwarnings(\"ignore\")\n",
    "import time\n",
    "import re"
   ]
  },
  {
   "cell_type": "code",
   "execution_count": null,
   "metadata": {},
   "outputs": [],
   "source": []
  },
  {
   "cell_type": "markdown",
   "metadata": {},
   "source": [
    "Chargement des données\n",
    "=="
   ]
  },
  {
   "cell_type": "code",
   "execution_count": 1213,
   "metadata": {
    "colab": {
     "base_uri": "https://localhost:8080/"
    },
    "id": "aL-D0y_bLE95",
    "outputId": "1425415e-1e18-4095-cb2b-d8445d1bec8a"
   },
   "outputs": [
    {
     "data": {
      "text/plain": [
       "['base_modele_final.csv',\n",
       " 'final_dataset.csv',\n",
       " 'mortgage.csv',\n",
       " 'table_classe.csv',\n",
       " 'test.csv']"
      ]
     },
     "execution_count": 1213,
     "metadata": {},
     "output_type": "execute_result"
    }
   ],
   "source": [
    "#recupperation des données\n",
    "list_df = [c for c in os.listdir() if c.endswith(\".csv\")]\n",
    "list_df"
   ]
  },
  {
   "cell_type": "code",
   "execution_count": 1214,
   "metadata": {
    "colab": {
     "base_uri": "https://localhost:8080/",
     "height": 270
    },
    "id": "QSzH6hWvu6IA",
    "outputId": "8a042c86-5624-4c19-8879-63223d480f8d"
   },
   "outputs": [
    {
     "name": "stdout",
     "output_type": "stream",
     "text": [
      "(622489, 23)\n"
     ]
    },
    {
     "data": {
      "text/html": [
       "<div>\n",
       "<style scoped>\n",
       "    .dataframe tbody tr th:only-of-type {\n",
       "        vertical-align: middle;\n",
       "    }\n",
       "\n",
       "    .dataframe tbody tr th {\n",
       "        vertical-align: top;\n",
       "    }\n",
       "\n",
       "    .dataframe thead th {\n",
       "        text-align: right;\n",
       "    }\n",
       "</style>\n",
       "<table border=\"1\" class=\"dataframe\">\n",
       "  <thead>\n",
       "    <tr style=\"text-align: right;\">\n",
       "      <th></th>\n",
       "      <th>id</th>\n",
       "      <th>time</th>\n",
       "      <th>orig_time</th>\n",
       "      <th>first_time</th>\n",
       "      <th>mat_time</th>\n",
       "      <th>balance_time</th>\n",
       "      <th>LTV_time</th>\n",
       "      <th>interest_rate_time</th>\n",
       "      <th>hpi_time</th>\n",
       "      <th>gdp_time</th>\n",
       "      <th>...</th>\n",
       "      <th>REtype_SF_orig_time</th>\n",
       "      <th>investor_orig_time</th>\n",
       "      <th>balance_orig_time</th>\n",
       "      <th>FICO_orig_time</th>\n",
       "      <th>LTV_orig_time</th>\n",
       "      <th>Interest_Rate_orig_time</th>\n",
       "      <th>hpi_orig_time</th>\n",
       "      <th>default_time</th>\n",
       "      <th>payoff_time</th>\n",
       "      <th>status_time</th>\n",
       "    </tr>\n",
       "  </thead>\n",
       "  <tbody>\n",
       "    <tr>\n",
       "      <th>0</th>\n",
       "      <td>1</td>\n",
       "      <td>25</td>\n",
       "      <td>-7</td>\n",
       "      <td>25</td>\n",
       "      <td>113</td>\n",
       "      <td>41303.42</td>\n",
       "      <td>24.498336</td>\n",
       "      <td>9.2</td>\n",
       "      <td>226.29</td>\n",
       "      <td>2.899137</td>\n",
       "      <td>...</td>\n",
       "      <td>1</td>\n",
       "      <td>0</td>\n",
       "      <td>45000.0</td>\n",
       "      <td>715</td>\n",
       "      <td>69.4</td>\n",
       "      <td>9.2</td>\n",
       "      <td>87.03</td>\n",
       "      <td>0</td>\n",
       "      <td>0</td>\n",
       "      <td>0</td>\n",
       "    </tr>\n",
       "    <tr>\n",
       "      <th>1</th>\n",
       "      <td>1</td>\n",
       "      <td>26</td>\n",
       "      <td>-7</td>\n",
       "      <td>25</td>\n",
       "      <td>113</td>\n",
       "      <td>41061.95</td>\n",
       "      <td>24.483867</td>\n",
       "      <td>9.2</td>\n",
       "      <td>225.10</td>\n",
       "      <td>2.151365</td>\n",
       "      <td>...</td>\n",
       "      <td>1</td>\n",
       "      <td>0</td>\n",
       "      <td>45000.0</td>\n",
       "      <td>715</td>\n",
       "      <td>69.4</td>\n",
       "      <td>9.2</td>\n",
       "      <td>87.03</td>\n",
       "      <td>0</td>\n",
       "      <td>0</td>\n",
       "      <td>0</td>\n",
       "    </tr>\n",
       "    <tr>\n",
       "      <th>2</th>\n",
       "      <td>1</td>\n",
       "      <td>27</td>\n",
       "      <td>-7</td>\n",
       "      <td>25</td>\n",
       "      <td>113</td>\n",
       "      <td>40804.42</td>\n",
       "      <td>24.626795</td>\n",
       "      <td>9.2</td>\n",
       "      <td>222.39</td>\n",
       "      <td>2.361722</td>\n",
       "      <td>...</td>\n",
       "      <td>1</td>\n",
       "      <td>0</td>\n",
       "      <td>45000.0</td>\n",
       "      <td>715</td>\n",
       "      <td>69.4</td>\n",
       "      <td>9.2</td>\n",
       "      <td>87.03</td>\n",
       "      <td>0</td>\n",
       "      <td>0</td>\n",
       "      <td>0</td>\n",
       "    </tr>\n",
       "    <tr>\n",
       "      <th>3</th>\n",
       "      <td>1</td>\n",
       "      <td>28</td>\n",
       "      <td>-7</td>\n",
       "      <td>25</td>\n",
       "      <td>113</td>\n",
       "      <td>40483.89</td>\n",
       "      <td>24.735883</td>\n",
       "      <td>9.2</td>\n",
       "      <td>219.67</td>\n",
       "      <td>1.229172</td>\n",
       "      <td>...</td>\n",
       "      <td>1</td>\n",
       "      <td>0</td>\n",
       "      <td>45000.0</td>\n",
       "      <td>715</td>\n",
       "      <td>69.4</td>\n",
       "      <td>9.2</td>\n",
       "      <td>87.03</td>\n",
       "      <td>0</td>\n",
       "      <td>0</td>\n",
       "      <td>0</td>\n",
       "    </tr>\n",
       "    <tr>\n",
       "      <th>4</th>\n",
       "      <td>1</td>\n",
       "      <td>29</td>\n",
       "      <td>-7</td>\n",
       "      <td>25</td>\n",
       "      <td>113</td>\n",
       "      <td>40367.06</td>\n",
       "      <td>24.925476</td>\n",
       "      <td>9.2</td>\n",
       "      <td>217.37</td>\n",
       "      <td>1.692969</td>\n",
       "      <td>...</td>\n",
       "      <td>1</td>\n",
       "      <td>0</td>\n",
       "      <td>45000.0</td>\n",
       "      <td>715</td>\n",
       "      <td>69.4</td>\n",
       "      <td>9.2</td>\n",
       "      <td>87.03</td>\n",
       "      <td>0</td>\n",
       "      <td>0</td>\n",
       "      <td>0</td>\n",
       "    </tr>\n",
       "  </tbody>\n",
       "</table>\n",
       "<p>5 rows × 23 columns</p>\n",
       "</div>"
      ],
      "text/plain": [
       "   id  time  orig_time  first_time  mat_time  balance_time   LTV_time  \\\n",
       "0   1    25         -7          25       113      41303.42  24.498336   \n",
       "1   1    26         -7          25       113      41061.95  24.483867   \n",
       "2   1    27         -7          25       113      40804.42  24.626795   \n",
       "3   1    28         -7          25       113      40483.89  24.735883   \n",
       "4   1    29         -7          25       113      40367.06  24.925476   \n",
       "\n",
       "   interest_rate_time  hpi_time  gdp_time  ...  REtype_SF_orig_time  \\\n",
       "0                 9.2    226.29  2.899137  ...                    1   \n",
       "1                 9.2    225.10  2.151365  ...                    1   \n",
       "2                 9.2    222.39  2.361722  ...                    1   \n",
       "3                 9.2    219.67  1.229172  ...                    1   \n",
       "4                 9.2    217.37  1.692969  ...                    1   \n",
       "\n",
       "   investor_orig_time  balance_orig_time  FICO_orig_time  LTV_orig_time  \\\n",
       "0                   0            45000.0             715           69.4   \n",
       "1                   0            45000.0             715           69.4   \n",
       "2                   0            45000.0             715           69.4   \n",
       "3                   0            45000.0             715           69.4   \n",
       "4                   0            45000.0             715           69.4   \n",
       "\n",
       "   Interest_Rate_orig_time  hpi_orig_time  default_time  payoff_time  \\\n",
       "0                      9.2          87.03             0            0   \n",
       "1                      9.2          87.03             0            0   \n",
       "2                      9.2          87.03             0            0   \n",
       "3                      9.2          87.03             0            0   \n",
       "4                      9.2          87.03             0            0   \n",
       "\n",
       "   status_time  \n",
       "0            0  \n",
       "1            0  \n",
       "2            0  \n",
       "3            0  \n",
       "4            0  \n",
       "\n",
       "[5 rows x 23 columns]"
      ]
     },
     "execution_count": 1214,
     "metadata": {},
     "output_type": "execute_result"
    }
   ],
   "source": [
    "#chargement des données et affichage\n",
    "df = pd.read_csv(list_df[2])\n",
    "print(df.shape)\n",
    "df.head(5)"
   ]
  },
  {
   "cell_type": "markdown",
   "metadata": {
    "id": "6IdD3IDCsXNg"
   },
   "source": [
    "Consctruction du dictionnaire de données\n",
    "--"
   ]
  },
  {
   "cell_type": "code",
   "execution_count": 1215,
   "metadata": {
    "id": "m0vXQnLGsa3B"
   },
   "outputs": [],
   "source": [
    "#dicionnaire de données\n",
    "\n",
    "def description(element: str) -> str:\n",
    "\n",
    "    dictionnaire = {\n",
    "      \"ID\": \"ID de l’emprunteur\",\n",
    "      \"time\" : \"Periode d’observation\",\n",
    "      \"orig_time\" : \"Periode d'observation à l’origine\",\n",
    "      \"first_time\" : \"Periode de la première observation\",\n",
    "      \"mat_time\" : \"Periode de l’échéance\",\n",
    "      \"balance_time\" : \"Solde impayé au moment de l’observation\",\n",
    "      \"LTV_time\" : \"Ratio prêt/valeur au moment de l’observation (en %)\",\n",
    "      \"interest_rate_time\" : \"Taux d’intérêt au moment de l’observation (en %)\",\n",
    "      \"hpi_time\": \"Indice des prix des logements au moment de l’observation (année de référence = 100)\",\n",
    "      \"gdp_time\": \"Croissance du produit intérieur brut (PIB) au moment de l’observation (en %)\",\n",
    "      \"uer_time\": \"Taux de chômage au moment de l’observation (en %)\",\n",
    "      \"REtype_CO_orig_time\": \"Type immobilier (copropriété = 1, sinon = 0)\",\n",
    "      \"REtype_PU_orig_time\": \"Type de bien immobilier (développement urbain planifié = 1, sinon = 0)\",\n",
    "      \"REtype_SF_orig_time\": \"Type de Maison (unifamiliale = 1, sinon = 0)\",\n",
    "      \"investor_orig_time\": \"Investisseur (emprunteur = 1, sinon = 0)\",\n",
    "      \"balance_orig_time\": \"Solde impayé au moment de l’origine\",\n",
    "      \"FICO_orig_time\": \"Score FICO au moment de l’origination (en %)\",\n",
    "      \"LTV_orig_time\": \"Ratio prêt/valeur à l’origine (en %)\",\n",
    "      \"Interest_Rate_orig_time\": \"Taux d’intérêt à l’origine (en %)\",\n",
    "      \"hpi_orig_time\": \"Indice des prix des logements à de l’origine (annéede base = 100)\",\n",
    "      \"default_time\": \"Observation du défaut au moment de l’observation\",\n",
    "      \"payoff_time\": \"Observation du gain au moment de l’observation\",\n",
    "      \"status_time\": \"Défaut (1), gain (2) et observation hors défaut/non-paiement (0) au moment de l’observation\"}\n",
    "\n",
    "    return dictionnaire[element]"
   ]
  },
  {
   "cell_type": "code",
   "execution_count": 1216,
   "metadata": {
    "colab": {
     "base_uri": "https://localhost:8080/",
     "height": 35
    },
    "id": "u5Rr93YrRIo4",
    "outputId": "3522cf93-9bde-4977-ad45-f2dda4fb9f2f"
   },
   "outputs": [
    {
     "data": {
      "text/plain": [
       "'Type immobilier (copropriété = 1, sinon = 0)'"
      ]
     },
     "execution_count": 1216,
     "metadata": {},
     "output_type": "execute_result"
    }
   ],
   "source": [
    "description(\"REtype_CO_orig_time\")"
   ]
  },
  {
   "cell_type": "markdown",
   "metadata": {},
   "source": [
    "Pretraitement de données\n",
    "=="
   ]
  },
  {
   "cell_type": "markdown",
   "metadata": {
    "id": "edCjHab8gnS3"
   },
   "source": [
    "Gestion des doublons\n",
    "--"
   ]
  },
  {
   "cell_type": "code",
   "execution_count": 1217,
   "metadata": {
    "id": "nVBGF4HfggOP"
   },
   "outputs": [],
   "source": [
    "#trie pour supression de doublons\n",
    "\n",
    "df.sort_values(by = ['id', 'time'] ,ascending = [True,False],inplace=True)\n",
    "df.drop_duplicates(subset=\"id\",keep=\"first\",inplace=True)"
   ]
  },
  {
   "cell_type": "code",
   "execution_count": 1218,
   "metadata": {
    "colab": {
     "base_uri": "https://localhost:8080/",
     "height": 270
    },
    "id": "7lMsAqh6c1Rh",
    "outputId": "98ed55b6-cb8e-4a88-f282-1d131d23c387"
   },
   "outputs": [
    {
     "name": "stdout",
     "output_type": "stream",
     "text": [
      "(50000, 23)\n"
     ]
    },
    {
     "data": {
      "text/html": [
       "<div>\n",
       "<style scoped>\n",
       "    .dataframe tbody tr th:only-of-type {\n",
       "        vertical-align: middle;\n",
       "    }\n",
       "\n",
       "    .dataframe tbody tr th {\n",
       "        vertical-align: top;\n",
       "    }\n",
       "\n",
       "    .dataframe thead th {\n",
       "        text-align: right;\n",
       "    }\n",
       "</style>\n",
       "<table border=\"1\" class=\"dataframe\">\n",
       "  <thead>\n",
       "    <tr style=\"text-align: right;\">\n",
       "      <th></th>\n",
       "      <th>id</th>\n",
       "      <th>time</th>\n",
       "      <th>orig_time</th>\n",
       "      <th>first_time</th>\n",
       "      <th>mat_time</th>\n",
       "      <th>balance_time</th>\n",
       "      <th>LTV_time</th>\n",
       "      <th>interest_rate_time</th>\n",
       "      <th>hpi_time</th>\n",
       "      <th>gdp_time</th>\n",
       "      <th>...</th>\n",
       "      <th>REtype_SF_orig_time</th>\n",
       "      <th>investor_orig_time</th>\n",
       "      <th>balance_orig_time</th>\n",
       "      <th>FICO_orig_time</th>\n",
       "      <th>LTV_orig_time</th>\n",
       "      <th>Interest_Rate_orig_time</th>\n",
       "      <th>hpi_orig_time</th>\n",
       "      <th>default_time</th>\n",
       "      <th>payoff_time</th>\n",
       "      <th>status_time</th>\n",
       "    </tr>\n",
       "  </thead>\n",
       "  <tbody>\n",
       "    <tr>\n",
       "      <th>23</th>\n",
       "      <td>1</td>\n",
       "      <td>48</td>\n",
       "      <td>-7</td>\n",
       "      <td>25</td>\n",
       "      <td>113</td>\n",
       "      <td>29087.21</td>\n",
       "      <td>26.658065</td>\n",
       "      <td>9.200</td>\n",
       "      <td>146.45</td>\n",
       "      <td>2.715903</td>\n",
       "      <td>...</td>\n",
       "      <td>1</td>\n",
       "      <td>0</td>\n",
       "      <td>45000.0</td>\n",
       "      <td>715</td>\n",
       "      <td>69.4</td>\n",
       "      <td>9.200</td>\n",
       "      <td>87.03</td>\n",
       "      <td>1</td>\n",
       "      <td>0</td>\n",
       "      <td>1</td>\n",
       "    </tr>\n",
       "    <tr>\n",
       "      <th>25</th>\n",
       "      <td>2</td>\n",
       "      <td>26</td>\n",
       "      <td>18</td>\n",
       "      <td>25</td>\n",
       "      <td>138</td>\n",
       "      <td>105654.77</td>\n",
       "      <td>65.469851</td>\n",
       "      <td>7.680</td>\n",
       "      <td>225.10</td>\n",
       "      <td>2.151365</td>\n",
       "      <td>...</td>\n",
       "      <td>1</td>\n",
       "      <td>0</td>\n",
       "      <td>107200.0</td>\n",
       "      <td>558</td>\n",
       "      <td>80.0</td>\n",
       "      <td>7.680</td>\n",
       "      <td>186.91</td>\n",
       "      <td>0</td>\n",
       "      <td>1</td>\n",
       "      <td>2</td>\n",
       "    </tr>\n",
       "    <tr>\n",
       "      <th>30</th>\n",
       "      <td>3</td>\n",
       "      <td>29</td>\n",
       "      <td>-6</td>\n",
       "      <td>25</td>\n",
       "      <td>114</td>\n",
       "      <td>44378.60</td>\n",
       "      <td>31.459735</td>\n",
       "      <td>11.375</td>\n",
       "      <td>217.37</td>\n",
       "      <td>1.692969</td>\n",
       "      <td>...</td>\n",
       "      <td>1</td>\n",
       "      <td>0</td>\n",
       "      <td>48600.0</td>\n",
       "      <td>680</td>\n",
       "      <td>83.6</td>\n",
       "      <td>8.750</td>\n",
       "      <td>89.58</td>\n",
       "      <td>0</td>\n",
       "      <td>1</td>\n",
       "      <td>2</td>\n",
       "    </tr>\n",
       "    <tr>\n",
       "      <th>65</th>\n",
       "      <td>4</td>\n",
       "      <td>60</td>\n",
       "      <td>-2</td>\n",
       "      <td>25</td>\n",
       "      <td>119</td>\n",
       "      <td>52686.35</td>\n",
       "      <td>34.898842</td>\n",
       "      <td>10.500</td>\n",
       "      <td>189.82</td>\n",
       "      <td>2.836358</td>\n",
       "      <td>...</td>\n",
       "      <td>1</td>\n",
       "      <td>0</td>\n",
       "      <td>63750.0</td>\n",
       "      <td>587</td>\n",
       "      <td>81.8</td>\n",
       "      <td>10.500</td>\n",
       "      <td>97.99</td>\n",
       "      <td>0</td>\n",
       "      <td>0</td>\n",
       "      <td>0</td>\n",
       "    </tr>\n",
       "    <tr>\n",
       "      <th>68</th>\n",
       "      <td>5</td>\n",
       "      <td>27</td>\n",
       "      <td>18</td>\n",
       "      <td>25</td>\n",
       "      <td>138</td>\n",
       "      <td>52100.71</td>\n",
       "      <td>66.346343</td>\n",
       "      <td>9.155</td>\n",
       "      <td>222.39</td>\n",
       "      <td>2.361722</td>\n",
       "      <td>...</td>\n",
       "      <td>1</td>\n",
       "      <td>0</td>\n",
       "      <td>52800.0</td>\n",
       "      <td>527</td>\n",
       "      <td>80.0</td>\n",
       "      <td>9.155</td>\n",
       "      <td>186.91</td>\n",
       "      <td>0</td>\n",
       "      <td>1</td>\n",
       "      <td>2</td>\n",
       "    </tr>\n",
       "  </tbody>\n",
       "</table>\n",
       "<p>5 rows × 23 columns</p>\n",
       "</div>"
      ],
      "text/plain": [
       "    id  time  orig_time  first_time  mat_time  balance_time   LTV_time  \\\n",
       "23   1    48         -7          25       113      29087.21  26.658065   \n",
       "25   2    26         18          25       138     105654.77  65.469851   \n",
       "30   3    29         -6          25       114      44378.60  31.459735   \n",
       "65   4    60         -2          25       119      52686.35  34.898842   \n",
       "68   5    27         18          25       138      52100.71  66.346343   \n",
       "\n",
       "    interest_rate_time  hpi_time  gdp_time  ...  REtype_SF_orig_time  \\\n",
       "23               9.200    146.45  2.715903  ...                    1   \n",
       "25               7.680    225.10  2.151365  ...                    1   \n",
       "30              11.375    217.37  1.692969  ...                    1   \n",
       "65              10.500    189.82  2.836358  ...                    1   \n",
       "68               9.155    222.39  2.361722  ...                    1   \n",
       "\n",
       "    investor_orig_time  balance_orig_time  FICO_orig_time  LTV_orig_time  \\\n",
       "23                   0            45000.0             715           69.4   \n",
       "25                   0           107200.0             558           80.0   \n",
       "30                   0            48600.0             680           83.6   \n",
       "65                   0            63750.0             587           81.8   \n",
       "68                   0            52800.0             527           80.0   \n",
       "\n",
       "    Interest_Rate_orig_time  hpi_orig_time  default_time  payoff_time  \\\n",
       "23                    9.200          87.03             1            0   \n",
       "25                    7.680         186.91             0            1   \n",
       "30                    8.750          89.58             0            1   \n",
       "65                   10.500          97.99             0            0   \n",
       "68                    9.155         186.91             0            1   \n",
       "\n",
       "    status_time  \n",
       "23            1  \n",
       "25            2  \n",
       "30            2  \n",
       "65            0  \n",
       "68            2  \n",
       "\n",
       "[5 rows x 23 columns]"
      ]
     },
     "execution_count": 1218,
     "metadata": {},
     "output_type": "execute_result"
    }
   ],
   "source": [
    "#verification\n",
    "print(df.shape)\n",
    "df.head(5)"
   ]
  },
  {
   "cell_type": "markdown",
   "metadata": {},
   "source": [
    "Gestion des données manquantes\n",
    "--"
   ]
  },
  {
   "cell_type": "code",
   "execution_count": 1219,
   "metadata": {
    "colab": {
     "base_uri": "https://localhost:8080/"
    },
    "id": "fScMiIHWRsab",
    "outputId": "b20c4c13-2f24-4afd-f296-a864c0bcc132"
   },
   "outputs": [],
   "source": [
    "# identification des données manquantes\n",
    "\n",
    "class Missing(object):\n",
    "\n",
    "    \"\"\"\n",
    "    ---------\n",
    "    Attributs\n",
    "    ---------\n",
    "    data : Jeu de données -> DataFrame  \n",
    "    --------\n",
    "    Méthodes\n",
    "    --------\n",
    "    stat() :\n",
    "        Fournit les statisques sur les données manquantes.\n",
    "\n",
    "    plot():\n",
    "        Fournit un graphique permettant de visualiser graphiquement \n",
    "        les données manquantes dans la base de données\n",
    "    \"\"\"  \n",
    "\n",
    "    def __init__(self,data):\n",
    "\n",
    "        self.data = data\n",
    "\n",
    "    def stat(self,):\n",
    "\n",
    "        \"\"\"\n",
    "        Cette fournit les statisques sur les données manquantes.\n",
    "        -------------\n",
    "        Paramètre : \n",
    "        - data : jeu de données -> DataFrame\n",
    "    \n",
    "        Sortie : \n",
    "        - Statistique renseignat sur :\n",
    "            * le nombre de donnée manquantes de chaque variable\n",
    "            * le % de données manquantes de chaque variable\n",
    "            * le type de données de chaque variable\n",
    "            * le nombre de données disponible de chaque variable\n",
    "        -------------\n",
    "        \"\"\"\n",
    "\n",
    "        d1 = self.data.isna().sum().to_frame()\n",
    "        d2 = ((self.data.isna().sum() / self.data.shape[0])*100).to_frame().round(2).astype('string')+\"%\"\n",
    "        d3 = self.data.dtypes.to_frame()\n",
    "        d4 = self.data.count()\n",
    "        df_missing = pd.concat([d1,d2,d3,d4],axis = 1)\n",
    "        df_missing.columns = ['missing value','% of missing value','data dtypes',\"count\"]\n",
    "        print('='*76)\n",
    "        print(\"Statistique données manquante\",'{:>45}'.format(\"obs: \"+str(df_missing.shape[0])))\n",
    "        print('-'*76)\n",
    "        print(df_missing.sort_values(by='missing value',ascending=False))\n",
    "        print(\"=\"*76)\n",
    "\n",
    "\n",
    "    def plot(self,):\n",
    "\n",
    "        \"\"\"\n",
    "        Cette fournit un graphique permettant de visualiser graphiquement \n",
    "        les données manquantes dans la base de données\n",
    "        -------------\n",
    "        Paramètre : \n",
    "        - data : jeu de données -> DataFrame\n",
    "    \n",
    "        Sortie : \n",
    "        - graphique : heatmap()\n",
    "        -------------\n",
    "        \"\"\"\n",
    "        plt.figure(figsize = (18,9))\n",
    "        sns.heatmap(self.data.isna());\n"
   ]
  },
  {
   "cell_type": "code",
   "execution_count": 1220,
   "metadata": {
    "id": "AS7qWpALLNPp"
   },
   "outputs": [
    {
     "name": "stdout",
     "output_type": "stream",
     "text": [
      "============================================================================\n",
      "Statistique données manquante                                       obs: 23\n",
      "----------------------------------------------------------------------------\n",
      "                         missing value % of missing value data dtypes  count\n",
      "LTV_time                            18              0.04%     float64  49982\n",
      "id                                   0               0.0%       int64  50000\n",
      "REtype_PU_orig_time                  0               0.0%       int64  50000\n",
      "payoff_time                          0               0.0%       int64  50000\n",
      "default_time                         0               0.0%       int64  50000\n",
      "hpi_orig_time                        0               0.0%     float64  50000\n",
      "Interest_Rate_orig_time              0               0.0%     float64  50000\n",
      "LTV_orig_time                        0               0.0%     float64  50000\n",
      "FICO_orig_time                       0               0.0%       int64  50000\n",
      "balance_orig_time                    0               0.0%     float64  50000\n",
      "investor_orig_time                   0               0.0%       int64  50000\n",
      "REtype_SF_orig_time                  0               0.0%       int64  50000\n",
      "REtype_CO_orig_time                  0               0.0%       int64  50000\n",
      "time                                 0               0.0%       int64  50000\n",
      "uer_time                             0               0.0%     float64  50000\n",
      "gdp_time                             0               0.0%     float64  50000\n",
      "hpi_time                             0               0.0%     float64  50000\n",
      "interest_rate_time                   0               0.0%     float64  50000\n",
      "balance_time                         0               0.0%     float64  50000\n",
      "mat_time                             0               0.0%       int64  50000\n",
      "first_time                           0               0.0%       int64  50000\n",
      "orig_time                            0               0.0%       int64  50000\n",
      "status_time                          0               0.0%       int64  50000\n",
      "============================================================================\n"
     ]
    }
   ],
   "source": [
    "#filtrage de données NaN\n",
    "missing = Missing(df)\n",
    "missing.stat()"
   ]
  },
  {
   "cell_type": "markdown",
   "metadata": {
    "id": "IWObgZNK3pLc"
   },
   "source": [
    "### traitemnet des données manquantes de la variable `LTV_time`"
   ]
  },
  {
   "cell_type": "code",
   "execution_count": 1221,
   "metadata": {
    "colab": {
     "base_uri": "https://localhost:8080/",
     "height": 35
    },
    "id": "YMC4j5Fl4XPp",
    "outputId": "226a5d90-3eda-4580-9875-5ccffec50f5e"
   },
   "outputs": [
    {
     "data": {
      "text/plain": [
       "'Ratio prêt/valeur au moment de l’observation (en %)'"
      ]
     },
     "execution_count": 1221,
     "metadata": {},
     "output_type": "execute_result"
    }
   ],
   "source": [
    "description(\"LTV_time\")"
   ]
  },
  {
   "cell_type": "code",
   "execution_count": 1222,
   "metadata": {
    "colab": {
     "base_uri": "https://localhost:8080/"
    },
    "id": "gUiltVBm3omt",
    "outputId": "417a7dec-7ae1-49a7-881b-b723b9c05f85"
   },
   "outputs": [
    {
     "data": {
      "text/plain": [
       "count    49982.000000\n",
       "mean        79.311836\n",
       "std         25.132516\n",
       "min          0.000000\n",
       "25%         64.116470\n",
       "50%         78.718905\n",
       "75%         95.745375\n",
       "max        616.985143\n",
       "Name: LTV_time, dtype: float64"
      ]
     },
     "execution_count": 1222,
     "metadata": {},
     "output_type": "execute_result"
    }
   ],
   "source": [
    "#stat desc pour verifier l'homogeneité de la dist de la varable (ici median et moy meme valeur et std<mean la variable est plutot stable)\n",
    "df[\"LTV_time\"].describe()"
   ]
  },
  {
   "cell_type": "code",
   "execution_count": 1223,
   "metadata": {},
   "outputs": [
    {
     "data": {
      "image/png": "[encoded data removed]",
      "text/plain": [
       "<Figure size 432x288 with 1 Axes>"
      ]
     },
     "metadata": {},
     "output_type": "display_data"
    }
   ],
   "source": [
    "sns.histplot(df[\"LTV_time\"]);"
   ]
  },
  {
   "cell_type": "markdown",
   "metadata": {},
   "source": [
    "**Remarque** : la variable `LTV_time` semble ne pas dispersé on peu donc opter pour une imputation par la moyenne ou par la mediane "
   ]
  },
  {
   "cell_type": "code",
   "execution_count": 1224,
   "metadata": {
    "id": "P2_26R6ud7Rw"
   },
   "outputs": [],
   "source": [
    "#impuration par la moyenne\n",
    "df[\"LTV_time\"].fillna(df[\"LTV_time\"].mean(),inplace = True) "
   ]
  },
  {
   "cell_type": "markdown",
   "metadata": {},
   "source": [
    "Construction de varaible\n",
    "--\n",
    "\n",
    "Etant donner le fait que la plus part de variable renseigne sur moment different (etat d'origine et etat actuelle) il nous a paru natuelle de construit de nouvelle variable qui visait à monter l'impact d'une hausse ou d'une baisse de ses variable sur la variable cible."
   ]
  },
  {
   "cell_type": "code",
   "execution_count": 1225,
   "metadata": {},
   "outputs": [],
   "source": [
    "# l'idée etant de fournit une interpretation intutive et coherente tout en reduisant le numbre de variable\n",
    "\n",
    "#calcul de LVT\n",
    "df[\"LTV\"] = df[\"LTV_time\"] - df[\"LTV_orig_time\"] \n",
    "#si lvt > 0 -> baisse de la valeur du bien \n",
    "#si lvt < 0 -> aug de la valeur du bien\n",
    "\n",
    "#calcul de interest_rate\n",
    "df[\"interest_rate\"] = df[\"interest_rate_time\"] - df[\"Interest_Rate_orig_time\"]\n",
    "#si interest_rate < 0 -> baisse du taux\n",
    "#si interest_rate > 0 -> aug du taux\n",
    "\n",
    "#calcul de hpi\n",
    "df[\"HPI\"] = df[\"hpi_time\"] - df[\"hpi_orig_time\"]\n",
    "#si HPI < 0 -> baisse du hpi\n",
    "#si HPI > 0 -> aug du hpi\n",
    "\n",
    "#calcul balance\n",
    "df[\"balance\"] = df[\"balance_time\"] - df[\"balance_orig_time\"]\n",
    "#si balance < 0 -> baisse du sold impayé\n",
    "#si balance > 0 -> aug du sold impayé\n"
   ]
  },
  {
   "cell_type": "code",
   "execution_count": null,
   "metadata": {},
   "outputs": [],
   "source": []
  },
  {
   "cell_type": "markdown",
   "metadata": {
    "id": "WjbM5WSYsLU3"
   },
   "source": [
    "Analyse de la variable cible\n",
    "=="
   ]
  },
  {
   "cell_type": "code",
   "execution_count": 1226,
   "metadata": {
    "colab": {
     "base_uri": "https://localhost:8080/",
     "height": 143
    },
    "id": "pa7w0FK9seBl",
    "outputId": "d4c7b1de-7f2e-4efc-f47e-764fd7be1981"
   },
   "outputs": [
    {
     "data": {
      "text/html": [
       "<div>\n",
       "<style scoped>\n",
       "    .dataframe tbody tr th:only-of-type {\n",
       "        vertical-align: middle;\n",
       "    }\n",
       "\n",
       "    .dataframe tbody tr th {\n",
       "        vertical-align: top;\n",
       "    }\n",
       "\n",
       "    .dataframe thead th {\n",
       "        text-align: right;\n",
       "    }\n",
       "</style>\n",
       "<table border=\"1\" class=\"dataframe\">\n",
       "  <thead>\n",
       "    <tr style=\"text-align: right;\">\n",
       "      <th></th>\n",
       "      <th>Count</th>\n",
       "      <th>% of count</th>\n",
       "    </tr>\n",
       "    <tr>\n",
       "      <th>default_time</th>\n",
       "      <th></th>\n",
       "      <th></th>\n",
       "    </tr>\n",
       "  </thead>\n",
       "  <tbody>\n",
       "    <tr>\n",
       "      <th>0</th>\n",
       "      <td>34846</td>\n",
       "      <td>69.69%</td>\n",
       "    </tr>\n",
       "    <tr>\n",
       "      <th>1</th>\n",
       "      <td>15154</td>\n",
       "      <td>30.31%</td>\n",
       "    </tr>\n",
       "  </tbody>\n",
       "</table>\n",
       "</div>"
      ],
      "text/plain": [
       "              Count % of count\n",
       "default_time                  \n",
       "0             34846     69.69%\n",
       "1             15154     30.31%"
      ]
     },
     "execution_count": 1226,
     "metadata": {},
     "output_type": "execute_result"
    }
   ],
   "source": [
    "# summary de la varaible cible\n",
    "endog = df[\"default_time\"]\n",
    "proportion = (df.groupby([\"default_time\"]).size())\n",
    "d1 = (((((df.groupby([\"default_time\"]).size()) / df.shape[0])*100).round(2)).to_frame(\"% of count\")).astype(\"string\")+\"%\"\n",
    "resume = pd.concat([proportion.to_frame(\"Count\"), d1],axis=1)\n",
    "resume"
   ]
  },
  {
   "cell_type": "code",
   "execution_count": 1227,
   "metadata": {
    "colab": {
     "base_uri": "https://localhost:8080/",
     "height": 429
    },
    "id": "7ijMpiseseX4",
    "outputId": "84013ca0-4568-48c7-c6d1-b26bd60f9dce"
   },
   "outputs": [
    {
     "data": {
      "image/png": "[encoded data removed]",
      "text/plain": [
       "<Figure size 864x504 with 1 Axes>"
      ]
     },
     "metadata": {},
     "output_type": "display_data"
    }
   ],
   "source": [
    "# representation de la distrubution de la variable cible\n",
    "\n",
    "cible = proportion.to_frame(\"count\")\n",
    "cible = cible.reset_index()\n",
    "\n",
    "plt.figure(figsize=(12,7))\n",
    "plt.bar(cible[\"default_time\"] ,cible[\"count\"])\n",
    "plt.xticks(ticks=list(range(2)),labels=[\"None_Default\",\"Defaut\"]);"
   ]
  },
  {
   "cell_type": "markdown",
   "metadata": {
    "id": "eorj9pLrz_LU"
   },
   "source": [
    "<h1><u>Analyse exploratoire des données</u></h1>"
   ]
  },
  {
   "cell_type": "markdown",
   "metadata": {},
   "source": [
    "### identification des variables categorielles et continues"
   ]
  },
  {
   "cell_type": "code",
   "execution_count": 1228,
   "metadata": {
    "id": "E2XUHIbqsaV9"
   },
   "outputs": [],
   "source": [
    "categorical_variable = list(df.nunique()[df.nunique()<4].index)\n",
    "continuous_var = list(df.nunique()[df.nunique()>4].index)"
   ]
  },
  {
   "cell_type": "code",
   "execution_count": 1229,
   "metadata": {
    "id": "CSoDwsIZxS07"
   },
   "outputs": [],
   "source": [
    "try:\n",
    "    if \"default_time\" in categorical_variable or \"id\" in continuous_var:\n",
    "        categorical_variable.remove(\"default_time\")\n",
    "        continuous_var.remove(\"id\")\n",
    "    else:\n",
    "        pass\n",
    "except Exception as e:\n",
    "    pass"
   ]
  },
  {
   "cell_type": "markdown",
   "metadata": {},
   "source": [
    "### statistique descriptif"
   ]
  },
  {
   "cell_type": "code",
   "execution_count": 1230,
   "metadata": {},
   "outputs": [],
   "source": [
    "def statistique(data,var):\n",
    "    \n",
    "    a = data[var].describe().T.round(3)[[\"count\",\"mean\",\"std\",\"min\",\"50%\",\"max\"]]\n",
    "    a[\"cv\"] = a['std'] / a['mean']\n",
    "    \n",
    "    return a"
   ]
  },
  {
   "cell_type": "code",
   "execution_count": 1231,
   "metadata": {},
   "outputs": [
    {
     "data": {
      "text/plain": [
       "'Type immobilier (copropriété = 1, sinon = 0)'"
      ]
     },
     "execution_count": 1231,
     "metadata": {},
     "output_type": "execute_result"
    }
   ],
   "source": [
    "description(\"REtype_CO_orig_time\")"
   ]
  },
  {
   "cell_type": "code",
   "execution_count": 1232,
   "metadata": {},
   "outputs": [
    {
     "data": {
      "text/html": [
       "<div>\n",
       "<style scoped>\n",
       "    .dataframe tbody tr th:only-of-type {\n",
       "        vertical-align: middle;\n",
       "    }\n",
       "\n",
       "    .dataframe tbody tr th {\n",
       "        vertical-align: top;\n",
       "    }\n",
       "\n",
       "    .dataframe thead th {\n",
       "        text-align: right;\n",
       "    }\n",
       "</style>\n",
       "<table border=\"1\" class=\"dataframe\">\n",
       "  <thead>\n",
       "    <tr style=\"text-align: right;\">\n",
       "      <th></th>\n",
       "      <th>count</th>\n",
       "      <th>mean</th>\n",
       "      <th>std</th>\n",
       "      <th>min</th>\n",
       "      <th>50%</th>\n",
       "      <th>max</th>\n",
       "      <th>cv</th>\n",
       "    </tr>\n",
       "  </thead>\n",
       "  <tbody>\n",
       "    <tr>\n",
       "      <th>time</th>\n",
       "      <td>50000.0</td>\n",
       "      <td>36.171</td>\n",
       "      <td>13.993</td>\n",
       "      <td>1.000</td>\n",
       "      <td>32.000</td>\n",
       "      <td>60.000</td>\n",
       "      <td>0.386857</td>\n",
       "    </tr>\n",
       "    <tr>\n",
       "      <th>orig_time</th>\n",
       "      <td>50000.0</td>\n",
       "      <td>20.388</td>\n",
       "      <td>7.881</td>\n",
       "      <td>-40.000</td>\n",
       "      <td>22.000</td>\n",
       "      <td>60.000</td>\n",
       "      <td>0.386551</td>\n",
       "    </tr>\n",
       "    <tr>\n",
       "      <th>first_time</th>\n",
       "      <td>50000.0</td>\n",
       "      <td>24.696</td>\n",
       "      <td>7.898</td>\n",
       "      <td>1.000</td>\n",
       "      <td>25.000</td>\n",
       "      <td>60.000</td>\n",
       "      <td>0.319809</td>\n",
       "    </tr>\n",
       "    <tr>\n",
       "      <th>mat_time</th>\n",
       "      <td>50000.0</td>\n",
       "      <td>137.924</td>\n",
       "      <td>17.944</td>\n",
       "      <td>18.000</td>\n",
       "      <td>141.000</td>\n",
       "      <td>229.000</td>\n",
       "      <td>0.130101</td>\n",
       "    </tr>\n",
       "    <tr>\n",
       "      <th>balance_time</th>\n",
       "      <td>50000.0</td>\n",
       "      <td>238968.146</td>\n",
       "      <td>203090.539</td>\n",
       "      <td>0.000</td>\n",
       "      <td>183554.525</td>\n",
       "      <td>8688100.840</td>\n",
       "      <td>0.849864</td>\n",
       "    </tr>\n",
       "    <tr>\n",
       "      <th>LTV_time</th>\n",
       "      <td>50000.0</td>\n",
       "      <td>79.312</td>\n",
       "      <td>25.128</td>\n",
       "      <td>0.000</td>\n",
       "      <td>78.727</td>\n",
       "      <td>616.985</td>\n",
       "      <td>0.316825</td>\n",
       "    </tr>\n",
       "    <tr>\n",
       "      <th>interest_rate_time</th>\n",
       "      <td>50000.0</td>\n",
       "      <td>7.015</td>\n",
       "      <td>2.214</td>\n",
       "      <td>0.000</td>\n",
       "      <td>7.000</td>\n",
       "      <td>37.500</td>\n",
       "      <td>0.315609</td>\n",
       "    </tr>\n",
       "    <tr>\n",
       "      <th>hpi_time</th>\n",
       "      <td>50000.0</td>\n",
       "      <td>190.292</td>\n",
       "      <td>26.286</td>\n",
       "      <td>107.830</td>\n",
       "      <td>189.820</td>\n",
       "      <td>226.290</td>\n",
       "      <td>0.138135</td>\n",
       "    </tr>\n",
       "    <tr>\n",
       "      <th>gdp_time</th>\n",
       "      <td>50000.0</td>\n",
       "      <td>1.690</td>\n",
       "      <td>1.918</td>\n",
       "      <td>-4.147</td>\n",
       "      <td>2.274</td>\n",
       "      <td>5.132</td>\n",
       "      <td>1.134911</td>\n",
       "    </tr>\n",
       "    <tr>\n",
       "      <th>uer_time</th>\n",
       "      <td>50000.0</td>\n",
       "      <td>6.001</td>\n",
       "      <td>1.675</td>\n",
       "      <td>3.800</td>\n",
       "      <td>5.500</td>\n",
       "      <td>10.000</td>\n",
       "      <td>0.279120</td>\n",
       "    </tr>\n",
       "    <tr>\n",
       "      <th>balance_orig_time</th>\n",
       "      <td>50000.0</td>\n",
       "      <td>251972.961</td>\n",
       "      <td>208867.611</td>\n",
       "      <td>0.000</td>\n",
       "      <td>192000.000</td>\n",
       "      <td>8000000.000</td>\n",
       "      <td>0.828929</td>\n",
       "    </tr>\n",
       "    <tr>\n",
       "      <th>FICO_orig_time</th>\n",
       "      <td>50000.0</td>\n",
       "      <td>661.298</td>\n",
       "      <td>72.795</td>\n",
       "      <td>400.000</td>\n",
       "      <td>663.000</td>\n",
       "      <td>840.000</td>\n",
       "      <td>0.110079</td>\n",
       "    </tr>\n",
       "    <tr>\n",
       "      <th>LTV_orig_time</th>\n",
       "      <td>50000.0</td>\n",
       "      <td>79.707</td>\n",
       "      <td>9.920</td>\n",
       "      <td>50.100</td>\n",
       "      <td>80.000</td>\n",
       "      <td>218.500</td>\n",
       "      <td>0.124456</td>\n",
       "    </tr>\n",
       "    <tr>\n",
       "      <th>Interest_Rate_orig_time</th>\n",
       "      <td>50000.0</td>\n",
       "      <td>5.442</td>\n",
       "      <td>3.288</td>\n",
       "      <td>0.000</td>\n",
       "      <td>6.375</td>\n",
       "      <td>19.750</td>\n",
       "      <td>0.604190</td>\n",
       "    </tr>\n",
       "    <tr>\n",
       "      <th>hpi_orig_time</th>\n",
       "      <td>50000.0</td>\n",
       "      <td>196.366</td>\n",
       "      <td>34.353</td>\n",
       "      <td>75.710</td>\n",
       "      <td>212.730</td>\n",
       "      <td>226.290</td>\n",
       "      <td>0.174944</td>\n",
       "    </tr>\n",
       "    <tr>\n",
       "      <th>LTV</th>\n",
       "      <td>50000.0</td>\n",
       "      <td>-0.396</td>\n",
       "      <td>23.457</td>\n",
       "      <td>-133.566</td>\n",
       "      <td>-0.300</td>\n",
       "      <td>551.385</td>\n",
       "      <td>-59.234848</td>\n",
       "    </tr>\n",
       "    <tr>\n",
       "      <th>interest_rate</th>\n",
       "      <td>50000.0</td>\n",
       "      <td>1.573</td>\n",
       "      <td>3.456</td>\n",
       "      <td>-11.875</td>\n",
       "      <td>0.000</td>\n",
       "      <td>37.500</td>\n",
       "      <td>2.197076</td>\n",
       "    </tr>\n",
       "    <tr>\n",
       "      <th>HPI</th>\n",
       "      <td>50000.0</td>\n",
       "      <td>-6.075</td>\n",
       "      <td>44.480</td>\n",
       "      <td>-79.840</td>\n",
       "      <td>-6.940</td>\n",
       "      <td>149.610</td>\n",
       "      <td>-7.321811</td>\n",
       "    </tr>\n",
       "    <tr>\n",
       "      <th>balance</th>\n",
       "      <td>50000.0</td>\n",
       "      <td>-13004.815</td>\n",
       "      <td>49167.776</td>\n",
       "      <td>-2251328.120</td>\n",
       "      <td>-1792.455</td>\n",
       "      <td>688100.840</td>\n",
       "      <td>-3.780736</td>\n",
       "    </tr>\n",
       "  </tbody>\n",
       "</table>\n",
       "</div>"
      ],
      "text/plain": [
       "                           count        mean         std          min  \\\n",
       "time                     50000.0      36.171      13.993        1.000   \n",
       "orig_time                50000.0      20.388       7.881      -40.000   \n",
       "first_time               50000.0      24.696       7.898        1.000   \n",
       "mat_time                 50000.0     137.924      17.944       18.000   \n",
       "balance_time             50000.0  238968.146  203090.539        0.000   \n",
       "LTV_time                 50000.0      79.312      25.128        0.000   \n",
       "interest_rate_time       50000.0       7.015       2.214        0.000   \n",
       "hpi_time                 50000.0     190.292      26.286      107.830   \n",
       "gdp_time                 50000.0       1.690       1.918       -4.147   \n",
       "uer_time                 50000.0       6.001       1.675        3.800   \n",
       "balance_orig_time        50000.0  251972.961  208867.611        0.000   \n",
       "FICO_orig_time           50000.0     661.298      72.795      400.000   \n",
       "LTV_orig_time            50000.0      79.707       9.920       50.100   \n",
       "Interest_Rate_orig_time  50000.0       5.442       3.288        0.000   \n",
       "hpi_orig_time            50000.0     196.366      34.353       75.710   \n",
       "LTV                      50000.0      -0.396      23.457     -133.566   \n",
       "interest_rate            50000.0       1.573       3.456      -11.875   \n",
       "HPI                      50000.0      -6.075      44.480      -79.840   \n",
       "balance                  50000.0  -13004.815   49167.776 -2251328.120   \n",
       "\n",
       "                                50%          max         cv  \n",
       "time                         32.000       60.000   0.386857  \n",
       "orig_time                    22.000       60.000   0.386551  \n",
       "first_time                   25.000       60.000   0.319809  \n",
       "mat_time                    141.000      229.000   0.130101  \n",
       "balance_time             183554.525  8688100.840   0.849864  \n",
       "LTV_time                     78.727      616.985   0.316825  \n",
       "interest_rate_time            7.000       37.500   0.315609  \n",
       "hpi_time                    189.820      226.290   0.138135  \n",
       "gdp_time                      2.274        5.132   1.134911  \n",
       "uer_time                      5.500       10.000   0.279120  \n",
       "balance_orig_time        192000.000  8000000.000   0.828929  \n",
       "FICO_orig_time              663.000      840.000   0.110079  \n",
       "LTV_orig_time                80.000      218.500   0.124456  \n",
       "Interest_Rate_orig_time       6.375       19.750   0.604190  \n",
       "hpi_orig_time               212.730      226.290   0.174944  \n",
       "LTV                          -0.300      551.385 -59.234848  \n",
       "interest_rate                 0.000       37.500   2.197076  \n",
       "HPI                          -6.940      149.610  -7.321811  \n",
       "balance                   -1792.455   688100.840  -3.780736  "
      ]
     },
     "execution_count": 1232,
     "metadata": {},
     "output_type": "execute_result"
    }
   ],
   "source": [
    "# stat varaible continue\n",
    "statistique(df,continuous_var)"
   ]
  },
  {
   "cell_type": "markdown",
   "metadata": {
    "id": "B0a9F5zRjX7H"
   },
   "source": [
    "Analyse visuelle des variables continues\n",
    "--"
   ]
  },
  {
   "cell_type": "code",
   "execution_count": 1233,
   "metadata": {
    "colab": {
     "base_uri": "https://localhost:8080/",
     "height": 585
    },
    "id": "gTGFUoHOsV1T",
    "outputId": "e8c0760d-8946-483c-ccb9-dfdb0cac7aee"
   },
   "outputs": [
    {
     "data": {
      "image/png": "[encoded data removed]",
      "text/plain": [
       "<Figure size 1440x864 with 20 Axes>"
      ]
     },
     "metadata": {},
     "output_type": "display_data"
    }
   ],
   "source": [
    "df.hist(continuous_var[1:], figsize=(20,12));"
   ]
  },
  {
   "cell_type": "code",
   "execution_count": 1234,
   "metadata": {},
   "outputs": [],
   "source": [
    "def describe(data,var):\n",
    "    pro = (data.groupby([var]).size())\n",
    "    d11 = (((((data.groupby([var]).size()) / data.shape[0])*100).round(2)).to_frame(\"% of count\")).astype(\"string\")+\"%\"\n",
    "    res = pd.concat([pro.to_frame(\"Count\"), d11],axis=1)\n",
    "    return res"
   ]
  },
  {
   "cell_type": "code",
   "execution_count": 1235,
   "metadata": {},
   "outputs": [
    {
     "name": "stdout",
     "output_type": "stream",
     "text": [
      "Type immobilier (copropriété = 1, sinon = 0)\n"
     ]
    },
    {
     "data": {
      "text/html": [
       "<div>\n",
       "<style scoped>\n",
       "    .dataframe tbody tr th:only-of-type {\n",
       "        vertical-align: middle;\n",
       "    }\n",
       "\n",
       "    .dataframe tbody tr th {\n",
       "        vertical-align: top;\n",
       "    }\n",
       "\n",
       "    .dataframe thead th {\n",
       "        text-align: right;\n",
       "    }\n",
       "</style>\n",
       "<table border=\"1\" class=\"dataframe\">\n",
       "  <thead>\n",
       "    <tr style=\"text-align: right;\">\n",
       "      <th></th>\n",
       "      <th>Count</th>\n",
       "      <th>% of count</th>\n",
       "    </tr>\n",
       "    <tr>\n",
       "      <th>REtype_CO_orig_time</th>\n",
       "      <th></th>\n",
       "      <th></th>\n",
       "    </tr>\n",
       "  </thead>\n",
       "  <tbody>\n",
       "    <tr>\n",
       "      <th>0</th>\n",
       "      <td>46752</td>\n",
       "      <td>93.5%</td>\n",
       "    </tr>\n",
       "    <tr>\n",
       "      <th>1</th>\n",
       "      <td>3248</td>\n",
       "      <td>6.5%</td>\n",
       "    </tr>\n",
       "  </tbody>\n",
       "</table>\n",
       "</div>"
      ],
      "text/plain": [
       "                     Count % of count\n",
       "REtype_CO_orig_time                  \n",
       "0                    46752      93.5%\n",
       "1                     3248       6.5%"
      ]
     },
     "metadata": {},
     "output_type": "display_data"
    },
    {
     "name": "stdout",
     "output_type": "stream",
     "text": [
      "\n",
      "\n",
      "\n",
      "Type de bien immobilier (développement urbain planifié = 1, sinon = 0)\n"
     ]
    },
    {
     "data": {
      "text/html": [
       "<div>\n",
       "<style scoped>\n",
       "    .dataframe tbody tr th:only-of-type {\n",
       "        vertical-align: middle;\n",
       "    }\n",
       "\n",
       "    .dataframe tbody tr th {\n",
       "        vertical-align: top;\n",
       "    }\n",
       "\n",
       "    .dataframe thead th {\n",
       "        text-align: right;\n",
       "    }\n",
       "</style>\n",
       "<table border=\"1\" class=\"dataframe\">\n",
       "  <thead>\n",
       "    <tr style=\"text-align: right;\">\n",
       "      <th></th>\n",
       "      <th>Count</th>\n",
       "      <th>% of count</th>\n",
       "    </tr>\n",
       "    <tr>\n",
       "      <th>REtype_PU_orig_time</th>\n",
       "      <th></th>\n",
       "      <th></th>\n",
       "    </tr>\n",
       "  </thead>\n",
       "  <tbody>\n",
       "    <tr>\n",
       "      <th>0</th>\n",
       "      <td>44206</td>\n",
       "      <td>88.41%</td>\n",
       "    </tr>\n",
       "    <tr>\n",
       "      <th>1</th>\n",
       "      <td>5794</td>\n",
       "      <td>11.59%</td>\n",
       "    </tr>\n",
       "  </tbody>\n",
       "</table>\n",
       "</div>"
      ],
      "text/plain": [
       "                     Count % of count\n",
       "REtype_PU_orig_time                  \n",
       "0                    44206     88.41%\n",
       "1                     5794     11.59%"
      ]
     },
     "metadata": {},
     "output_type": "display_data"
    },
    {
     "name": "stdout",
     "output_type": "stream",
     "text": [
      "\n",
      "\n",
      "\n",
      "Type de Maison (unifamiliale = 1, sinon = 0)\n"
     ]
    },
    {
     "data": {
      "text/html": [
       "<div>\n",
       "<style scoped>\n",
       "    .dataframe tbody tr th:only-of-type {\n",
       "        vertical-align: middle;\n",
       "    }\n",
       "\n",
       "    .dataframe tbody tr th {\n",
       "        vertical-align: top;\n",
       "    }\n",
       "\n",
       "    .dataframe thead th {\n",
       "        text-align: right;\n",
       "    }\n",
       "</style>\n",
       "<table border=\"1\" class=\"dataframe\">\n",
       "  <thead>\n",
       "    <tr style=\"text-align: right;\">\n",
       "      <th></th>\n",
       "      <th>Count</th>\n",
       "      <th>% of count</th>\n",
       "    </tr>\n",
       "    <tr>\n",
       "      <th>REtype_SF_orig_time</th>\n",
       "      <th></th>\n",
       "      <th></th>\n",
       "    </tr>\n",
       "  </thead>\n",
       "  <tbody>\n",
       "    <tr>\n",
       "      <th>0</th>\n",
       "      <td>18813</td>\n",
       "      <td>37.63%</td>\n",
       "    </tr>\n",
       "    <tr>\n",
       "      <th>1</th>\n",
       "      <td>31187</td>\n",
       "      <td>62.37%</td>\n",
       "    </tr>\n",
       "  </tbody>\n",
       "</table>\n",
       "</div>"
      ],
      "text/plain": [
       "                     Count % of count\n",
       "REtype_SF_orig_time                  \n",
       "0                    18813     37.63%\n",
       "1                    31187     62.37%"
      ]
     },
     "metadata": {},
     "output_type": "display_data"
    },
    {
     "name": "stdout",
     "output_type": "stream",
     "text": [
      "\n",
      "\n",
      "\n",
      "Investisseur (emprunteur = 1, sinon = 0)\n"
     ]
    },
    {
     "data": {
      "text/html": [
       "<div>\n",
       "<style scoped>\n",
       "    .dataframe tbody tr th:only-of-type {\n",
       "        vertical-align: middle;\n",
       "    }\n",
       "\n",
       "    .dataframe tbody tr th {\n",
       "        vertical-align: top;\n",
       "    }\n",
       "\n",
       "    .dataframe thead th {\n",
       "        text-align: right;\n",
       "    }\n",
       "</style>\n",
       "<table border=\"1\" class=\"dataframe\">\n",
       "  <thead>\n",
       "    <tr style=\"text-align: right;\">\n",
       "      <th></th>\n",
       "      <th>Count</th>\n",
       "      <th>% of count</th>\n",
       "    </tr>\n",
       "    <tr>\n",
       "      <th>investor_orig_time</th>\n",
       "      <th></th>\n",
       "      <th></th>\n",
       "    </tr>\n",
       "  </thead>\n",
       "  <tbody>\n",
       "    <tr>\n",
       "      <th>0</th>\n",
       "      <td>44080</td>\n",
       "      <td>88.16%</td>\n",
       "    </tr>\n",
       "    <tr>\n",
       "      <th>1</th>\n",
       "      <td>5920</td>\n",
       "      <td>11.84%</td>\n",
       "    </tr>\n",
       "  </tbody>\n",
       "</table>\n",
       "</div>"
      ],
      "text/plain": [
       "                    Count % of count\n",
       "investor_orig_time                  \n",
       "0                   44080     88.16%\n",
       "1                    5920     11.84%"
      ]
     },
     "metadata": {},
     "output_type": "display_data"
    },
    {
     "name": "stdout",
     "output_type": "stream",
     "text": [
      "\n",
      "\n",
      "\n",
      "Observation du gain au moment de l’observation\n"
     ]
    },
    {
     "data": {
      "text/html": [
       "<div>\n",
       "<style scoped>\n",
       "    .dataframe tbody tr th:only-of-type {\n",
       "        vertical-align: middle;\n",
       "    }\n",
       "\n",
       "    .dataframe tbody tr th {\n",
       "        vertical-align: top;\n",
       "    }\n",
       "\n",
       "    .dataframe thead th {\n",
       "        text-align: right;\n",
       "    }\n",
       "</style>\n",
       "<table border=\"1\" class=\"dataframe\">\n",
       "  <thead>\n",
       "    <tr style=\"text-align: right;\">\n",
       "      <th></th>\n",
       "      <th>Count</th>\n",
       "      <th>% of count</th>\n",
       "    </tr>\n",
       "    <tr>\n",
       "      <th>payoff_time</th>\n",
       "      <th></th>\n",
       "      <th></th>\n",
       "    </tr>\n",
       "  </thead>\n",
       "  <tbody>\n",
       "    <tr>\n",
       "      <th>0</th>\n",
       "      <td>23418</td>\n",
       "      <td>46.84%</td>\n",
       "    </tr>\n",
       "    <tr>\n",
       "      <th>1</th>\n",
       "      <td>26582</td>\n",
       "      <td>53.16%</td>\n",
       "    </tr>\n",
       "  </tbody>\n",
       "</table>\n",
       "</div>"
      ],
      "text/plain": [
       "             Count % of count\n",
       "payoff_time                  \n",
       "0            23418     46.84%\n",
       "1            26582     53.16%"
      ]
     },
     "metadata": {},
     "output_type": "display_data"
    },
    {
     "name": "stdout",
     "output_type": "stream",
     "text": [
      "\n",
      "\n",
      "\n",
      "Défaut (1), gain (2) et observation hors défaut/non-paiement (0) au moment de l’observation\n"
     ]
    },
    {
     "data": {
      "text/html": [
       "<div>\n",
       "<style scoped>\n",
       "    .dataframe tbody tr th:only-of-type {\n",
       "        vertical-align: middle;\n",
       "    }\n",
       "\n",
       "    .dataframe tbody tr th {\n",
       "        vertical-align: top;\n",
       "    }\n",
       "\n",
       "    .dataframe thead th {\n",
       "        text-align: right;\n",
       "    }\n",
       "</style>\n",
       "<table border=\"1\" class=\"dataframe\">\n",
       "  <thead>\n",
       "    <tr style=\"text-align: right;\">\n",
       "      <th></th>\n",
       "      <th>Count</th>\n",
       "      <th>% of count</th>\n",
       "    </tr>\n",
       "    <tr>\n",
       "      <th>status_time</th>\n",
       "      <th></th>\n",
       "      <th></th>\n",
       "    </tr>\n",
       "  </thead>\n",
       "  <tbody>\n",
       "    <tr>\n",
       "      <th>0</th>\n",
       "      <td>8264</td>\n",
       "      <td>16.53%</td>\n",
       "    </tr>\n",
       "    <tr>\n",
       "      <th>1</th>\n",
       "      <td>15154</td>\n",
       "      <td>30.31%</td>\n",
       "    </tr>\n",
       "    <tr>\n",
       "      <th>2</th>\n",
       "      <td>26582</td>\n",
       "      <td>53.16%</td>\n",
       "    </tr>\n",
       "  </tbody>\n",
       "</table>\n",
       "</div>"
      ],
      "text/plain": [
       "             Count % of count\n",
       "status_time                  \n",
       "0             8264     16.53%\n",
       "1            15154     30.31%\n",
       "2            26582     53.16%"
      ]
     },
     "metadata": {},
     "output_type": "display_data"
    },
    {
     "name": "stdout",
     "output_type": "stream",
     "text": [
      "\n",
      "\n",
      "\n"
     ]
    }
   ],
   "source": [
    "# stat varaible categorielle\n",
    "for c in categorical_variable:\n",
    "    print(description(c))\n",
    "    display(describe(df,c))\n",
    "    print(\"\\n\\n\")\n",
    "    "
   ]
  },
  {
   "cell_type": "markdown",
   "metadata": {
    "id": "G2dgykIWjMpG"
   },
   "source": [
    "Analyse visuelle des variables categorielle\n",
    "--"
   ]
  },
  {
   "cell_type": "code",
   "execution_count": 1236,
   "metadata": {
    "id": "1-9fd5wXsVgE"
   },
   "outputs": [],
   "source": [
    "def BarCharts(Data, categorical_columns):\n",
    "    \n",
    "    fig, subPlot=plt.subplots(nrows=1, ncols=len(categorical_columns), figsize=(30,6))\n",
    "    fig.suptitle('Bar charts of: '+ str(categorical_columns))\n",
    "\n",
    "    for colName, plotNumber in zip(categorical_columns, range(len(categorical_columns))):\n",
    "        Data.groupby(colName).size().plot(kind='bar',ax=subPlot[plotNumber])"
   ]
  },
  {
   "cell_type": "code",
   "execution_count": 1237,
   "metadata": {
    "colab": {
     "base_uri": "https://localhost:8080/",
     "height": 260
    },
    "id": "ljrdJh4LsVwC",
    "outputId": "fbff1632-f33b-4f45-ef7c-4c1323208c71"
   },
   "outputs": [
    {
     "data": {
      "image/png": "[encoded data removed]",
      "text/plain": [
       "<Figure size 2160x432 with 3 Axes>"
      ]
     },
     "metadata": {},
     "output_type": "display_data"
    }
   ],
   "source": [
    "BarCharts(df,categorical_variable[:3])"
   ]
  },
  {
   "cell_type": "code",
   "execution_count": 1238,
   "metadata": {
    "colab": {
     "base_uri": "https://localhost:8080/",
     "height": 260
    },
    "id": "CYlwVf0QsVyT",
    "outputId": "0708eafd-7987-4e37-adab-27fb811692c8"
   },
   "outputs": [
    {
     "data": {
      "image/png": "[encoded data removed]",
      "text/plain": [
       "<Figure size 2160x432 with 3 Axes>"
      ]
     },
     "metadata": {},
     "output_type": "display_data"
    }
   ],
   "source": [
    "BarCharts(df,categorical_variable[3:])"
   ]
  },
  {
   "cell_type": "markdown",
   "metadata": {},
   "source": [
    "### construction de profile de risque et statistique croiser avec la variable cible ``default_time``"
   ]
  },
  {
   "cell_type": "code",
   "execution_count": 1239,
   "metadata": {},
   "outputs": [],
   "source": [
    "class RiskProfil(object):\n",
    "    \n",
    "    def __init__(self,data):\n",
    "\n",
    "        self.data = data\n",
    "\n",
    "    def continuous_profile(self,target,continous):\n",
    "    \n",
    "        z_continous = (self.data.groupby(target)[continous].mean().T).round(3)\n",
    "        z_continous.columns = [\"Default\",\"None default\"]\n",
    "        z_continous = z_continous[:]\n",
    "    \n",
    "        return z_continous\n",
    "      \n",
    "    def Crosstable(self,target,variable):\n",
    "        \n",
    "        crosstab = ((pd.crosstab(index=self.data[target],columns=self.data[variable],margins=\"all\") / len(df[variable]))*100).round(2).astype(\"string\")+\"%\"\n",
    "        return crosstab.loc[0:1]\n"
   ]
  },
  {
   "cell_type": "code",
   "execution_count": 1240,
   "metadata": {},
   "outputs": [],
   "source": [
    "risk = RiskProfil(df)"
   ]
  },
  {
   "cell_type": "code",
   "execution_count": 1241,
   "metadata": {},
   "outputs": [
    {
     "name": "stdout",
     "output_type": "stream",
     "text": [
      "Type immobilier (copropriété = 1, sinon = 0)\n"
     ]
    },
    {
     "data": {
      "text/html": [
       "<div>\n",
       "<style scoped>\n",
       "    .dataframe tbody tr th:only-of-type {\n",
       "        vertical-align: middle;\n",
       "    }\n",
       "\n",
       "    .dataframe tbody tr th {\n",
       "        vertical-align: top;\n",
       "    }\n",
       "\n",
       "    .dataframe thead th {\n",
       "        text-align: right;\n",
       "    }\n",
       "</style>\n",
       "<table border=\"1\" class=\"dataframe\">\n",
       "  <thead>\n",
       "    <tr style=\"text-align: right;\">\n",
       "      <th>REtype_CO_orig_time</th>\n",
       "      <th>0</th>\n",
       "      <th>1</th>\n",
       "      <th>All</th>\n",
       "    </tr>\n",
       "    <tr>\n",
       "      <th>default_time</th>\n",
       "      <th></th>\n",
       "      <th></th>\n",
       "      <th></th>\n",
       "    </tr>\n",
       "  </thead>\n",
       "  <tbody>\n",
       "    <tr>\n",
       "      <th>0</th>\n",
       "      <td>65.24%</td>\n",
       "      <td>4.45%</td>\n",
       "      <td>69.69%</td>\n",
       "    </tr>\n",
       "    <tr>\n",
       "      <th>1</th>\n",
       "      <td>28.26%</td>\n",
       "      <td>2.04%</td>\n",
       "      <td>30.31%</td>\n",
       "    </tr>\n",
       "  </tbody>\n",
       "</table>\n",
       "</div>"
      ],
      "text/plain": [
       "REtype_CO_orig_time       0      1     All\n",
       "default_time                              \n",
       "0                    65.24%  4.45%  69.69%\n",
       "1                    28.26%  2.04%  30.31%"
      ]
     },
     "metadata": {},
     "output_type": "display_data"
    },
    {
     "name": "stdout",
     "output_type": "stream",
     "text": [
      "\n",
      "\n",
      "\n",
      "Type de bien immobilier (développement urbain planifié = 1, sinon = 0)\n"
     ]
    },
    {
     "data": {
      "text/html": [
       "<div>\n",
       "<style scoped>\n",
       "    .dataframe tbody tr th:only-of-type {\n",
       "        vertical-align: middle;\n",
       "    }\n",
       "\n",
       "    .dataframe tbody tr th {\n",
       "        vertical-align: top;\n",
       "    }\n",
       "\n",
       "    .dataframe thead th {\n",
       "        text-align: right;\n",
       "    }\n",
       "</style>\n",
       "<table border=\"1\" class=\"dataframe\">\n",
       "  <thead>\n",
       "    <tr style=\"text-align: right;\">\n",
       "      <th>REtype_PU_orig_time</th>\n",
       "      <th>0</th>\n",
       "      <th>1</th>\n",
       "      <th>All</th>\n",
       "    </tr>\n",
       "    <tr>\n",
       "      <th>default_time</th>\n",
       "      <th></th>\n",
       "      <th></th>\n",
       "      <th></th>\n",
       "    </tr>\n",
       "  </thead>\n",
       "  <tbody>\n",
       "    <tr>\n",
       "      <th>0</th>\n",
       "      <td>61.81%</td>\n",
       "      <td>7.88%</td>\n",
       "      <td>69.69%</td>\n",
       "    </tr>\n",
       "    <tr>\n",
       "      <th>1</th>\n",
       "      <td>26.6%</td>\n",
       "      <td>3.71%</td>\n",
       "      <td>30.31%</td>\n",
       "    </tr>\n",
       "  </tbody>\n",
       "</table>\n",
       "</div>"
      ],
      "text/plain": [
       "REtype_PU_orig_time       0      1     All\n",
       "default_time                              \n",
       "0                    61.81%  7.88%  69.69%\n",
       "1                     26.6%  3.71%  30.31%"
      ]
     },
     "metadata": {},
     "output_type": "display_data"
    },
    {
     "name": "stdout",
     "output_type": "stream",
     "text": [
      "\n",
      "\n",
      "\n",
      "Type de Maison (unifamiliale = 1, sinon = 0)\n"
     ]
    },
    {
     "data": {
      "text/html": [
       "<div>\n",
       "<style scoped>\n",
       "    .dataframe tbody tr th:only-of-type {\n",
       "        vertical-align: middle;\n",
       "    }\n",
       "\n",
       "    .dataframe tbody tr th {\n",
       "        vertical-align: top;\n",
       "    }\n",
       "\n",
       "    .dataframe thead th {\n",
       "        text-align: right;\n",
       "    }\n",
       "</style>\n",
       "<table border=\"1\" class=\"dataframe\">\n",
       "  <thead>\n",
       "    <tr style=\"text-align: right;\">\n",
       "      <th>REtype_SF_orig_time</th>\n",
       "      <th>0</th>\n",
       "      <th>1</th>\n",
       "      <th>All</th>\n",
       "    </tr>\n",
       "    <tr>\n",
       "      <th>default_time</th>\n",
       "      <th></th>\n",
       "      <th></th>\n",
       "      <th></th>\n",
       "    </tr>\n",
       "  </thead>\n",
       "  <tbody>\n",
       "    <tr>\n",
       "      <th>0</th>\n",
       "      <td>26.2%</td>\n",
       "      <td>43.49%</td>\n",
       "      <td>69.69%</td>\n",
       "    </tr>\n",
       "    <tr>\n",
       "      <th>1</th>\n",
       "      <td>11.42%</td>\n",
       "      <td>18.88%</td>\n",
       "      <td>30.31%</td>\n",
       "    </tr>\n",
       "  </tbody>\n",
       "</table>\n",
       "</div>"
      ],
      "text/plain": [
       "REtype_SF_orig_time       0       1     All\n",
       "default_time                               \n",
       "0                     26.2%  43.49%  69.69%\n",
       "1                    11.42%  18.88%  30.31%"
      ]
     },
     "metadata": {},
     "output_type": "display_data"
    },
    {
     "name": "stdout",
     "output_type": "stream",
     "text": [
      "\n",
      "\n",
      "\n",
      "Investisseur (emprunteur = 1, sinon = 0)\n"
     ]
    },
    {
     "data": {
      "text/html": [
       "<div>\n",
       "<style scoped>\n",
       "    .dataframe tbody tr th:only-of-type {\n",
       "        vertical-align: middle;\n",
       "    }\n",
       "\n",
       "    .dataframe tbody tr th {\n",
       "        vertical-align: top;\n",
       "    }\n",
       "\n",
       "    .dataframe thead th {\n",
       "        text-align: right;\n",
       "    }\n",
       "</style>\n",
       "<table border=\"1\" class=\"dataframe\">\n",
       "  <thead>\n",
       "    <tr style=\"text-align: right;\">\n",
       "      <th>investor_orig_time</th>\n",
       "      <th>0</th>\n",
       "      <th>1</th>\n",
       "      <th>All</th>\n",
       "    </tr>\n",
       "    <tr>\n",
       "      <th>default_time</th>\n",
       "      <th></th>\n",
       "      <th></th>\n",
       "      <th></th>\n",
       "    </tr>\n",
       "  </thead>\n",
       "  <tbody>\n",
       "    <tr>\n",
       "      <th>0</th>\n",
       "      <td>61.77%</td>\n",
       "      <td>7.92%</td>\n",
       "      <td>69.69%</td>\n",
       "    </tr>\n",
       "    <tr>\n",
       "      <th>1</th>\n",
       "      <td>26.39%</td>\n",
       "      <td>3.92%</td>\n",
       "      <td>30.31%</td>\n",
       "    </tr>\n",
       "  </tbody>\n",
       "</table>\n",
       "</div>"
      ],
      "text/plain": [
       "investor_orig_time       0      1     All\n",
       "default_time                             \n",
       "0                   61.77%  7.92%  69.69%\n",
       "1                   26.39%  3.92%  30.31%"
      ]
     },
     "metadata": {},
     "output_type": "display_data"
    },
    {
     "name": "stdout",
     "output_type": "stream",
     "text": [
      "\n",
      "\n",
      "\n",
      "Observation du gain au moment de l’observation\n"
     ]
    },
    {
     "data": {
      "text/html": [
       "<div>\n",
       "<style scoped>\n",
       "    .dataframe tbody tr th:only-of-type {\n",
       "        vertical-align: middle;\n",
       "    }\n",
       "\n",
       "    .dataframe tbody tr th {\n",
       "        vertical-align: top;\n",
       "    }\n",
       "\n",
       "    .dataframe thead th {\n",
       "        text-align: right;\n",
       "    }\n",
       "</style>\n",
       "<table border=\"1\" class=\"dataframe\">\n",
       "  <thead>\n",
       "    <tr style=\"text-align: right;\">\n",
       "      <th>payoff_time</th>\n",
       "      <th>0</th>\n",
       "      <th>1</th>\n",
       "      <th>All</th>\n",
       "    </tr>\n",
       "    <tr>\n",
       "      <th>default_time</th>\n",
       "      <th></th>\n",
       "      <th></th>\n",
       "      <th></th>\n",
       "    </tr>\n",
       "  </thead>\n",
       "  <tbody>\n",
       "    <tr>\n",
       "      <th>0</th>\n",
       "      <td>16.53%</td>\n",
       "      <td>53.16%</td>\n",
       "      <td>69.69%</td>\n",
       "    </tr>\n",
       "    <tr>\n",
       "      <th>1</th>\n",
       "      <td>30.31%</td>\n",
       "      <td>0.0%</td>\n",
       "      <td>30.31%</td>\n",
       "    </tr>\n",
       "  </tbody>\n",
       "</table>\n",
       "</div>"
      ],
      "text/plain": [
       "payoff_time        0       1     All\n",
       "default_time                        \n",
       "0             16.53%  53.16%  69.69%\n",
       "1             30.31%    0.0%  30.31%"
      ]
     },
     "metadata": {},
     "output_type": "display_data"
    },
    {
     "name": "stdout",
     "output_type": "stream",
     "text": [
      "\n",
      "\n",
      "\n",
      "Défaut (1), gain (2) et observation hors défaut/non-paiement (0) au moment de l’observation\n"
     ]
    },
    {
     "data": {
      "text/html": [
       "<div>\n",
       "<style scoped>\n",
       "    .dataframe tbody tr th:only-of-type {\n",
       "        vertical-align: middle;\n",
       "    }\n",
       "\n",
       "    .dataframe tbody tr th {\n",
       "        vertical-align: top;\n",
       "    }\n",
       "\n",
       "    .dataframe thead th {\n",
       "        text-align: right;\n",
       "    }\n",
       "</style>\n",
       "<table border=\"1\" class=\"dataframe\">\n",
       "  <thead>\n",
       "    <tr style=\"text-align: right;\">\n",
       "      <th>status_time</th>\n",
       "      <th>0</th>\n",
       "      <th>1</th>\n",
       "      <th>2</th>\n",
       "      <th>All</th>\n",
       "    </tr>\n",
       "    <tr>\n",
       "      <th>default_time</th>\n",
       "      <th></th>\n",
       "      <th></th>\n",
       "      <th></th>\n",
       "      <th></th>\n",
       "    </tr>\n",
       "  </thead>\n",
       "  <tbody>\n",
       "    <tr>\n",
       "      <th>0</th>\n",
       "      <td>16.53%</td>\n",
       "      <td>0.0%</td>\n",
       "      <td>53.16%</td>\n",
       "      <td>69.69%</td>\n",
       "    </tr>\n",
       "    <tr>\n",
       "      <th>1</th>\n",
       "      <td>0.0%</td>\n",
       "      <td>30.31%</td>\n",
       "      <td>0.0%</td>\n",
       "      <td>30.31%</td>\n",
       "    </tr>\n",
       "  </tbody>\n",
       "</table>\n",
       "</div>"
      ],
      "text/plain": [
       "status_time        0       1       2     All\n",
       "default_time                                \n",
       "0             16.53%    0.0%  53.16%  69.69%\n",
       "1               0.0%  30.31%    0.0%  30.31%"
      ]
     },
     "metadata": {},
     "output_type": "display_data"
    },
    {
     "name": "stdout",
     "output_type": "stream",
     "text": [
      "\n",
      "\n",
      "\n"
     ]
    }
   ],
   "source": [
    "#qualitative variables cross stat\n",
    "\n",
    "for c in categorical_variable:\n",
    "    print(description(c))\n",
    "    display(risk.Crosstable(\"default_time\",c))\n",
    "    print(\"\\n\\n\") #moyenne de chaque varaible pour chaque classe de defaut"
   ]
  },
  {
   "cell_type": "code",
   "execution_count": 1242,
   "metadata": {},
   "outputs": [
    {
     "data": {
      "text/html": [
       "<div>\n",
       "<style scoped>\n",
       "    .dataframe tbody tr th:only-of-type {\n",
       "        vertical-align: middle;\n",
       "    }\n",
       "\n",
       "    .dataframe tbody tr th {\n",
       "        vertical-align: top;\n",
       "    }\n",
       "\n",
       "    .dataframe thead th {\n",
       "        text-align: right;\n",
       "    }\n",
       "</style>\n",
       "<table border=\"1\" class=\"dataframe\">\n",
       "  <thead>\n",
       "    <tr style=\"text-align: right;\">\n",
       "      <th></th>\n",
       "      <th>Default</th>\n",
       "      <th>None default</th>\n",
       "    </tr>\n",
       "  </thead>\n",
       "  <tbody>\n",
       "    <tr>\n",
       "      <th>time</th>\n",
       "      <td>36.375</td>\n",
       "      <td>35.702</td>\n",
       "    </tr>\n",
       "    <tr>\n",
       "      <th>orig_time</th>\n",
       "      <td>19.297</td>\n",
       "      <td>22.897</td>\n",
       "    </tr>\n",
       "    <tr>\n",
       "      <th>first_time</th>\n",
       "      <td>24.065</td>\n",
       "      <td>26.147</td>\n",
       "    </tr>\n",
       "    <tr>\n",
       "      <th>mat_time</th>\n",
       "      <td>135.780</td>\n",
       "      <td>142.853</td>\n",
       "    </tr>\n",
       "    <tr>\n",
       "      <th>balance_time</th>\n",
       "      <td>233085.461</td>\n",
       "      <td>252495.139</td>\n",
       "    </tr>\n",
       "    <tr>\n",
       "      <th>LTV_time</th>\n",
       "      <td>71.646</td>\n",
       "      <td>96.939</td>\n",
       "    </tr>\n",
       "    <tr>\n",
       "      <th>interest_rate_time</th>\n",
       "      <td>6.783</td>\n",
       "      <td>7.547</td>\n",
       "    </tr>\n",
       "    <tr>\n",
       "      <th>hpi_time</th>\n",
       "      <td>196.214</td>\n",
       "      <td>176.675</td>\n",
       "    </tr>\n",
       "    <tr>\n",
       "      <th>gdp_time</th>\n",
       "      <td>2.185</td>\n",
       "      <td>0.553</td>\n",
       "    </tr>\n",
       "    <tr>\n",
       "      <th>uer_time</th>\n",
       "      <td>5.630</td>\n",
       "      <td>6.854</td>\n",
       "    </tr>\n",
       "    <tr>\n",
       "      <th>balance_orig_time</th>\n",
       "      <td>251320.439</td>\n",
       "      <td>253473.409</td>\n",
       "    </tr>\n",
       "    <tr>\n",
       "      <th>FICO_orig_time</th>\n",
       "      <td>666.655</td>\n",
       "      <td>648.980</td>\n",
       "    </tr>\n",
       "    <tr>\n",
       "      <th>LTV_orig_time</th>\n",
       "      <td>79.134</td>\n",
       "      <td>81.026</td>\n",
       "    </tr>\n",
       "    <tr>\n",
       "      <th>Interest_Rate_orig_time</th>\n",
       "      <td>5.252</td>\n",
       "      <td>5.880</td>\n",
       "    </tr>\n",
       "    <tr>\n",
       "      <th>hpi_orig_time</th>\n",
       "      <td>190.686</td>\n",
       "      <td>209.428</td>\n",
       "    </tr>\n",
       "    <tr>\n",
       "      <th>LTV</th>\n",
       "      <td>-7.488</td>\n",
       "      <td>15.914</td>\n",
       "    </tr>\n",
       "    <tr>\n",
       "      <th>interest_rate</th>\n",
       "      <td>1.531</td>\n",
       "      <td>1.667</td>\n",
       "    </tr>\n",
       "    <tr>\n",
       "      <th>HPI</th>\n",
       "      <td>5.528</td>\n",
       "      <td>-32.754</td>\n",
       "    </tr>\n",
       "    <tr>\n",
       "      <th>balance</th>\n",
       "      <td>-18234.978</td>\n",
       "      <td>-978.270</td>\n",
       "    </tr>\n",
       "  </tbody>\n",
       "</table>\n",
       "</div>"
      ],
      "text/plain": [
       "                            Default  None default\n",
       "time                         36.375        35.702\n",
       "orig_time                    19.297        22.897\n",
       "first_time                   24.065        26.147\n",
       "mat_time                    135.780       142.853\n",
       "balance_time             233085.461    252495.139\n",
       "LTV_time                     71.646        96.939\n",
       "interest_rate_time            6.783         7.547\n",
       "hpi_time                    196.214       176.675\n",
       "gdp_time                      2.185         0.553\n",
       "uer_time                      5.630         6.854\n",
       "balance_orig_time        251320.439    253473.409\n",
       "FICO_orig_time              666.655       648.980\n",
       "LTV_orig_time                79.134        81.026\n",
       "Interest_Rate_orig_time       5.252         5.880\n",
       "hpi_orig_time               190.686       209.428\n",
       "LTV                          -7.488        15.914\n",
       "interest_rate                 1.531         1.667\n",
       "HPI                           5.528       -32.754\n",
       "balance                  -18234.978      -978.270"
      ]
     },
     "execution_count": 1242,
     "metadata": {},
     "output_type": "execute_result"
    }
   ],
   "source": [
    "#continuous varaiables cross stat\n",
    "risk.continuous_profile(\"default_time\", continuous_var) #moyenne de chaque varaible pour chaque classe de defaut"
   ]
  },
  {
   "cell_type": "code",
   "execution_count": null,
   "metadata": {
    "id": "aSyWxccWsbBT"
   },
   "outputs": [],
   "source": []
  },
  {
   "cell_type": "markdown",
   "metadata": {
    "id": "Q6tBj7CayeZV"
   },
   "source": [
    "selection des variables \n",
    "=="
   ]
  },
  {
   "cell_type": "markdown",
   "metadata": {
    "id": "VGO3U9dZjds4"
   },
   "source": [
    "Selection Automatique de variable\n",
    "=="
   ]
  },
  {
   "cell_type": "markdown",
   "metadata": {},
   "source": [
    "### construction du selecteur"
   ]
  },
  {
   "cell_type": "code",
   "execution_count": 1243,
   "metadata": {},
   "outputs": [],
   "source": [
    "def Variable_selection(selector, estimateur, X_train, y_train, X_test, Forward = False, metric = \"accuracy\", \n",
    "                 smote = False, cv = 5):  \n",
    " \n",
    "    \"\"\"\n",
    "    Cette fonction affiche pour chaque selector et estimateur, le nombre de variables\n",
    "    selectionnés, les variables selectionnées.\n",
    "    Si le selector est la RFE ou ExhaustiveFeatureSelector, la fonction affiche le score obtenu après la sélection.\n",
    "    \n",
    "    Paramètres :\n",
    "    ------\n",
    "    selector : Une méthode de sélection de variables dans {\"RFE\", \"SequentialFeatureSelector\", \"ExhaustiveFeatureSelector\"}\n",
    "                \n",
    "    estimateur : Tout algorithme de classification type sklearn \n",
    "    {LogisticRegression(),DecisionTreeClassifier(),LinearDiscriminantAnalysis(),KNeighborsClassifier(),RandomForestClassifier(), GradientBoostingClassifier(), VotingClassifier(), StackingClassifier()},\n",
    "    \n",
    "    Forward : bool (default: True)\n",
    "            Forward selection si True,\n",
    "    \n",
    "    print_estimateur : bool (default: False)\n",
    "                    Affiche le nom de l'estimateur utilisé\n",
    "    \n",
    "    Remarque :\n",
    "    ----------\n",
    "    Nous recommandons de ne pas utiliser une technique de Validation croisée avec la selection ExhaustiveFeatureSelector.\n",
    "    En effet elle l'inclut déjà.\n",
    "    \n",
    "    Examples\n",
    "    --------\n",
    "    >>>from sklearn.linear_model import LogisticRegression\n",
    "    >>>from sklearn.feature_selection import RFE\n",
    "    \n",
    "    selection(RFE, LogisticRegression(), print_estimateur = True)\n",
    "    \"\"\"\n",
    "    import time\n",
    "    import re\n",
    "    \n",
    "    if smote == True:\n",
    "\n",
    "\n",
    "        smote = SMOTE(random_state=0 ,k_neighbors=15)\n",
    "        X_train, y_train = smote.fit_resample(X_train, y_train)\n",
    "\n",
    "    if selector == RFE:\n",
    "\n",
    "        a = re.findall(r\"\\w+\", str(selector))\n",
    "        t1 = time.time()\n",
    "        nov_list=np.arange(1, X_train.shape[1]+1)            \n",
    "        high_score=0\n",
    "        nov=0           \n",
    "        score_list =[]\n",
    "        for n in range(len(nov_list)):\n",
    "            model = estimateur\n",
    "            b = re.findall(r\"[A-Za-z0-9\\(\\)\\_\\=\\,]+\", str(model))\n",
    "            sel = selector(model,n_features_to_select = nov_list[n])\n",
    "            X_train_sel = sel.fit_transform(X_train, y_train)\n",
    "            X_test_sel = sel.transform(X_test)\n",
    "            model.fit(X_train_sel,y_train)\n",
    "            scores = cross_val_score(model, X_train_sel, y_train, scoring = metric, cv = cv)\n",
    "            score = np.mean(scores)\n",
    "            score_list.append(score)\n",
    "            if(score>high_score):\n",
    "                high_score = score\n",
    "                nov = nov_list[n]\n",
    "        t2 = time.time() - t1\n",
    "        temp = pd.Series(sel.support_,index = X_train.columns)\n",
    "        variables = temp[temp==True].index\n",
    "\n",
    "    elif selector == SequentialFeatureSelector:\n",
    "        t1 = time.time()\n",
    "        a = re.findall(r\"\\w+\", str(selector))\n",
    "        model = estimateur\n",
    "        b = re.findall(r\"[A-Za-z0-9\\(\\)\\_\\=\\,]+\", str(model))\n",
    "        sfs = SequentialFeatureSelector(model, k_features = \"best\", forward = Forward, scoring = metric, cv = cv )\n",
    "        sfs.fit(X_train, y_train)\n",
    "        variables = list(sfs.k_feature_names_)\n",
    "        t2 = time.time() - t1\n",
    "        high_score = sfs.k_score_\n",
    "\n",
    "    elif selector == ExhaustiveFeatureSelector:\n",
    "        a = re.findall(r\"\\w+\", str(selector))\n",
    "        t1 = time.time()\n",
    "        model = estimateur\n",
    "        b = re.findall(r\"[A-Za-z0-9\\(\\)\\_\\=\\,]+\", str(model))\n",
    "        efs = ExhaustiveFeatureSelector(model, scoring = metric, min_features = 7, max_features = 11, cv = cv)\n",
    "        efs.fit(X_train, y_train)\n",
    "        variables = X_train.columns[list(efs.best_idx_)]\n",
    "        high_score = efs.best_score_\n",
    "        t2 = time.time() - t1\n",
    "\n",
    "    all_scores_dict = {\"Selector\" : a[-1], \"Estimateur\" : b[0], \"Score\" : high_score, \"N_Variables\": len(variables),\"Variables\" :list(variables), \"Duree(s)\" : t2 }    \n",
    "\n",
    "    return all_scores_dict"
   ]
  },
  {
   "cell_type": "code",
   "execution_count": 1244,
   "metadata": {},
   "outputs": [],
   "source": [
    "def Variable_selection_table(selectors, algos, X_train, y_train, X_test,\n",
    "                             Forward = False, metric = \"accuracy\", smote = False, cv = 5):\n",
    "    \"\"\"\n",
    "    docstring à faire\n",
    "    \"\"\"\n",
    "    dictionnaire = {\"Selector\" : [], \"Estimateur\" : [], \"Score\" : [], \"N_Variables\": [], \"Duree(s)\" : [], \"Variables\" : []}\n",
    "\n",
    "    for algo in algos:\n",
    "        for selector in selectors :\n",
    "            all_scores_dict = Variable_selection(selector, algo, X_train, y_train, X_test,  Forward = True, metric=metric, smote = smote)\n",
    "            dictionnaire[\"Selector\"].append(all_scores_dict[\"Selector\"])\n",
    "            dictionnaire[\"Estimateur\"].append(all_scores_dict[\"Estimateur\"])\n",
    "            dictionnaire[\"Score\"].append(all_scores_dict[\"Score\"])\n",
    "            dictionnaire[\"N_Variables\"].append(all_scores_dict[\"N_Variables\"])\n",
    "            dictionnaire[\"Variables\"].append(all_scores_dict[\"Variables\"])\n",
    "            dictionnaire[\"Duree(s)\"].append(all_scores_dict[\"Duree(s)\"])\n",
    "            \n",
    "    recap  = pd.DataFrame(dictionnaire)\n",
    "    recap.sort_values(by=[\"Score\"], inplace=True, ascending=False)\n",
    "    \n",
    "    return recap"
   ]
  },
  {
   "cell_type": "code",
   "execution_count": 1248,
   "metadata": {},
   "outputs": [
    {
     "name": "stdout",
     "output_type": "stream",
     "text": [
      "[INFO] creating woe binning ...\n",
      "Binning on 50000 rows and 27 columns in 00:01:31\n",
      "[INFO] converting into woe values ...\n",
      "Woe transformating on 40000 rows and 26 columns in 00:00:11\n",
      "[INFO] converting into woe values ...\n"
     ]
    }
   ],
   "source": [
    "# Création de couple target - features dans le train  et test set\n",
    "classe = sc.woebin(df, y=\"default_time\", positive=1, method=\"chimerge\",bin_num_limit=12)\n",
    "train, test = train_test_split(df, test_size = 0.2, random_state = 42)\n",
    "train_woe = sc.woebin_ply(train, classe)\n",
    "test_woe = sc.woebin_ply(test, classe)\n",
    "y_train = train_woe[\"default_time\"]\n",
    "X_train = train_woe.drop([\"default_time\"], axis =1)\n",
    "y_test = test_woe[\"default_time\"]\n",
    "X_test = test_woe.drop([\"default_time\"], axis =1)"
   ]
  },
  {
   "cell_type": "code",
   "execution_count": null,
   "metadata": {},
   "outputs": [],
   "source": []
  },
  {
   "cell_type": "code",
   "execution_count": 1249,
   "metadata": {},
   "outputs": [],
   "source": [
    "try:\n",
    "    selectors = [RFE,SequentialFeatureSelector] #ExhaustiveFeatureSelector]\n",
    "    algos = [LogisticRegression()]                   #[LogisticRegression(),GradientBoostingClassifier()]\n",
    "    tables = Variable_selection_table(selectors, algos, X_train, y_train, X_test, metric = \"roc_auc\", smote = True)\n",
    "    tables\n",
    "except Exception as e:\n",
    "    print(e.args[0])"
   ]
  },
  {
   "cell_type": "code",
   "execution_count": 1250,
   "metadata": {
    "scrolled": true
   },
   "outputs": [
    {
     "data": {
      "text/html": [
       "<div>\n",
       "<style scoped>\n",
       "    .dataframe tbody tr th:only-of-type {\n",
       "        vertical-align: middle;\n",
       "    }\n",
       "\n",
       "    .dataframe tbody tr th {\n",
       "        vertical-align: top;\n",
       "    }\n",
       "\n",
       "    .dataframe thead th {\n",
       "        text-align: right;\n",
       "    }\n",
       "</style>\n",
       "<table border=\"1\" class=\"dataframe\">\n",
       "  <thead>\n",
       "    <tr style=\"text-align: right;\">\n",
       "      <th></th>\n",
       "      <th>Selector</th>\n",
       "      <th>Estimateur</th>\n",
       "      <th>Score</th>\n",
       "      <th>N_Variables</th>\n",
       "      <th>Duree(s)</th>\n",
       "      <th>Variables</th>\n",
       "    </tr>\n",
       "  </thead>\n",
       "  <tbody>\n",
       "    <tr>\n",
       "      <th>1</th>\n",
       "      <td>SequentialFeatureSelector</td>\n",
       "      <td>LogisticRegression()</td>\n",
       "      <td>0.880785</td>\n",
       "      <td>12</td>\n",
       "      <td>530.928122</td>\n",
       "      <td>[HPI_woe, uer_time_woe, time_woe, balance_woe,...</td>\n",
       "    </tr>\n",
       "    <tr>\n",
       "      <th>0</th>\n",
       "      <td>RFE</td>\n",
       "      <td>LogisticRegression()</td>\n",
       "      <td>0.879310</td>\n",
       "      <td>26</td>\n",
       "      <td>443.256613</td>\n",
       "      <td>[orig_time_woe, REtype_PU_orig_time_woe, HPI_w...</td>\n",
       "    </tr>\n",
       "  </tbody>\n",
       "</table>\n",
       "</div>"
      ],
      "text/plain": [
       "                    Selector            Estimateur     Score  N_Variables  \\\n",
       "1  SequentialFeatureSelector  LogisticRegression()  0.880785           12   \n",
       "0                        RFE  LogisticRegression()  0.879310           26   \n",
       "\n",
       "     Duree(s)                                          Variables  \n",
       "1  530.928122  [HPI_woe, uer_time_woe, time_woe, balance_woe,...  \n",
       "0  443.256613  [orig_time_woe, REtype_PU_orig_time_woe, HPI_w...  "
      ]
     },
     "execution_count": 1250,
     "metadata": {},
     "output_type": "execute_result"
    }
   ],
   "source": [
    "tables"
   ]
  },
  {
   "cell_type": "markdown",
   "metadata": {},
   "source": [
    "Selection Statistique et intuitive des varaibles\n",
    "=="
   ]
  },
  {
   "cell_type": "markdown",
   "metadata": {
    "id": "-FpHR1Xln4qe"
   },
   "source": [
    "enquête préliminaire sur la relation entre les caractéristiques\n",
    "--\n"
   ]
  },
  {
   "cell_type": "code",
   "execution_count": 1251,
   "metadata": {
    "id": "JbpvyOTjh984"
   },
   "outputs": [],
   "source": [
    "# filtre pour identifier les varaible correler en fonction d'un seuil fixé\n",
    "\n",
    "def Get_correlate_variable(corr_matrix, corr_threshold):\n",
    "    \"\"\"\n",
    "        Cette fonction fournit un table avec les varaibles correlé significativement.\n",
    "        -------------\n",
    "        Paramètre : \n",
    "        - corr_matrix : matrice de correlation -> DataFrame\n",
    "        - corr_threshold : seuil de significativité de correlation -> float\n",
    "    \n",
    "        Sortie : \n",
    "        - table resumant les differentes variable correlé et leur niveau de correlation -> DataFrame\n",
    "        -------------\n",
    "    \"\"\"\n",
    "    \n",
    "    \n",
    "    correlate_variable = pd.DataFrame(corr_matrix[corr_matrix>corr_threshold].stack().reset_index()) #construction de la table contenant les varaibles avec correlations significative\n",
    "    correlate_variable.rename({'level_0':'feature_x', 'level_1':'feature_y', 0:'corr'}, axis=1, inplace=True) \n",
    "    correlate_variable = correlate_variable[correlate_variable.feature_x != correlate_variable.feature_y] #on recupere les variable differente par ligne\n",
    "    correlate_variable['feature_pair_key'] = correlate_variable.loc[:,['feature_x', 'feature_y']].apply(lambda r:'#'.join(np.sort(r.values)), axis=1)\n",
    "    correlate_variable.drop_duplicates(subset=['feature_pair_key'],inplace=True) # suppression des doublons\n",
    "    correlate_variable.drop(['feature_pair_key'], axis=1, inplace=True)\n",
    "    return correlate_variable\n",
    "\n",
    "d = Get_correlate_variable(df.corr(),0.45)"
   ]
  },
  {
   "cell_type": "code",
   "execution_count": 1252,
   "metadata": {},
   "outputs": [
    {
     "data": {
      "text/html": [
       "<div>\n",
       "<style scoped>\n",
       "    .dataframe tbody tr th:only-of-type {\n",
       "        vertical-align: middle;\n",
       "    }\n",
       "\n",
       "    .dataframe tbody tr th {\n",
       "        vertical-align: top;\n",
       "    }\n",
       "\n",
       "    .dataframe thead th {\n",
       "        text-align: right;\n",
       "    }\n",
       "</style>\n",
       "<table border=\"1\" class=\"dataframe\">\n",
       "  <thead>\n",
       "    <tr style=\"text-align: right;\">\n",
       "      <th></th>\n",
       "      <th>feature_x</th>\n",
       "      <th>feature_y</th>\n",
       "      <th>corr</th>\n",
       "    </tr>\n",
       "  </thead>\n",
       "  <tbody>\n",
       "    <tr>\n",
       "      <th>2</th>\n",
       "      <td>time</td>\n",
       "      <td>first_time</td>\n",
       "      <td>0.554557</td>\n",
       "    </tr>\n",
       "    <tr>\n",
       "      <th>4</th>\n",
       "      <td>orig_time</td>\n",
       "      <td>first_time</td>\n",
       "      <td>0.608733</td>\n",
       "    </tr>\n",
       "    <tr>\n",
       "      <th>5</th>\n",
       "      <td>orig_time</td>\n",
       "      <td>mat_time</td>\n",
       "      <td>0.579452</td>\n",
       "    </tr>\n",
       "    <tr>\n",
       "      <th>6</th>\n",
       "      <td>orig_time</td>\n",
       "      <td>LTV_time</td>\n",
       "      <td>0.558088</td>\n",
       "    </tr>\n",
       "    <tr>\n",
       "      <th>7</th>\n",
       "      <td>orig_time</td>\n",
       "      <td>hpi_orig_time</td>\n",
       "      <td>0.849410</td>\n",
       "    </tr>\n",
       "  </tbody>\n",
       "</table>\n",
       "</div>"
      ],
      "text/plain": [
       "   feature_x      feature_y      corr\n",
       "2       time     first_time  0.554557\n",
       "4  orig_time     first_time  0.608733\n",
       "5  orig_time       mat_time  0.579452\n",
       "6  orig_time       LTV_time  0.558088\n",
       "7  orig_time  hpi_orig_time  0.849410"
      ]
     },
     "execution_count": 1252,
     "metadata": {},
     "output_type": "execute_result"
    }
   ],
   "source": [
    "d.head()"
   ]
  },
  {
   "cell_type": "code",
   "execution_count": 1253,
   "metadata": {
    "id": "qlZsH_2nqyXd"
   },
   "outputs": [],
   "source": [
    "# get correlate variable list to drop\n",
    "liste = [\"first_time\",\"balance_time\",\"LTV_time\",\"hpi_orig_time\"]\n",
    "drop = set()\n",
    "for z,x in zip(d[\"feature_x\"],d[\"feature_y\"]):\n",
    "    if z not in liste:\n",
    "        drop.add(z)\n",
    "    if x not in liste:\n",
    "        drop.add(x)\n",
    "drop = list(drop)"
   ]
  },
  {
   "cell_type": "markdown",
   "metadata": {
    "id": "ZPQDopr90rU7"
   },
   "source": [
    "Intuition graphique\n",
    "--"
   ]
  },
  {
   "cell_type": "code",
   "execution_count": 1254,
   "metadata": {
    "id": "TwMC8iruh8mf"
   },
   "outputs": [],
   "source": [
    "# selection \n",
    "\n",
    "def GraphicalAnalysis(data,categorical_target,continuous_columns):\n",
    "\n",
    "    \"\"\"\n",
    "    -----------------------------------------------------------------------------------------\n",
    "    Cette fonction propose une visulisation la correlation entre l'ensemble \n",
    "    des variables explicatives continues et la variable cible categorielle.\n",
    "    -----------------------------------------------------------------------------------------\n",
    "\n",
    "    Paramètre : \n",
    "    ___________\n",
    "\n",
    "    - data : Jeu d données -> DataFrame \n",
    "    - categorical_target : variable cible -> str (chain de caractère)\n",
    "    - continuous_columns : ensemble des variable continue -> list()\n",
    "\n",
    "    Sortie : \n",
    "    ______\n",
    "\n",
    "    - graphique  -> Boxplot()\n",
    "    \"\"\"\n",
    "\n",
    "    fig, PlotCanvas=plt.subplots(nrows=1, ncols=len(continuous_columns), figsize=(18,5))\n",
    "    for PredictorCol , i in zip(continuous_columns, range(len(continuous_columns))):\n",
    "        data.boxplot(column=PredictorCol, by=categorical_target, figsize=(20,5), vert=True, ax=PlotCanvas[i])"
   ]
  },
  {
   "cell_type": "code",
   "execution_count": 1255,
   "metadata": {
    "colab": {
     "base_uri": "https://localhost:8080/",
     "height": 345
    },
    "id": "-zLT9ZnXh8g2",
    "outputId": "43de86ac-c755-49d2-8792-93828242357a"
   },
   "outputs": [
    {
     "data": {
      "image/png": "[encoded data removed]",
      "text/plain": [
       "<Figure size 1296x360 with 5 Axes>"
      ]
     },
     "metadata": {},
     "output_type": "display_data"
    }
   ],
   "source": [
    "GraphicalAnalysis(df,\"default_time\",continuous_var[0:5])"
   ]
  },
  {
   "cell_type": "code",
   "execution_count": 1256,
   "metadata": {
    "colab": {
     "base_uri": "https://localhost:8080/",
     "height": 343
    },
    "id": "-3FdeKDI4p4L",
    "outputId": "a9f95855-45cc-4bc6-905f-36a18e48ba81",
    "scrolled": true
   },
   "outputs": [
    {
     "data": {
      "image/png": "[encoded data removed]",
      "text/plain": [
       "<Figure size 1296x360 with 5 Axes>"
      ]
     },
     "metadata": {},
     "output_type": "display_data"
    }
   ],
   "source": [
    "GraphicalAnalysis(df,\"default_time\",continuous_var[5:10])"
   ]
  },
  {
   "cell_type": "code",
   "execution_count": 1257,
   "metadata": {
    "colab": {
     "base_uri": "https://localhost:8080/",
     "height": 347
    },
    "id": "uwILroVN0x8j",
    "outputId": "364ed40e-f9d7-45ce-9dcc-404adb470056"
   },
   "outputs": [
    {
     "data": {
      "image/png": "[encoded data removed]",
      "text/plain": [
       "<Figure size 1296x360 with 5 Axes>"
      ]
     },
     "metadata": {},
     "output_type": "display_data"
    }
   ],
   "source": [
    "GraphicalAnalysis(df,\"default_time\",continuous_var[10:15])"
   ]
  },
  {
   "cell_type": "code",
   "execution_count": 1258,
   "metadata": {},
   "outputs": [
    {
     "data": {
      "image/png": "[encoded data removed]",
      "text/plain": [
       "<Figure size 1296x360 with 4 Axes>"
      ]
     },
     "metadata": {},
     "output_type": "display_data"
    }
   ],
   "source": [
    "GraphicalAnalysis(df,\"default_time\",continuous_var[15:])"
   ]
  },
  {
   "cell_type": "markdown",
   "metadata": {
    "id": "nz51gOwk0yYW"
   },
   "source": [
    "confirmation statistique : Analyse ANOVA\n",
    "--"
   ]
  },
  {
   "cell_type": "code",
   "execution_count": 1259,
   "metadata": {
    "id": "6W-JAmGzh9qu"
   },
   "outputs": [],
   "source": [
    "# à integrer dans la fonction \"utils.py\"\n",
    "def AnovaFunction(data, Target, Continuous_variable):\n",
    "  \n",
    "    \"\"\"\n",
    "    -----------------------------------------------------------------------------------------\n",
    "    Cette fonction est une implementation du test Anova pour étudier la correlation \n",
    "    entre l'ensemble des variables explicatives continues et la variable cible categorielle.\n",
    "\n",
    "    hypothese de test (H0) : la varaible Target est correlé a la variable Continuous_variable\n",
    "    decision : on accepte(H0) si p-value est superieur a 0.05 (soit 5%).\n",
    "  -----------------------------------------------------------------------------------------\n",
    "\n",
    "    Paramètre : \n",
    "    ___________\n",
    "\n",
    "    - data : Jeu d données -> DataFrame \n",
    "    - Target : variable cible -> str (chain de caractère)\n",
    "    - Continuous_variable : ensemble des variable continue -> list()\n",
    "\n",
    "    Sortie : \n",
    "    ______\n",
    "\n",
    "    - variables : liste des variables explicative continue correlé à la varaible cible categorielle  -> list()\n",
    "    \"\"\"\n",
    "\n",
    "    from scipy.stats import f_oneway\n",
    "\n",
    "    variables=[]\n",
    "    \n",
    "    print('\\033[1m'+ '##### ANOVA Results ##### \\n'+'\\033[0m')\n",
    "    for predictor in Continuous_variable:\n",
    "        CategoryGroupLists=data.groupby(Target)[predictor].apply(list)\n",
    "        AnovaResults = f_oneway(*CategoryGroupLists)\n",
    "        \n",
    "        # If the ANOVA P-Value is <0.05, that means we reject H0\n",
    "        if (AnovaResults[1] < 0.05):\n",
    "            print(\"{:<25} est correlé à {:<25} | P-Value: {}\".format(predictor,\"la variable cible\",AnovaResults[1]))\n",
    "            variables.append(predictor)\n",
    "        else:\n",
    "            print( \"\\033[1m{:<24} \\033[0m n'est pas correlé à {:<19} | P-Value: {}\".format(predictor,\"la variable cible\",AnovaResults[1]))\n",
    "    \n",
    "    return(variables)"
   ]
  },
  {
   "cell_type": "code",
   "execution_count": 1260,
   "metadata": {
    "colab": {
     "base_uri": "https://localhost:8080/"
    },
    "id": "1E006wiAh95S",
    "outputId": "d762de5b-8b4b-4d22-bbbb-cdfee4828540"
   },
   "outputs": [
    {
     "name": "stdout",
     "output_type": "stream",
     "text": [
      "\u001b[1m##### ANOVA Results ##### \n",
      "\u001b[0m\n",
      "time                      est correlé à la variable cible         | P-Value: 7.609386378357591e-07\n",
      "orig_time                 est correlé à la variable cible         | P-Value: 0.0\n",
      "first_time                est correlé à la variable cible         | P-Value: 7.430416665678869e-163\n",
      "mat_time                  est correlé à la variable cible         | P-Value: 0.0\n",
      "balance_time              est correlé à la variable cible         | P-Value: 8.680871208731664e-23\n",
      "LTV_time                  est correlé à la variable cible         | P-Value: 0.0\n",
      "interest_rate_time        est correlé à la variable cible         | P-Value: 5.079126665919559e-279\n",
      "hpi_time                  est correlé à la variable cible         | P-Value: 0.0\n",
      "gdp_time                  est correlé à la variable cible         | P-Value: 0.0\n",
      "uer_time                  est correlé à la variable cible         | P-Value: 0.0\n",
      "\u001b[1mbalance_orig_time        \u001b[0m n'est pas correlé à la variable cible   | P-Value: 0.28946433301755653\n",
      "FICO_orig_time            est correlé à la variable cible         | P-Value: 2.858045657901812e-138\n",
      "LTV_orig_time             est correlé à la variable cible         | P-Value: 7.827534058852204e-86\n",
      "Interest_Rate_orig_time   est correlé à la variable cible         | P-Value: 2.58291479648975e-86\n",
      "hpi_orig_time             est correlé à la variable cible         | P-Value: 0.0\n",
      "LTV                       est correlé à la variable cible         | P-Value: 0.0\n",
      "interest_rate             est correlé à la variable cible         | P-Value: 5.6546157013812736e-05\n",
      "HPI                       est correlé à la variable cible         | P-Value: 0.0\n",
      "balance                   est correlé à la variable cible         | P-Value: 1.2862786761937135e-288\n"
     ]
    }
   ],
   "source": [
    "continuous_feature = AnovaFunction(df,\"default_time\",continuous_var)"
   ]
  },
  {
   "cell_type": "code",
   "execution_count": null,
   "metadata": {
    "id": "4XUOixWZh-CX"
   },
   "outputs": [],
   "source": []
  },
  {
   "cell_type": "code",
   "execution_count": 1261,
   "metadata": {
    "id": "WOwFT3Mhh-b9"
   },
   "outputs": [],
   "source": [
    "# à integrer dans la fonction \"utils.py\"\n",
    "\n",
    "def Profil_plot(data,categorical_variable,target):\n",
    "\n",
    "    \"\"\"\n",
    "    -----------------------------------------------------------------------------------------\n",
    "    Cette fonction propose une visulisation la correlation entre l'ensemble \n",
    "    des variables explicatives categorielle et la variable cible categorielle.\n",
    "    -----------------------------------------------------------------------------------------\n",
    "\n",
    "    Paramètre : \n",
    "    ___________\n",
    "\n",
    "    - data : Jeu d données -> DataFrame \n",
    "    - target : variable cible -> str (chain de caractère)\n",
    "    - categorical_variable : ensemble des variable continue -> list()\n",
    "\n",
    "    Sortie : \n",
    "    ______\n",
    "\n",
    "    - graphique  -> Barplot()\n",
    "    \n",
    "    \"\"\"\n",
    "\n",
    "    fig, PlotCanvas = plt.subplots(nrows=1, ncols=len(categorical_variable), figsize=(25,10))\n",
    "    for CategoricalCol , i in zip(categorical_variable, range(len(categorical_variable))):\n",
    "        CrossTabResult=pd.crosstab(index=data[CategoricalCol], columns=data[target])\n",
    "        CrossTabResult.plot.bar(color=['C7','C10'], ax=PlotCanvas[i])"
   ]
  },
  {
   "cell_type": "code",
   "execution_count": 1266,
   "metadata": {
    "colab": {
     "base_uri": "https://localhost:8080/",
     "height": 429
    },
    "id": "Nokeru2GQ6es",
    "outputId": "e01b859e-9eb5-41cb-d8b3-a8e7dc72d4e9"
   },
   "outputs": [
    {
     "data": {
      "image/png": "[encoded data removed]",
      "text/plain": [
       "<Figure size 1800x720 with 3 Axes>"
      ]
     },
     "metadata": {},
     "output_type": "display_data"
    }
   ],
   "source": [
    "Profil_plot(df,categorical_variable[0:3],\"default_time\")"
   ]
  },
  {
   "cell_type": "code",
   "execution_count": 1268,
   "metadata": {
    "colab": {
     "base_uri": "https://localhost:8080/",
     "height": 429
    },
    "id": "PPNo4nMHQ6i9",
    "outputId": "b4927bbd-b4b5-4757-8bca-fea11deeec66"
   },
   "outputs": [
    {
     "data": {
      "image/png": "[encoded data removed]",
      "text/plain": [
       "<Figure size 1800x720 with 3 Axes>"
      ]
     },
     "metadata": {},
     "output_type": "display_data"
    }
   ],
   "source": [
    "Profil_plot(df,categorical_variable[3:],\"default_time\")"
   ]
  },
  {
   "cell_type": "markdown",
   "metadata": {
    "id": "OOd93K20ZNZH"
   },
   "source": [
    "confirmation statistique : tets de Khi-2\n",
    "--"
   ]
  },
  {
   "cell_type": "code",
   "execution_count": 1269,
   "metadata": {
    "id": "54L2NAchQ6pI"
   },
   "outputs": [],
   "source": [
    "# à integrer dans la fonction \"utils.py\"\n",
    "\n",
    "def ChisqFunction(data, Target, categorical_var):\n",
    "\n",
    "    \"\"\"\n",
    "    -----------------------------------------------------------------------------------------\n",
    "    Cette fonction est une implementation du test de Khi-2 pour étudier la correlation \n",
    "    entre l'ensemble des variables explicatives categorielle et la variable cible categorielle.\n",
    "\n",
    "    hypothese de test (H0) : la varaible Target est correlé a la variable categorical_variable\n",
    "    decision : on accepte(H0) si p-value est superieur a 0.05 (soit 5%).\n",
    "    -----------------------------------------------------------------------------------------\n",
    "\n",
    "    Paramètre : \n",
    "    ___________\n",
    "\n",
    "    - data : Jeu d données -> DataFrame \n",
    "    - Target : variable cible -> str (chain de caractère)\n",
    "    - categorical_variable : ensemble des variable categorielle -> list()\n",
    "\n",
    "    Sortie : \n",
    "    ______\n",
    "\n",
    "    - variables : liste des variables explicative categorielle correlé à la varaible cible categorielle  -> list()\n",
    "    \"\"\"\n",
    "\n",
    "    from scipy.stats import chi2_contingency\n",
    "    \n",
    "    # Creating an empty list of final selected predictors\n",
    "    SelectedPredictors=[]\n",
    "\n",
    "    for predictor in categorical_var:\n",
    "        CrossTabResult=pd.crosstab(index=data[Target], columns=data[predictor])\n",
    "        ChiSqResult = chi2_contingency(CrossTabResult)\n",
    "        \n",
    "    # If the ChiSq P-Value is <0.05, that means we reject H0\n",
    "        if (ChiSqResult[1] < 0.05):\n",
    "            print(predictor, 'est correlé à', \"la variable cible\", '| P-Value:', ChiSqResult[1])\n",
    "            SelectedPredictors.append(predictor)\n",
    "        else:\n",
    "            print(\"\\033[1m\"+predictor+\"\\033[0m\", \"n'est pas correlé à\", \"la variable cible\", '| P-Value:', ChiSqResult[1])        \n",
    "            \n",
    "    return(SelectedPredictors)"
   ]
  },
  {
   "cell_type": "code",
   "execution_count": 1270,
   "metadata": {
    "colab": {
     "base_uri": "https://localhost:8080/"
    },
    "id": "LlG6v3TPQ6sE",
    "outputId": "d43db644-d239-458d-d910-13de8a059e75"
   },
   "outputs": [
    {
     "name": "stdout",
     "output_type": "stream",
     "text": [
      "\u001b[1mREtype_CO_orig_time\u001b[0m n'est pas correlé à la variable cible | P-Value: 0.1430146915880258\n",
      "REtype_PU_orig_time est correlé à la variable cible | P-Value: 0.003364685255051021\n",
      "\u001b[1mREtype_SF_orig_time\u001b[0m n'est pas correlé à la variable cible | P-Value: 0.8462133733102897\n",
      "investor_orig_time est correlé à la variable cible | P-Value: 6.438580988079101e-07\n",
      "payoff_time est correlé à la variable cible | P-Value: 0.0\n",
      "status_time est correlé à la variable cible | P-Value: 0.0\n"
     ]
    }
   ],
   "source": [
    "categorical_feature = ChisqFunction(df,\"default_time\",categorical_variable)"
   ]
  },
  {
   "cell_type": "markdown",
   "metadata": {
    "id": "HhcW365kxbY1"
   },
   "source": [
    "Selection final de variable\n",
    "--"
   ]
  },
  {
   "cell_type": "code",
   "execution_count": 1271,
   "metadata": {
    "id": "BoHlvxB1Q63M"
   },
   "outputs": [
    {
     "data": {
      "text/plain": [
       "['REtype_PU_orig_time',\n",
       " 'investor_orig_time',\n",
       " 'payoff_time',\n",
       " 'status_time',\n",
       " 'time',\n",
       " 'orig_time',\n",
       " 'first_time',\n",
       " 'mat_time',\n",
       " 'balance_time',\n",
       " 'LTV_time',\n",
       " 'interest_rate_time',\n",
       " 'hpi_time',\n",
       " 'gdp_time',\n",
       " 'uer_time',\n",
       " 'FICO_orig_time',\n",
       " 'LTV_orig_time',\n",
       " 'Interest_Rate_orig_time',\n",
       " 'hpi_orig_time',\n",
       " 'LTV',\n",
       " 'interest_rate',\n",
       " 'HPI',\n",
       " 'balance']"
      ]
     },
     "execution_count": 1271,
     "metadata": {},
     "output_type": "execute_result"
    }
   ],
   "source": [
    "selected_continuous_feature = list()\n",
    "selected_categorial_feature = list()\n",
    "for c in continuous_feature:\n",
    "    selected_continuous_feature.append(c)\n",
    "\n",
    "for j in categorical_feature:\n",
    "    selected_categorial_feature.append(j)\n",
    "\n",
    "predictor = selected_categorial_feature + selected_continuous_feature\n",
    "len(predictor)\n",
    "predictor"
   ]
  },
  {
   "cell_type": "code",
   "execution_count": 1272,
   "metadata": {
    "id": "pFUZN5msQ68O"
   },
   "outputs": [],
   "source": [
    "final_df = df[predictor]"
   ]
  },
  {
   "cell_type": "code",
   "execution_count": 1273,
   "metadata": {
    "id": "Ks1tLjQbq8os"
   },
   "outputs": [],
   "source": [
    "final = pd.concat([endog,final_df],axis = 1)"
   ]
  },
  {
   "cell_type": "code",
   "execution_count": 1274,
   "metadata": {},
   "outputs": [],
   "source": [
    "def get_best_correlate_var(data,target,threshold,plot=True):\n",
    "\n",
    "\n",
    "     #-------------------- Buld dataframe -----------------------#\n",
    "    \n",
    "    coef = list()\n",
    "    for i in data.columns.tolist():\n",
    "        corr = data[target].corr( data[i]).tolist()\n",
    "        coef.append(corr)\n",
    "    corr_table = pd.DataFrame(coef,index= data.columns.tolist(),columns=['coefficient'])\n",
    "    var = [c for c in corr_table.loc[abs(corr_table[\"coefficient\"]) > threshold].index]\n",
    "    \n",
    "    #-------------------- Plot corralation matrix -----------------------#\n",
    "    if plot == True:\n",
    "        plt.figure(figsize=(9,9))\n",
    "        sns.heatmap(corr_table,annot=True,linewidths=1)\n",
    "        plt.title('Figure4 : Default_time correletion graph ');\n",
    "    \n",
    "    return var"
   ]
  },
  {
   "cell_type": "code",
   "execution_count": 1275,
   "metadata": {},
   "outputs": [
    {
     "data": {
      "image/png": "[encoded data removed]",
      "text/plain": [
       "<Figure size 648x648 with 2 Axes>"
      ]
     },
     "metadata": {},
     "output_type": "display_data"
    }
   ],
   "source": [
    "final_selector = get_best_correlate_var(final,\"default_time\",0.1,True)"
   ]
  },
  {
   "cell_type": "code",
   "execution_count": null,
   "metadata": {},
   "outputs": [],
   "source": []
  },
  {
   "cell_type": "code",
   "execution_count": 1282,
   "metadata": {},
   "outputs": [],
   "source": [
    "#ici on fait parler l'intuition et l'esprit critique\n",
    "liste_ = [\"time\",\"orig_time\",\"first_time\",\"status_time\",\"LTV_time\",\"hpi_time\",\"hpi_orig_time\",\"investor_orig_time\"]\n",
    "final_predictor = list()\n",
    "for c in final_selector:\n",
    "    if c not in liste_:\n",
    "        try:\n",
    "            final_predictor.append(c)\n",
    "        except Exception as e:\n",
    "            pass\n",
    "final_predictor.append(\"investor_orig_time\")"
   ]
  },
  {
   "cell_type": "code",
   "execution_count": 1283,
   "metadata": {},
   "outputs": [
    {
     "name": "stdout",
     "output_type": "stream",
     "text": [
      "[INFO] creating woe binning ...\n",
      "Binning on 50000 rows and 11 columns in 00:00:26\n"
     ]
    }
   ],
   "source": [
    "f_ = final[final_predictor]\n",
    "classes = sc.woebin(f_, y=\"default_time\", positive=1, method=\"chimerge\",bin_num_limit=12)"
   ]
  },
  {
   "cell_type": "code",
   "execution_count": 1284,
   "metadata": {},
   "outputs": [],
   "source": [
    "# pour confirmer le choix des varaible en terme IV apporter à la comprehension du phenomen\n",
    "\n",
    "def cheick_IV(data,obj):\n",
    "    \"\"\"\n",
    "    http://ucanalytics.com/blogs/information-value-and-weight-of-evidencebanking-case/\n",
    "    \n",
    "    IV_ = cheick_IV(f_,classes)\n",
    "    \"\"\"\n",
    "    print(\"-\"*45)\n",
    "    print(\"{:<25}{}\".format(\"Variable\",\"IV\"))\n",
    "    print(\"-\"*45)\n",
    "    for c in data.columns:\n",
    "        try:\n",
    "            print(\"{:<25}{}\".format(c,obj[c][\"total_iv\"].values[0]))\n",
    "        except:\n",
    "            pass\n",
    "    print(\"-\"*45)"
   ]
  },
  {
   "cell_type": "code",
   "execution_count": 1285,
   "metadata": {},
   "outputs": [],
   "source": [
    "col = ['default_time','mat_time','interest_rate_time','gdp_time','uer_time','FICO_orig_time','LTV','HPI','balance','investor_orig_time','payoff_time']"
   ]
  },
  {
   "cell_type": "code",
   "execution_count": 1286,
   "metadata": {},
   "outputs": [
    {
     "name": "stdout",
     "output_type": "stream",
     "text": [
      "---------------------------------------------\n",
      "Variable                 IV\n",
      "---------------------------------------------\n",
      "payoff_time              0.0\n",
      "mat_time                 0.6038571750427961\n",
      "interest_rate_time       0.204571133784422\n",
      "gdp_time                 0.849700667915538\n",
      "uer_time                 0.6512995886176017\n",
      "FICO_orig_time           0.10820677935942798\n",
      "LTV                      1.426766456054681\n",
      "HPI                      1.1850291339685148\n",
      "balance                  0.4908276426063979\n",
      "investor_orig_time       0.002311084694756031\n",
      "---------------------------------------------\n"
     ]
    }
   ],
   "source": [
    "cheick_IV(f_,classes)"
   ]
  },
  {
   "cell_type": "markdown",
   "metadata": {},
   "source": [
    "Constucrtion de la base final\n",
    "--"
   ]
  },
  {
   "cell_type": "code",
   "execution_count": 1287,
   "metadata": {},
   "outputs": [],
   "source": [
    "def Create_final_dataset(data, columns, shuffle=True):\n",
    "   \n",
    "    from numpy.random import permutation\n",
    "    dt = data[columns]\n",
    "    \n",
    "    if shuffle:\n",
    "        dt = dt.reset_index(drop=True)\n",
    "        ind = permutation(dt.index)\n",
    "        dt = dt.iloc[ind, :].reset_index(drop=True)\n",
    "    return dt\n",
    "\n",
    "dataset = Create_final_dataset(df,final_predictor,shuffle=True)"
   ]
  },
  {
   "cell_type": "code",
   "execution_count": 1288,
   "metadata": {},
   "outputs": [
    {
     "name": "stdout",
     "output_type": "stream",
     "text": [
      "mat_time\n",
      "interest_rate_time\n",
      "gdp_time\n",
      "uer_time\n",
      "FICO_orig_time\n",
      "LTV\n",
      "HPI\n",
      "balance\n",
      "gdp\n",
      "payoff_time\n",
      "investor_orig_time\n",
      "default_time\n",
      "gdp.1\n"
     ]
    }
   ],
   "source": [
    "for c in base_model.columns:\n",
    "    print(c)"
   ]
  },
  {
   "cell_type": "markdown",
   "metadata": {},
   "source": [
    "Traitement des données aberrante\n",
    "--"
   ]
  },
  {
   "cell_type": "code",
   "execution_count": 1289,
   "metadata": {},
   "outputs": [],
   "source": [
    "def Outliers_Remove(data,seuil):\n",
    "    \n",
    "    # resource : https://towardsdatascience.com/ways-to-detect-and-remove-the-outliers-404d16608dba ou seuil = |3|\n",
    "    \n",
    "    import scipy.stats as stats\n",
    "\n",
    "    #find absolute value of z-score for each observation\n",
    "    z = np.abs(stats.zscore(data))\n",
    "\n",
    "    #only keep rows in dataframe with all z-scores less than absolute value of 3 \n",
    "    data_cleans = data[(z < seuil).all(axis = 1)]\n",
    "\n",
    "    #find how many rows are left in the dataframe \n",
    "\n",
    "    Q1 = data.quantile(q = 0.25)\n",
    "    Q3 = data.quantile(q = 0.75)\n",
    "    IQR = data.apply(stats.iqr)\n",
    "\n",
    "    #only keep rows in dataframe that have values within 1.5*IQR of Q1 and Q3\n",
    "    data_clean = data[~((data < (Q1 - 1.5*IQR)) | (data > (Q3 + 1.5*IQR))).any(axis = 1)]\n",
    "\n",
    "    #find how many rows are left in the dataframe \n",
    "    return data_clean"
   ]
  },
  {
   "cell_type": "code",
   "execution_count": 1290,
   "metadata": {},
   "outputs": [],
   "source": [
    "dts = dataset.copy()\n",
    "df_ = Outliers_Remove(dts,3)"
   ]
  },
  {
   "cell_type": "code",
   "execution_count": null,
   "metadata": {
    "scrolled": false
   },
   "outputs": [],
   "source": []
  },
  {
   "cell_type": "markdown",
   "metadata": {},
   "source": [
    "Creation de classes de variables \n",
    "==\n",
    "\n",
    "\n",
    "Identification des classes\n",
    "--"
   ]
  },
  {
   "cell_type": "code",
   "execution_count": 1291,
   "metadata": {},
   "outputs": [
    {
     "name": "stdout",
     "output_type": "stream",
     "text": [
      "[INFO] creating woe binning ...\n",
      "Binning on 26979 rows and 10 columns in 00:00:19\n",
      "[INFO] converting into woe values ...\n",
      "[INFO] converting into woe values ...\n"
     ]
    }
   ],
   "source": [
    "# Création de couple target - features dans le train  et test set\n",
    "train, test = train_test_split(df_, test_size = 0.2, random_state = 42)\n",
    "classes = sc.woebin(df_, y=\"default_time\", positive=1, method=\"chimerge\",bin_num_limit=12)\n",
    "train_woe = sc.woebin_ply(train, classes)\n",
    "test_woe = sc.woebin_ply(test, classes)\n",
    "y_train = train_woe[\"default_time\"]\n",
    "X_train = train_woe.drop([\"default_time\"], axis =1)\n",
    "\n",
    "y_test = test_woe[\"default_time\"]\n",
    "X_test = test_woe.drop([\"default_time\"], axis =1)"
   ]
  },
  {
   "cell_type": "code",
   "execution_count": 1292,
   "metadata": {},
   "outputs": [],
   "source": [
    "class GroupingClass(object):\n",
    "    \n",
    "    def __init__(self,data,target,seuil):\n",
    "        \n",
    "        import scorecardpy as sc\n",
    "        \n",
    "        self.data = data\n",
    "        self.target = target\n",
    "        self.seuil = seuil\n",
    "        \n",
    "        self.cls = sc.woebin(self.data, y=self.target, positive=1, method=\"chimerge\",bin_num_limit=self.seuil)\n",
    "        \n",
    "    def IV_WoE_Table(self,var,plot = True):\n",
    "        dt = self.cls[var][[\"variable\",\"bin\",\"count\",\"good\",\"bad\",\"badprob\",\"woe\",\"bin_iv\",\"total_iv\"]]\n",
    "        dt = dt.reset_index()\n",
    "        dt.columns = [\"Classe\",\"variable\",\"bin\",\"count\",\"good\",\"bad\",\"badprob\",\"woe\",\"bin_iv\",\"total_iv\"]\n",
    "        if plot == True:\n",
    "            sc.woebin_plot(self.cls[var]);\n",
    "        return dt"
   ]
  },
  {
   "cell_type": "code",
   "execution_count": 1293,
   "metadata": {},
   "outputs": [
    {
     "data": {
      "text/plain": [
       "['default_time', 'payoff_time', 'investor_orig_time']"
      ]
     },
     "execution_count": 1293,
     "metadata": {},
     "output_type": "execute_result"
    }
   ],
   "source": [
    "ca_var = list(dataset.nunique()[dataset.nunique()<4].index)\n",
    "co_var = list(dataset.nunique()[dataset.nunique()>4].index)\n",
    "ca_var"
   ]
  },
  {
   "cell_type": "code",
   "execution_count": 1294,
   "metadata": {},
   "outputs": [
    {
     "name": "stdout",
     "output_type": "stream",
     "text": [
      "[INFO] creating woe binning ...\n",
      "Binning on 26979 rows and 9 columns in 00:00:19\n"
     ]
    }
   ],
   "source": [
    "cheick = GroupingClass(df_.drop([\"payoff_time\",\"investor_orig_time\"],axis=1),\"default_time\",12)"
   ]
  },
  {
   "cell_type": "code",
   "execution_count": 1295,
   "metadata": {},
   "outputs": [],
   "source": [
    "# summary pour le regroupement des classe de chaque variable continue selectionner \n",
    "\n",
    "dico_classe = {\n",
    "    \"variable 1\" : {\n",
    "        \"variable\" :co_var[0],\n",
    "        \"groupe 1\" : (0,1,2,3),\n",
    "        \"groupe 2\" : (4,5,6),\n",
    "        \"groupe 3\" : (7,8)\n",
    "                             },\n",
    "    \"variable 2\" : {\n",
    "        \"variable\":co_var[1],\n",
    "        \"groupe 1\" : (0,1),\n",
    "        \"groupe 2\" : (2,3,4)\n",
    "                             },\n",
    "    \"variable 3\" : {\n",
    "        \"variable\":co_var[2] ,\n",
    "        \"groupe 1\" : (0,1),\n",
    "        \"groupe 2\" : (2,3)\n",
    "                             },\n",
    "    \"variable 4\" : {\n",
    "        \"variable\":co_var[3] ,\n",
    "        \"groupe 1\" : (0,1),\n",
    "        \"groupe 2\" : (2)\n",
    "                             },\n",
    "    \"variable 5\" : {\n",
    "        \"variable\":co_var[4],\n",
    "        \"groupe 1\" : (0,1,2,3,4,5),\n",
    "        \"groupe 2\" : (6,7)\n",
    "                             },\n",
    "    \"variable 6\" : {\n",
    "        \"variable\":co_var[5] ,\n",
    "        \"groupe 1\" : (0,1,2,3,4),\n",
    "        \"groupe 2\" : (5,6,7),\n",
    "        \"groupe 3\" : (8,9)\n",
    "                             },\n",
    "    \"variable 7\" : {\n",
    "        \"variable\":co_var[6],\n",
    "        \"groupe 1\" : (0),\n",
    "        \"groupe 2\" : (1,3,4),\n",
    "        \"groupe 3\" : (2,5,6,7,8,9)\n",
    "                             },\n",
    "    \"variable 8\" : {\n",
    "        \"variable\":co_var[7] ,\n",
    "        \"groupe 1\" : (0,1),\n",
    "        \"groupe 2\" : (2,3),\n",
    "        \"groupe 3\" : (4,5,6)\n",
    "                             },\n",
    "}\n",
    "\n",
    "res = pd.DataFrame(dico_classe)\n",
    "res.to_csv(\"table_classe.csv\")"
   ]
  },
  {
   "cell_type": "markdown",
   "metadata": {},
   "source": [
    "construction de categorie pour la base final\n",
    "--"
   ]
  },
  {
   "cell_type": "code",
   "execution_count": 1296,
   "metadata": {},
   "outputs": [
    {
     "data": {
      "text/html": [
       "<div>\n",
       "<style scoped>\n",
       "    .dataframe tbody tr th:only-of-type {\n",
       "        vertical-align: middle;\n",
       "    }\n",
       "\n",
       "    .dataframe tbody tr th {\n",
       "        vertical-align: top;\n",
       "    }\n",
       "\n",
       "    .dataframe thead th {\n",
       "        text-align: right;\n",
       "    }\n",
       "</style>\n",
       "<table border=\"1\" class=\"dataframe\">\n",
       "  <thead>\n",
       "    <tr style=\"text-align: right;\">\n",
       "      <th></th>\n",
       "      <th>Classe</th>\n",
       "      <th>variable</th>\n",
       "      <th>bin</th>\n",
       "      <th>count</th>\n",
       "      <th>good</th>\n",
       "      <th>bad</th>\n",
       "      <th>badprob</th>\n",
       "      <th>woe</th>\n",
       "      <th>bin_iv</th>\n",
       "      <th>total_iv</th>\n",
       "    </tr>\n",
       "  </thead>\n",
       "  <tbody>\n",
       "    <tr>\n",
       "      <th>0</th>\n",
       "      <td>0</td>\n",
       "      <td>gdp_time</td>\n",
       "      <td>[-inf,1.0)</td>\n",
       "      <td>2420</td>\n",
       "      <td>999</td>\n",
       "      <td>1421</td>\n",
       "      <td>0.587190</td>\n",
       "      <td>1.381739</td>\n",
       "      <td>0.207062</td>\n",
       "      <td>0.764199</td>\n",
       "    </tr>\n",
       "    <tr>\n",
       "      <th>1</th>\n",
       "      <td>1</td>\n",
       "      <td>gdp_time</td>\n",
       "      <td>[1.0,2.0)</td>\n",
       "      <td>7533</td>\n",
       "      <td>4231</td>\n",
       "      <td>3302</td>\n",
       "      <td>0.438338</td>\n",
       "      <td>0.781468</td>\n",
       "      <td>0.197052</td>\n",
       "      <td>0.764199</td>\n",
       "    </tr>\n",
       "    <tr>\n",
       "      <th>2</th>\n",
       "      <td>2</td>\n",
       "      <td>gdp_time</td>\n",
       "      <td>[2.0,3.0)</td>\n",
       "      <td>11294</td>\n",
       "      <td>9457</td>\n",
       "      <td>1837</td>\n",
       "      <td>0.162653</td>\n",
       "      <td>-0.609243</td>\n",
       "      <td>0.132240</td>\n",
       "      <td>0.764199</td>\n",
       "    </tr>\n",
       "    <tr>\n",
       "      <th>3</th>\n",
       "      <td>3</td>\n",
       "      <td>gdp_time</td>\n",
       "      <td>[3.0,inf)</td>\n",
       "      <td>5732</td>\n",
       "      <td>5191</td>\n",
       "      <td>541</td>\n",
       "      <td>0.094382</td>\n",
       "      <td>-1.231884</td>\n",
       "      <td>0.227845</td>\n",
       "      <td>0.764199</td>\n",
       "    </tr>\n",
       "  </tbody>\n",
       "</table>\n",
       "</div>"
      ],
      "text/plain": [
       "   Classe  variable         bin  count  good   bad   badprob       woe  \\\n",
       "0       0  gdp_time  [-inf,1.0)   2420   999  1421  0.587190  1.381739   \n",
       "1       1  gdp_time   [1.0,2.0)   7533  4231  3302  0.438338  0.781468   \n",
       "2       2  gdp_time   [2.0,3.0)  11294  9457  1837  0.162653 -0.609243   \n",
       "3       3  gdp_time   [3.0,inf)   5732  5191   541  0.094382 -1.231884   \n",
       "\n",
       "     bin_iv  total_iv  \n",
       "0  0.207062  0.764199  \n",
       "1  0.197052  0.764199  \n",
       "2  0.132240  0.764199  \n",
       "3  0.227845  0.764199  "
      ]
     },
     "execution_count": 1296,
     "metadata": {},
     "output_type": "execute_result"
    },
    {
     "data": {
      "image/png": "[encoded data removed]",
      "text/plain": [
       "<Figure size 432x288 with 2 Axes>"
      ]
     },
     "metadata": {},
     "output_type": "display_data"
    }
   ],
   "source": [
    "u = cheick.IV_WoE_Table(co_var[2],True)\n",
    "u"
   ]
  },
  {
   "cell_type": "code",
   "execution_count": 1297,
   "metadata": {},
   "outputs": [
    {
     "data": {
      "text/plain": [
       "'gdp_time'"
      ]
     },
     "execution_count": 1297,
     "metadata": {},
     "output_type": "execute_result"
    }
   ],
   "source": [
    "u[\"variable\"][0]"
   ]
  },
  {
   "cell_type": "code",
   "execution_count": 1298,
   "metadata": {},
   "outputs": [],
   "source": [
    "#sl1 = [c for c in u.loc[(u[\"Classe\"] == 0) | (u[\"Classe\"] == 1)][\"woe\"]]\n",
    "sl2 = [c for c in u.loc[(u[\"Classe\"] == 2) | (u[\"Classe\"] == 3)][\"woe\"]]\n",
    "sl3 = [c for c in u.loc[(u[\"Classe\"] == 4) | (u[\"Classe\"] == 5) | (u[\"Classe\"] == 6)][\"woe\"]]"
   ]
  },
  {
   "cell_type": "code",
   "execution_count": 1299,
   "metadata": {},
   "outputs": [
    {
     "name": "stdout",
     "output_type": "stream",
     "text": [
      "[INFO] converting into woe values ...\n"
     ]
    }
   ],
   "source": [
    "data_set = sc.woebin_ply(df_.drop([\"payoff_time\",\"investor_orig_time\"],axis=1), classes)"
   ]
  },
  {
   "cell_type": "code",
   "execution_count": 1300,
   "metadata": {},
   "outputs": [],
   "source": [
    "#data_sets = pd.DataFrame([])"
   ]
  },
  {
   "cell_type": "code",
   "execution_count": 1301,
   "metadata": {},
   "outputs": [],
   "source": [
    "##-----construction de la modalité------#\n",
    "\n",
    "#list_cat = list()\n",
    "#for c in data_set[\"balance_woe\"]:\n",
    "#    if c in sl1 :\n",
    "#        list_cat.append(\"balance_G1\")\n",
    "#    elif c in sl2:\n",
    "#        list_cat.append(\"balance_G2\")\n",
    "#    elif c in sl3:\n",
    "#        list_cat.append(\"balance_G3\")\n",
    "\n",
    "#-----construction de la variable------#\n",
    "#data_sets[\"balance_grouped\"] = list_cat"
   ]
  },
  {
   "cell_type": "code",
   "execution_count": 1302,
   "metadata": {},
   "outputs": [],
   "source": [
    "#list_ = list()\n",
    "#for c in df_[\"gdp_time\"]:\n",
    "#    if c < 0 :\n",
    "#        list_.append(\"gdp_time_nef\")\n",
    "#    else:\n",
    "#        list_.append(\"gdp_time_pos\")\n",
    "#data_sets[\"gdp_time_calc\"] = list_\n",
    "\n",
    "#data_sets[\"payoff_time\"] = df_[\"payoff_time\"].values\n",
    "#data_sets[\"investor_orig_time\"] = df_[\"investor_orig_time\"].values\n",
    "#data_sets[\"default_time\"] = df_[\"default_time\"].values\n",
    "#data_sets.columns = [c.replace(\"_grouped\",\"\").replace(\"_time_calc\",\"\") for c in data_sets.columns]\n",
    "#data_sets.to_csv(\"base_modele_final.csv\")"
   ]
  },
  {
   "cell_type": "markdown",
   "metadata": {},
   "source": [
    "## Base final"
   ]
  },
  {
   "cell_type": "code",
   "execution_count": 1303,
   "metadata": {},
   "outputs": [
    {
     "name": "stdout",
     "output_type": "stream",
     "text": [
      "[INFO] creating woe binning ...\n"
     ]
    }
   ],
   "source": [
    "#base_model = pd.read_csv(\"base_modele_final.csv\") # la base a été stocké sur github\n",
    "base_model = pd.read_csv(\"https://raw.githubusercontent.com/wilflex/CREDIT_RISK_PROJECT/main/base_modele_final.csv\")\n",
    "base_model.drop([\"Unnamed: 0\"],axis = 1,inplace=True)\n",
    "clas_df = sc.woebin(base_model, y=\"default_time\", positive=1, method=\"chimerge\")"
   ]
  },
  {
   "cell_type": "code",
   "execution_count": 1304,
   "metadata": {},
   "outputs": [
    {
     "data": {
      "text/plain": [
       "Index(['mat_time', 'interest_rate_time', 'gdp_time', 'uer_time',\n",
       "       'FICO_orig_time', 'LTV', 'HPI', 'balance', 'gdp', 'payoff_time',\n",
       "       'investor_orig_time', 'default_time', 'gdp.1'],\n",
       "      dtype='object')"
      ]
     },
     "execution_count": 1304,
     "metadata": {},
     "output_type": "execute_result"
    }
   ],
   "source": [
    "base_model.columns"
   ]
  },
  {
   "cell_type": "code",
   "execution_count": null,
   "metadata": {},
   "outputs": [],
   "source": []
  },
  {
   "cell_type": "code",
   "execution_count": 1306,
   "metadata": {},
   "outputs": [
    {
     "name": "stdout",
     "output_type": "stream",
     "text": [
      "mat_time            3     3\n",
      "interest_rate_time  2     2\n",
      "gdp_time            2     2\n",
      "uer_time            2     2\n",
      "FICO_orig_time      2     2\n",
      "LTV                 3     3\n",
      "HPI                 3     3\n",
      "balance             3     3\n",
      "gdp                 2     1\n",
      "payoff_time         2     1\n",
      "gdp.1               2     1\n"
     ]
    }
   ],
   "source": [
    "#verification de la coherance des classes\n",
    "for c in base_model.columns:\n",
    "    try:\n",
    "        print(\"{:<20}{:<5}\".format(c,base_model[c].nunique()),len(clas_df[c][\"variable\"]))\n",
    "    except:\n",
    "        pass"
   ]
  },
  {
   "cell_type": "code",
   "execution_count": 1307,
   "metadata": {},
   "outputs": [
    {
     "data": {
      "text/html": [
       "<div>\n",
       "<style scoped>\n",
       "    .dataframe tbody tr th:only-of-type {\n",
       "        vertical-align: middle;\n",
       "    }\n",
       "\n",
       "    .dataframe tbody tr th {\n",
       "        vertical-align: top;\n",
       "    }\n",
       "\n",
       "    .dataframe thead th {\n",
       "        text-align: right;\n",
       "    }\n",
       "</style>\n",
       "<table border=\"1\" class=\"dataframe\">\n",
       "  <thead>\n",
       "    <tr style=\"text-align: right;\">\n",
       "      <th></th>\n",
       "      <th>variable</th>\n",
       "      <th>bin</th>\n",
       "      <th>count</th>\n",
       "      <th>count_distr</th>\n",
       "      <th>good</th>\n",
       "      <th>bad</th>\n",
       "      <th>badprob</th>\n",
       "      <th>woe</th>\n",
       "      <th>bin_iv</th>\n",
       "      <th>total_iv</th>\n",
       "      <th>breaks</th>\n",
       "      <th>is_special_values</th>\n",
       "    </tr>\n",
       "  </thead>\n",
       "  <tbody>\n",
       "    <tr>\n",
       "      <th>0</th>\n",
       "      <td>mat_time</td>\n",
       "      <td>mat_time_G1</td>\n",
       "      <td>12628</td>\n",
       "      <td>0.468068</td>\n",
       "      <td>10958</td>\n",
       "      <td>1670</td>\n",
       "      <td>0.132246</td>\n",
       "      <td>-0.851868</td>\n",
       "      <td>0.269262</td>\n",
       "      <td>0.521071</td>\n",
       "      <td>mat_time_G1</td>\n",
       "      <td>False</td>\n",
       "    </tr>\n",
       "    <tr>\n",
       "      <th>1</th>\n",
       "      <td>mat_time</td>\n",
       "      <td>mat_time_G2</td>\n",
       "      <td>6218</td>\n",
       "      <td>0.230476</td>\n",
       "      <td>4478</td>\n",
       "      <td>1740</td>\n",
       "      <td>0.279833</td>\n",
       "      <td>0.084087</td>\n",
       "      <td>0.001662</td>\n",
       "      <td>0.521071</td>\n",
       "      <td>mat_time_G2</td>\n",
       "      <td>False</td>\n",
       "    </tr>\n",
       "    <tr>\n",
       "      <th>2</th>\n",
       "      <td>mat_time</td>\n",
       "      <td>balance_G3</td>\n",
       "      <td>8133</td>\n",
       "      <td>0.301457</td>\n",
       "      <td>4442</td>\n",
       "      <td>3691</td>\n",
       "      <td>0.453830</td>\n",
       "      <td>0.844171</td>\n",
       "      <td>0.250147</td>\n",
       "      <td>0.521071</td>\n",
       "      <td>balance_G3</td>\n",
       "      <td>False</td>\n",
       "    </tr>\n",
       "  </tbody>\n",
       "</table>\n",
       "</div>"
      ],
      "text/plain": [
       "   variable          bin  count  count_distr   good   bad   badprob       woe  \\\n",
       "0  mat_time  mat_time_G1  12628     0.468068  10958  1670  0.132246 -0.851868   \n",
       "1  mat_time  mat_time_G2   6218     0.230476   4478  1740  0.279833  0.084087   \n",
       "2  mat_time   balance_G3   8133     0.301457   4442  3691  0.453830  0.844171   \n",
       "\n",
       "     bin_iv  total_iv       breaks  is_special_values  \n",
       "0  0.269262  0.521071  mat_time_G1              False  \n",
       "1  0.001662  0.521071  mat_time_G2              False  \n",
       "2  0.250147  0.521071   balance_G3              False  "
      ]
     },
     "metadata": {},
     "output_type": "display_data"
    },
    {
     "name": "stdout",
     "output_type": "stream",
     "text": [
      "\n",
      "\n"
     ]
    },
    {
     "data": {
      "text/html": [
       "<div>\n",
       "<style scoped>\n",
       "    .dataframe tbody tr th:only-of-type {\n",
       "        vertical-align: middle;\n",
       "    }\n",
       "\n",
       "    .dataframe tbody tr th {\n",
       "        vertical-align: top;\n",
       "    }\n",
       "\n",
       "    .dataframe thead th {\n",
       "        text-align: right;\n",
       "    }\n",
       "</style>\n",
       "<table border=\"1\" class=\"dataframe\">\n",
       "  <thead>\n",
       "    <tr style=\"text-align: right;\">\n",
       "      <th></th>\n",
       "      <th>variable</th>\n",
       "      <th>bin</th>\n",
       "      <th>count</th>\n",
       "      <th>count_distr</th>\n",
       "      <th>good</th>\n",
       "      <th>bad</th>\n",
       "      <th>badprob</th>\n",
       "      <th>woe</th>\n",
       "      <th>bin_iv</th>\n",
       "      <th>total_iv</th>\n",
       "      <th>breaks</th>\n",
       "      <th>is_special_values</th>\n",
       "    </tr>\n",
       "  </thead>\n",
       "  <tbody>\n",
       "    <tr>\n",
       "      <th>0</th>\n",
       "      <td>interest_rate_time</td>\n",
       "      <td>interest_rate_time_G1</td>\n",
       "      <td>11893</td>\n",
       "      <td>0.440824</td>\n",
       "      <td>9832</td>\n",
       "      <td>2061</td>\n",
       "      <td>0.173295</td>\n",
       "      <td>-0.533073</td>\n",
       "      <td>0.108948</td>\n",
       "      <td>0.178356</td>\n",
       "      <td>interest_rate_time_G1</td>\n",
       "      <td>False</td>\n",
       "    </tr>\n",
       "    <tr>\n",
       "      <th>1</th>\n",
       "      <td>interest_rate_time</td>\n",
       "      <td>interest_rate_time_G2</td>\n",
       "      <td>15086</td>\n",
       "      <td>0.559176</td>\n",
       "      <td>10046</td>\n",
       "      <td>5040</td>\n",
       "      <td>0.334085</td>\n",
       "      <td>0.339610</td>\n",
       "      <td>0.069408</td>\n",
       "      <td>0.178356</td>\n",
       "      <td>interest_rate_time_G2</td>\n",
       "      <td>False</td>\n",
       "    </tr>\n",
       "  </tbody>\n",
       "</table>\n",
       "</div>"
      ],
      "text/plain": [
       "             variable                    bin  count  count_distr   good   bad  \\\n",
       "0  interest_rate_time  interest_rate_time_G1  11893     0.440824   9832  2061   \n",
       "1  interest_rate_time  interest_rate_time_G2  15086     0.559176  10046  5040   \n",
       "\n",
       "    badprob       woe    bin_iv  total_iv                 breaks  \\\n",
       "0  0.173295 -0.533073  0.108948  0.178356  interest_rate_time_G1   \n",
       "1  0.334085  0.339610  0.069408  0.178356  interest_rate_time_G2   \n",
       "\n",
       "   is_special_values  \n",
       "0              False  \n",
       "1              False  "
      ]
     },
     "metadata": {},
     "output_type": "display_data"
    },
    {
     "name": "stdout",
     "output_type": "stream",
     "text": [
      "\n",
      "\n"
     ]
    },
    {
     "data": {
      "text/html": [
       "<div>\n",
       "<style scoped>\n",
       "    .dataframe tbody tr th:only-of-type {\n",
       "        vertical-align: middle;\n",
       "    }\n",
       "\n",
       "    .dataframe tbody tr th {\n",
       "        vertical-align: top;\n",
       "    }\n",
       "\n",
       "    .dataframe thead th {\n",
       "        text-align: right;\n",
       "    }\n",
       "</style>\n",
       "<table border=\"1\" class=\"dataframe\">\n",
       "  <thead>\n",
       "    <tr style=\"text-align: right;\">\n",
       "      <th></th>\n",
       "      <th>variable</th>\n",
       "      <th>bin</th>\n",
       "      <th>count</th>\n",
       "      <th>count_distr</th>\n",
       "      <th>good</th>\n",
       "      <th>bad</th>\n",
       "      <th>badprob</th>\n",
       "      <th>woe</th>\n",
       "      <th>bin_iv</th>\n",
       "      <th>total_iv</th>\n",
       "      <th>breaks</th>\n",
       "      <th>is_special_values</th>\n",
       "    </tr>\n",
       "  </thead>\n",
       "  <tbody>\n",
       "    <tr>\n",
       "      <th>0</th>\n",
       "      <td>gdp_time</td>\n",
       "      <td>gdp_time_G2</td>\n",
       "      <td>17026</td>\n",
       "      <td>0.631083</td>\n",
       "      <td>14648</td>\n",
       "      <td>2378</td>\n",
       "      <td>0.139669</td>\n",
       "      <td>-0.788666</td>\n",
       "      <td>0.317054</td>\n",
       "      <td>0.689885</td>\n",
       "      <td>gdp_time_G2</td>\n",
       "      <td>False</td>\n",
       "    </tr>\n",
       "    <tr>\n",
       "      <th>1</th>\n",
       "      <td>gdp_time</td>\n",
       "      <td>gdp_time_G1</td>\n",
       "      <td>9953</td>\n",
       "      <td>0.368917</td>\n",
       "      <td>5230</td>\n",
       "      <td>4723</td>\n",
       "      <td>0.474530</td>\n",
       "      <td>0.927411</td>\n",
       "      <td>0.372831</td>\n",
       "      <td>0.689885</td>\n",
       "      <td>gdp_time_G1</td>\n",
       "      <td>False</td>\n",
       "    </tr>\n",
       "  </tbody>\n",
       "</table>\n",
       "</div>"
      ],
      "text/plain": [
       "   variable          bin  count  count_distr   good   bad   badprob       woe  \\\n",
       "0  gdp_time  gdp_time_G2  17026     0.631083  14648  2378  0.139669 -0.788666   \n",
       "1  gdp_time  gdp_time_G1   9953     0.368917   5230  4723  0.474530  0.927411   \n",
       "\n",
       "     bin_iv  total_iv       breaks  is_special_values  \n",
       "0  0.317054  0.689885  gdp_time_G2              False  \n",
       "1  0.372831  0.689885  gdp_time_G1              False  "
      ]
     },
     "metadata": {},
     "output_type": "display_data"
    },
    {
     "name": "stdout",
     "output_type": "stream",
     "text": [
      "\n",
      "\n"
     ]
    },
    {
     "data": {
      "text/html": [
       "<div>\n",
       "<style scoped>\n",
       "    .dataframe tbody tr th:only-of-type {\n",
       "        vertical-align: middle;\n",
       "    }\n",
       "\n",
       "    .dataframe tbody tr th {\n",
       "        vertical-align: top;\n",
       "    }\n",
       "\n",
       "    .dataframe thead th {\n",
       "        text-align: right;\n",
       "    }\n",
       "</style>\n",
       "<table border=\"1\" class=\"dataframe\">\n",
       "  <thead>\n",
       "    <tr style=\"text-align: right;\">\n",
       "      <th></th>\n",
       "      <th>variable</th>\n",
       "      <th>bin</th>\n",
       "      <th>count</th>\n",
       "      <th>count_distr</th>\n",
       "      <th>good</th>\n",
       "      <th>bad</th>\n",
       "      <th>badprob</th>\n",
       "      <th>woe</th>\n",
       "      <th>bin_iv</th>\n",
       "      <th>total_iv</th>\n",
       "      <th>breaks</th>\n",
       "      <th>is_special_values</th>\n",
       "    </tr>\n",
       "  </thead>\n",
       "  <tbody>\n",
       "    <tr>\n",
       "      <th>0</th>\n",
       "      <td>uer_time</td>\n",
       "      <td>uer_time_G1</td>\n",
       "      <td>24748</td>\n",
       "      <td>0.917306</td>\n",
       "      <td>19062</td>\n",
       "      <td>5686</td>\n",
       "      <td>0.229756</td>\n",
       "      <td>-0.180312</td>\n",
       "      <td>0.028528</td>\n",
       "      <td>0.278488</td>\n",
       "      <td>uer_time_G1</td>\n",
       "      <td>False</td>\n",
       "    </tr>\n",
       "    <tr>\n",
       "      <th>1</th>\n",
       "      <td>uer_time</td>\n",
       "      <td>uer_time_G2</td>\n",
       "      <td>2231</td>\n",
       "      <td>0.082694</td>\n",
       "      <td>816</td>\n",
       "      <td>1415</td>\n",
       "      <td>0.634245</td>\n",
       "      <td>1.579848</td>\n",
       "      <td>0.249959</td>\n",
       "      <td>0.278488</td>\n",
       "      <td>uer_time_G2</td>\n",
       "      <td>False</td>\n",
       "    </tr>\n",
       "  </tbody>\n",
       "</table>\n",
       "</div>"
      ],
      "text/plain": [
       "   variable          bin  count  count_distr   good   bad   badprob       woe  \\\n",
       "0  uer_time  uer_time_G1  24748     0.917306  19062  5686  0.229756 -0.180312   \n",
       "1  uer_time  uer_time_G2   2231     0.082694    816  1415  0.634245  1.579848   \n",
       "\n",
       "     bin_iv  total_iv       breaks  is_special_values  \n",
       "0  0.028528  0.278488  uer_time_G1              False  \n",
       "1  0.249959  0.278488  uer_time_G2              False  "
      ]
     },
     "metadata": {},
     "output_type": "display_data"
    },
    {
     "name": "stdout",
     "output_type": "stream",
     "text": [
      "\n",
      "\n"
     ]
    },
    {
     "data": {
      "text/html": [
       "<div>\n",
       "<style scoped>\n",
       "    .dataframe tbody tr th:only-of-type {\n",
       "        vertical-align: middle;\n",
       "    }\n",
       "\n",
       "    .dataframe tbody tr th {\n",
       "        vertical-align: top;\n",
       "    }\n",
       "\n",
       "    .dataframe thead th {\n",
       "        text-align: right;\n",
       "    }\n",
       "</style>\n",
       "<table border=\"1\" class=\"dataframe\">\n",
       "  <thead>\n",
       "    <tr style=\"text-align: right;\">\n",
       "      <th></th>\n",
       "      <th>variable</th>\n",
       "      <th>bin</th>\n",
       "      <th>count</th>\n",
       "      <th>count_distr</th>\n",
       "      <th>good</th>\n",
       "      <th>bad</th>\n",
       "      <th>badprob</th>\n",
       "      <th>woe</th>\n",
       "      <th>bin_iv</th>\n",
       "      <th>total_iv</th>\n",
       "      <th>breaks</th>\n",
       "      <th>is_special_values</th>\n",
       "    </tr>\n",
       "  </thead>\n",
       "  <tbody>\n",
       "    <tr>\n",
       "      <th>0</th>\n",
       "      <td>FICO_orig_time</td>\n",
       "      <td>FICO_orig_time_G2</td>\n",
       "      <td>7626</td>\n",
       "      <td>0.282664</td>\n",
       "      <td>6221</td>\n",
       "      <td>1405</td>\n",
       "      <td>0.184238</td>\n",
       "      <td>-0.458515</td>\n",
       "      <td>0.052775</td>\n",
       "      <td>0.070603</td>\n",
       "      <td>FICO_orig_time_G2</td>\n",
       "      <td>False</td>\n",
       "    </tr>\n",
       "    <tr>\n",
       "      <th>1</th>\n",
       "      <td>FICO_orig_time</td>\n",
       "      <td>FICO_orig_time_G1</td>\n",
       "      <td>19353</td>\n",
       "      <td>0.717336</td>\n",
       "      <td>13657</td>\n",
       "      <td>5696</td>\n",
       "      <td>0.294321</td>\n",
       "      <td>0.154890</td>\n",
       "      <td>0.017828</td>\n",
       "      <td>0.070603</td>\n",
       "      <td>FICO_orig_time_G1</td>\n",
       "      <td>False</td>\n",
       "    </tr>\n",
       "  </tbody>\n",
       "</table>\n",
       "</div>"
      ],
      "text/plain": [
       "         variable                bin  count  count_distr   good   bad  \\\n",
       "0  FICO_orig_time  FICO_orig_time_G2   7626     0.282664   6221  1405   \n",
       "1  FICO_orig_time  FICO_orig_time_G1  19353     0.717336  13657  5696   \n",
       "\n",
       "    badprob       woe    bin_iv  total_iv             breaks  \\\n",
       "0  0.184238 -0.458515  0.052775  0.070603  FICO_orig_time_G2   \n",
       "1  0.294321  0.154890  0.017828  0.070603  FICO_orig_time_G1   \n",
       "\n",
       "   is_special_values  \n",
       "0              False  \n",
       "1              False  "
      ]
     },
     "metadata": {},
     "output_type": "display_data"
    },
    {
     "name": "stdout",
     "output_type": "stream",
     "text": [
      "\n",
      "\n"
     ]
    },
    {
     "data": {
      "text/html": [
       "<div>\n",
       "<style scoped>\n",
       "    .dataframe tbody tr th:only-of-type {\n",
       "        vertical-align: middle;\n",
       "    }\n",
       "\n",
       "    .dataframe tbody tr th {\n",
       "        vertical-align: top;\n",
       "    }\n",
       "\n",
       "    .dataframe thead th {\n",
       "        text-align: right;\n",
       "    }\n",
       "</style>\n",
       "<table border=\"1\" class=\"dataframe\">\n",
       "  <thead>\n",
       "    <tr style=\"text-align: right;\">\n",
       "      <th></th>\n",
       "      <th>variable</th>\n",
       "      <th>bin</th>\n",
       "      <th>count</th>\n",
       "      <th>count_distr</th>\n",
       "      <th>good</th>\n",
       "      <th>bad</th>\n",
       "      <th>badprob</th>\n",
       "      <th>woe</th>\n",
       "      <th>bin_iv</th>\n",
       "      <th>total_iv</th>\n",
       "      <th>breaks</th>\n",
       "      <th>is_special_values</th>\n",
       "    </tr>\n",
       "  </thead>\n",
       "  <tbody>\n",
       "    <tr>\n",
       "      <th>0</th>\n",
       "      <td>LTV</td>\n",
       "      <td>LTV_G1</td>\n",
       "      <td>15125</td>\n",
       "      <td>0.560621</td>\n",
       "      <td>13181</td>\n",
       "      <td>1944</td>\n",
       "      <td>0.128529</td>\n",
       "      <td>-0.884651</td>\n",
       "      <td>0.344422</td>\n",
       "      <td>0.889165</td>\n",
       "      <td>LTV_G1</td>\n",
       "      <td>False</td>\n",
       "    </tr>\n",
       "    <tr>\n",
       "      <th>1</th>\n",
       "      <td>LTV</td>\n",
       "      <td>LTV_G2</td>\n",
       "      <td>7936</td>\n",
       "      <td>0.294155</td>\n",
       "      <td>5391</td>\n",
       "      <td>2545</td>\n",
       "      <td>0.320691</td>\n",
       "      <td>0.278778</td>\n",
       "      <td>0.024308</td>\n",
       "      <td>0.889165</td>\n",
       "      <td>LTV_G2</td>\n",
       "      <td>False</td>\n",
       "    </tr>\n",
       "    <tr>\n",
       "      <th>2</th>\n",
       "      <td>LTV</td>\n",
       "      <td>LTV_G3</td>\n",
       "      <td>3918</td>\n",
       "      <td>0.145224</td>\n",
       "      <td>1306</td>\n",
       "      <td>2612</td>\n",
       "      <td>0.666667</td>\n",
       "      <td>1.722525</td>\n",
       "      <td>0.520435</td>\n",
       "      <td>0.889165</td>\n",
       "      <td>LTV_G3</td>\n",
       "      <td>False</td>\n",
       "    </tr>\n",
       "  </tbody>\n",
       "</table>\n",
       "</div>"
      ],
      "text/plain": [
       "  variable     bin  count  count_distr   good   bad   badprob       woe  \\\n",
       "0      LTV  LTV_G1  15125     0.560621  13181  1944  0.128529 -0.884651   \n",
       "1      LTV  LTV_G2   7936     0.294155   5391  2545  0.320691  0.278778   \n",
       "2      LTV  LTV_G3   3918     0.145224   1306  2612  0.666667  1.722525   \n",
       "\n",
       "     bin_iv  total_iv  breaks  is_special_values  \n",
       "0  0.344422  0.889165  LTV_G1              False  \n",
       "1  0.024308  0.889165  LTV_G2              False  \n",
       "2  0.520435  0.889165  LTV_G3              False  "
      ]
     },
     "metadata": {},
     "output_type": "display_data"
    },
    {
     "name": "stdout",
     "output_type": "stream",
     "text": [
      "\n",
      "\n"
     ]
    },
    {
     "data": {
      "text/html": [
       "<div>\n",
       "<style scoped>\n",
       "    .dataframe tbody tr th:only-of-type {\n",
       "        vertical-align: middle;\n",
       "    }\n",
       "\n",
       "    .dataframe tbody tr th {\n",
       "        vertical-align: top;\n",
       "    }\n",
       "\n",
       "    .dataframe thead th {\n",
       "        text-align: right;\n",
       "    }\n",
       "</style>\n",
       "<table border=\"1\" class=\"dataframe\">\n",
       "  <thead>\n",
       "    <tr style=\"text-align: right;\">\n",
       "      <th></th>\n",
       "      <th>variable</th>\n",
       "      <th>bin</th>\n",
       "      <th>count</th>\n",
       "      <th>count_distr</th>\n",
       "      <th>good</th>\n",
       "      <th>bad</th>\n",
       "      <th>badprob</th>\n",
       "      <th>woe</th>\n",
       "      <th>bin_iv</th>\n",
       "      <th>total_iv</th>\n",
       "      <th>breaks</th>\n",
       "      <th>is_special_values</th>\n",
       "    </tr>\n",
       "  </thead>\n",
       "  <tbody>\n",
       "    <tr>\n",
       "      <th>0</th>\n",
       "      <td>HPI</td>\n",
       "      <td>HPI_G3</td>\n",
       "      <td>17774</td>\n",
       "      <td>0.658809</td>\n",
       "      <td>15217</td>\n",
       "      <td>2557</td>\n",
       "      <td>0.143862</td>\n",
       "      <td>-0.754201</td>\n",
       "      <td>0.305775</td>\n",
       "      <td>0.83973</td>\n",
       "      <td>HPI_G3</td>\n",
       "      <td>False</td>\n",
       "    </tr>\n",
       "    <tr>\n",
       "      <th>1</th>\n",
       "      <td>HPI</td>\n",
       "      <td>HPI_G2</td>\n",
       "      <td>5733</td>\n",
       "      <td>0.212499</td>\n",
       "      <td>3489</td>\n",
       "      <td>2244</td>\n",
       "      <td>0.391418</td>\n",
       "      <td>0.588023</td>\n",
       "      <td>0.082612</td>\n",
       "      <td>0.83973</td>\n",
       "      <td>HPI_G2</td>\n",
       "      <td>False</td>\n",
       "    </tr>\n",
       "    <tr>\n",
       "      <th>2</th>\n",
       "      <td>HPI</td>\n",
       "      <td>HPI_G1</td>\n",
       "      <td>3472</td>\n",
       "      <td>0.128693</td>\n",
       "      <td>1172</td>\n",
       "      <td>2300</td>\n",
       "      <td>0.662442</td>\n",
       "      <td>1.703575</td>\n",
       "      <td>0.451343</td>\n",
       "      <td>0.83973</td>\n",
       "      <td>HPI_G1</td>\n",
       "      <td>False</td>\n",
       "    </tr>\n",
       "  </tbody>\n",
       "</table>\n",
       "</div>"
      ],
      "text/plain": [
       "  variable     bin  count  count_distr   good   bad   badprob       woe  \\\n",
       "0      HPI  HPI_G3  17774     0.658809  15217  2557  0.143862 -0.754201   \n",
       "1      HPI  HPI_G2   5733     0.212499   3489  2244  0.391418  0.588023   \n",
       "2      HPI  HPI_G1   3472     0.128693   1172  2300  0.662442  1.703575   \n",
       "\n",
       "     bin_iv  total_iv  breaks  is_special_values  \n",
       "0  0.305775   0.83973  HPI_G3              False  \n",
       "1  0.082612   0.83973  HPI_G2              False  \n",
       "2  0.451343   0.83973  HPI_G1              False  "
      ]
     },
     "metadata": {},
     "output_type": "display_data"
    },
    {
     "name": "stdout",
     "output_type": "stream",
     "text": [
      "\n",
      "\n"
     ]
    },
    {
     "data": {
      "text/html": [
       "<div>\n",
       "<style scoped>\n",
       "    .dataframe tbody tr th:only-of-type {\n",
       "        vertical-align: middle;\n",
       "    }\n",
       "\n",
       "    .dataframe tbody tr th {\n",
       "        vertical-align: top;\n",
       "    }\n",
       "\n",
       "    .dataframe thead th {\n",
       "        text-align: right;\n",
       "    }\n",
       "</style>\n",
       "<table border=\"1\" class=\"dataframe\">\n",
       "  <thead>\n",
       "    <tr style=\"text-align: right;\">\n",
       "      <th></th>\n",
       "      <th>variable</th>\n",
       "      <th>bin</th>\n",
       "      <th>count</th>\n",
       "      <th>count_distr</th>\n",
       "      <th>good</th>\n",
       "      <th>bad</th>\n",
       "      <th>badprob</th>\n",
       "      <th>woe</th>\n",
       "      <th>bin_iv</th>\n",
       "      <th>total_iv</th>\n",
       "      <th>breaks</th>\n",
       "      <th>is_special_values</th>\n",
       "    </tr>\n",
       "  </thead>\n",
       "  <tbody>\n",
       "    <tr>\n",
       "      <th>0</th>\n",
       "      <td>balance</td>\n",
       "      <td>balance_G1</td>\n",
       "      <td>3969</td>\n",
       "      <td>0.147114</td>\n",
       "      <td>3329</td>\n",
       "      <td>640</td>\n",
       "      <td>0.161250</td>\n",
       "      <td>-0.619581</td>\n",
       "      <td>0.047921</td>\n",
       "      <td>0.102916</td>\n",
       "      <td>balance_G1</td>\n",
       "      <td>False</td>\n",
       "    </tr>\n",
       "    <tr>\n",
       "      <th>1</th>\n",
       "      <td>balance</td>\n",
       "      <td>balance_G2</td>\n",
       "      <td>10523</td>\n",
       "      <td>0.390044</td>\n",
       "      <td>8108</td>\n",
       "      <td>2415</td>\n",
       "      <td>0.229497</td>\n",
       "      <td>-0.181774</td>\n",
       "      <td>0.012323</td>\n",
       "      <td>0.102916</td>\n",
       "      <td>balance_G2</td>\n",
       "      <td>False</td>\n",
       "    </tr>\n",
       "    <tr>\n",
       "      <th>2</th>\n",
       "      <td>balance</td>\n",
       "      <td>balance_G3</td>\n",
       "      <td>12487</td>\n",
       "      <td>0.462841</td>\n",
       "      <td>8441</td>\n",
       "      <td>4046</td>\n",
       "      <td>0.324017</td>\n",
       "      <td>0.294006</td>\n",
       "      <td>0.042672</td>\n",
       "      <td>0.102916</td>\n",
       "      <td>balance_G3</td>\n",
       "      <td>False</td>\n",
       "    </tr>\n",
       "  </tbody>\n",
       "</table>\n",
       "</div>"
      ],
      "text/plain": [
       "  variable         bin  count  count_distr  good   bad   badprob       woe  \\\n",
       "0  balance  balance_G1   3969     0.147114  3329   640  0.161250 -0.619581   \n",
       "1  balance  balance_G2  10523     0.390044  8108  2415  0.229497 -0.181774   \n",
       "2  balance  balance_G3  12487     0.462841  8441  4046  0.324017  0.294006   \n",
       "\n",
       "     bin_iv  total_iv      breaks  is_special_values  \n",
       "0  0.047921  0.102916  balance_G1              False  \n",
       "1  0.012323  0.102916  balance_G2              False  \n",
       "2  0.042672  0.102916  balance_G3              False  "
      ]
     },
     "metadata": {},
     "output_type": "display_data"
    },
    {
     "name": "stdout",
     "output_type": "stream",
     "text": [
      "\n",
      "\n"
     ]
    },
    {
     "data": {
      "text/html": [
       "<div>\n",
       "<style scoped>\n",
       "    .dataframe tbody tr th:only-of-type {\n",
       "        vertical-align: middle;\n",
       "    }\n",
       "\n",
       "    .dataframe tbody tr th {\n",
       "        vertical-align: top;\n",
       "    }\n",
       "\n",
       "    .dataframe thead th {\n",
       "        text-align: right;\n",
       "    }\n",
       "</style>\n",
       "<table border=\"1\" class=\"dataframe\">\n",
       "  <thead>\n",
       "    <tr style=\"text-align: right;\">\n",
       "      <th></th>\n",
       "      <th>variable</th>\n",
       "      <th>bin</th>\n",
       "      <th>count</th>\n",
       "      <th>count_distr</th>\n",
       "      <th>good</th>\n",
       "      <th>bad</th>\n",
       "      <th>badprob</th>\n",
       "      <th>woe</th>\n",
       "      <th>bin_iv</th>\n",
       "      <th>total_iv</th>\n",
       "      <th>breaks</th>\n",
       "      <th>is_special_values</th>\n",
       "    </tr>\n",
       "  </thead>\n",
       "  <tbody>\n",
       "    <tr>\n",
       "      <th>0</th>\n",
       "      <td>gdp</td>\n",
       "      <td>gdp_time_pos%,%gdp_time_nef</td>\n",
       "      <td>26979</td>\n",
       "      <td>1.0</td>\n",
       "      <td>19878</td>\n",
       "      <td>7101</td>\n",
       "      <td>0.263205</td>\n",
       "      <td>0.0</td>\n",
       "      <td>0.0</td>\n",
       "      <td>0.0</td>\n",
       "      <td>gdp_time_pos%,%gdp_time_nef</td>\n",
       "      <td>False</td>\n",
       "    </tr>\n",
       "  </tbody>\n",
       "</table>\n",
       "</div>"
      ],
      "text/plain": [
       "  variable                          bin  count  count_distr   good   bad  \\\n",
       "0      gdp  gdp_time_pos%,%gdp_time_nef  26979          1.0  19878  7101   \n",
       "\n",
       "    badprob  woe  bin_iv  total_iv                       breaks  \\\n",
       "0  0.263205  0.0     0.0       0.0  gdp_time_pos%,%gdp_time_nef   \n",
       "\n",
       "   is_special_values  \n",
       "0              False  "
      ]
     },
     "metadata": {},
     "output_type": "display_data"
    },
    {
     "name": "stdout",
     "output_type": "stream",
     "text": [
      "\n",
      "\n"
     ]
    },
    {
     "data": {
      "text/html": [
       "<div>\n",
       "<style scoped>\n",
       "    .dataframe tbody tr th:only-of-type {\n",
       "        vertical-align: middle;\n",
       "    }\n",
       "\n",
       "    .dataframe tbody tr th {\n",
       "        vertical-align: top;\n",
       "    }\n",
       "\n",
       "    .dataframe thead th {\n",
       "        text-align: right;\n",
       "    }\n",
       "</style>\n",
       "<table border=\"1\" class=\"dataframe\">\n",
       "  <thead>\n",
       "    <tr style=\"text-align: right;\">\n",
       "      <th></th>\n",
       "      <th>variable</th>\n",
       "      <th>bin</th>\n",
       "      <th>count</th>\n",
       "      <th>count_distr</th>\n",
       "      <th>good</th>\n",
       "      <th>bad</th>\n",
       "      <th>badprob</th>\n",
       "      <th>woe</th>\n",
       "      <th>bin_iv</th>\n",
       "      <th>total_iv</th>\n",
       "      <th>breaks</th>\n",
       "      <th>is_special_values</th>\n",
       "    </tr>\n",
       "  </thead>\n",
       "  <tbody>\n",
       "    <tr>\n",
       "      <th>0</th>\n",
       "      <td>payoff_time</td>\n",
       "      <td>[-inf,inf)</td>\n",
       "      <td>26979</td>\n",
       "      <td>1.0</td>\n",
       "      <td>19878</td>\n",
       "      <td>7101</td>\n",
       "      <td>0.263205</td>\n",
       "      <td>0.0</td>\n",
       "      <td>0.0</td>\n",
       "      <td>0.0</td>\n",
       "      <td>inf</td>\n",
       "      <td>False</td>\n",
       "    </tr>\n",
       "  </tbody>\n",
       "</table>\n",
       "</div>"
      ],
      "text/plain": [
       "      variable         bin  count  count_distr   good   bad   badprob  woe  \\\n",
       "0  payoff_time  [-inf,inf)  26979          1.0  19878  7101  0.263205  0.0   \n",
       "\n",
       "   bin_iv  total_iv breaks  is_special_values  \n",
       "0     0.0       0.0    inf              False  "
      ]
     },
     "metadata": {},
     "output_type": "display_data"
    },
    {
     "name": "stdout",
     "output_type": "stream",
     "text": [
      "\n",
      "\n"
     ]
    },
    {
     "data": {
      "text/html": [
       "<div>\n",
       "<style scoped>\n",
       "    .dataframe tbody tr th:only-of-type {\n",
       "        vertical-align: middle;\n",
       "    }\n",
       "\n",
       "    .dataframe tbody tr th {\n",
       "        vertical-align: top;\n",
       "    }\n",
       "\n",
       "    .dataframe thead th {\n",
       "        text-align: right;\n",
       "    }\n",
       "</style>\n",
       "<table border=\"1\" class=\"dataframe\">\n",
       "  <thead>\n",
       "    <tr style=\"text-align: right;\">\n",
       "      <th></th>\n",
       "      <th>variable</th>\n",
       "      <th>bin</th>\n",
       "      <th>count</th>\n",
       "      <th>count_distr</th>\n",
       "      <th>good</th>\n",
       "      <th>bad</th>\n",
       "      <th>badprob</th>\n",
       "      <th>woe</th>\n",
       "      <th>bin_iv</th>\n",
       "      <th>total_iv</th>\n",
       "      <th>breaks</th>\n",
       "      <th>is_special_values</th>\n",
       "    </tr>\n",
       "  </thead>\n",
       "  <tbody>\n",
       "    <tr>\n",
       "      <th>0</th>\n",
       "      <td>gdp.1</td>\n",
       "      <td>gdp_time_pos%,%gdp_time_nef</td>\n",
       "      <td>26979</td>\n",
       "      <td>1.0</td>\n",
       "      <td>19878</td>\n",
       "      <td>7101</td>\n",
       "      <td>0.263205</td>\n",
       "      <td>0.0</td>\n",
       "      <td>0.0</td>\n",
       "      <td>0.0</td>\n",
       "      <td>gdp_time_pos%,%gdp_time_nef</td>\n",
       "      <td>False</td>\n",
       "    </tr>\n",
       "  </tbody>\n",
       "</table>\n",
       "</div>"
      ],
      "text/plain": [
       "  variable                          bin  count  count_distr   good   bad  \\\n",
       "0    gdp.1  gdp_time_pos%,%gdp_time_nef  26979          1.0  19878  7101   \n",
       "\n",
       "    badprob  woe  bin_iv  total_iv                       breaks  \\\n",
       "0  0.263205  0.0     0.0       0.0  gdp_time_pos%,%gdp_time_nef   \n",
       "\n",
       "   is_special_values  \n",
       "0              False  "
      ]
     },
     "metadata": {},
     "output_type": "display_data"
    },
    {
     "name": "stdout",
     "output_type": "stream",
     "text": [
      "\n",
      "\n"
     ]
    }
   ],
   "source": [
    "#verification de la pertinance des classes\n",
    "for c in base_model.columns:\n",
    "    try:\n",
    "        display(clas_df[c])\n",
    "        print(\"\\n\")\n",
    "    except:\n",
    "        pass"
   ]
  },
  {
   "cell_type": "markdown",
   "metadata": {
    "id": "WQizq8ksRFUc"
   },
   "source": [
    "Modelisation\n",
    "=="
   ]
  },
  {
   "cell_type": "code",
   "execution_count": 1308,
   "metadata": {
    "id": "2Ac5lSoLRES3"
   },
   "outputs": [
    {
     "name": "stdout",
     "output_type": "stream",
     "text": [
      "[INFO] converting into woe values ...\n",
      "[INFO] converting into woe values ...\n"
     ]
    }
   ],
   "source": [
    "from sklearn.pipeline import make_pipeline\n",
    "from category_encoders import OneHotEncoder\n",
    "from sklearn.compose import make_column_transformer\n",
    "from sklearn.pipeline import Pipeline\n",
    "\n",
    "# Création de couple target - features dans le train  et test set\n",
    "train, test = train_test_split(base_model, test_size = 0.2, random_state = 42)\n",
    "train_woe = sc.woebin_ply(train, clas_df)\n",
    "test_woe = sc.woebin_ply(test, clas_df)\n",
    "y_train = train_woe[\"default_time\"]\n",
    "X_train = train_woe.drop([\"default_time\"], axis =1)\n",
    "y_test = test_woe[\"default_time\"]\n",
    "X_test = test_woe.drop([\"default_time\"], axis =1)"
   ]
  },
  {
   "cell_type": "markdown",
   "metadata": {},
   "source": [
    "Identification des paramettres Optimaux\n",
    "--"
   ]
  },
  {
   "cell_type": "code",
   "execution_count": 1309,
   "metadata": {},
   "outputs": [],
   "source": [
    "from sklearn import set_config\n",
    "set_config(display=\"diagram\")"
   ]
  },
  {
   "cell_type": "code",
   "execution_count": 1310,
   "metadata": {},
   "outputs": [],
   "source": [
    "def Found_Best_Paramas(model, X_train, y_train):\n",
    "\n",
    "    if model == \"RandomForestClassifier\":\n",
    "        estimateur =RandomForestClassifier()\n",
    "        print(\"RandomForestClassifier\")\n",
    "        print(\"-\"*len(str(estimateur)))\n",
    "        params = {\"n_estimators\":list(range(5, 26, 10)), \n",
    "                  'max_depth':list(range(25, 101, 25)), \n",
    "                \"max_features\" : list(range(3, X_train.shape[1]+1, 1))}\n",
    "        gs = GridSearchCV(estimateur,\n",
    "              param_grid=params,\n",
    "              scoring=\"roc_auc\", return_train_score=True, cv = 5)\n",
    "        t1 = time.time()\n",
    "        gs.fit(X_train, y_train)\n",
    "        results = gs.cv_results_\n",
    "        t2 = time.time() - t1\n",
    "        \n",
    "    if model == \"KNeighborsClassifier\":\n",
    "        estimateur = KNeighborsClassifier()\n",
    "        print(\"KNeighborsClassifier\")\n",
    "        print(\"-\"*len(str(estimateur)))\n",
    "        params = {\"n_neighbors\":list(range(5, 50, 15))}\n",
    "        gs = GridSearchCV(estimateur,\n",
    "              param_grid=params,\n",
    "              scoring=\"roc_auc\", return_train_score=True, cv = 5)\n",
    "        t1 = time.time()\n",
    "        gs.fit(X_train, y_train)\n",
    "        results = gs.cv_results_\n",
    "        t2 = time.time() - t1\n",
    "        \n",
    "    if model == \"DecisionTreeClassifier\":\n",
    "        estimateur = DecisionTreeClassifier()\n",
    "        print(\"DecisionTreeClassifier\")\n",
    "        print(\"-\"*len(str(estimateur)))\n",
    "        params = {'max_depth':list(range(2, 21, 2)), \"max_features\" : list(range(3, X_train.shape[1]+1, 1))}\n",
    "        gs = GridSearchCV(estimateur,\n",
    "              param_grid=params,\n",
    "              scoring=\"roc_auc\", return_train_score=True, cv = 5)\n",
    "        t1 = time.time()\n",
    "        gs.fit(X_train, y_train)\n",
    "        results = gs.cv_results_\n",
    "        t2 = time.time() - t1\n",
    "        \n",
    "    if model == \"GradientBoostingClassifier\":\n",
    "        estimateur = GradientBoostingClassifier()\n",
    "        print(\"GradientBoostingClassifier\")\n",
    "        print(\"-\"*len(str(estimateur)))\n",
    "        params = {'n_estimators': list(range(5, 26, 10)),'learning_rate': [0.05, 0.1,0.2],'max_depth': [1, 2, 5]}\n",
    "        gs = GridSearchCV(estimateur,\n",
    "              param_grid=params,\n",
    "              scoring=\"roc_auc\", return_train_score=True, cv = 5)\n",
    "        t1 = time.time()\n",
    "        gs.fit(X_train, y_train)\n",
    "        results = gs.cv_results_\n",
    "        t2 = time.time() - t1\n",
    "        \n",
    "    if model == \"LinearDiscriminantAnalysis\":\n",
    "        estimateur = LinearDiscriminantAnalysis()\n",
    "        print(\"LinearDiscriminantAnalysis\")\n",
    "        print(\"-\"*len(str(estimateur)))\n",
    "        params = {}\n",
    "        gs = GridSearchCV(estimateur,\n",
    "              param_grid=params,\n",
    "              scoring=\"roc_auc\", return_train_score=True, cv = 5)\n",
    "        t1 = time.time()\n",
    "        gs.fit(X_train, y_train)\n",
    "        results = gs.cv_results_\n",
    "        t2 = time.time() - t1\n",
    "    \n",
    "    if model == \"LogisticRegression\":\n",
    "        \n",
    "        estimateur = LogisticRegression()\n",
    "        \n",
    "        print(\"LogisticRegression\")\n",
    "        print(\"-\"*len(str(estimateur)))\n",
    "        \n",
    "        params = {'penalty': ['l1','l2'], 'C': [0.001,0.01,0.1,1,10,100,1000]}\n",
    "        gs = GridSearchCV(estimateur,\n",
    "              param_grid=params,\n",
    "              scoring=\"roc_auc\", return_train_score=True, cv = 5)\n",
    "        t1 = time.time()\n",
    "        gs.fit(X_train, y_train)\n",
    "        results = gs.cv_results_\n",
    "        t2 = time.time() - t1\n",
    "        \n",
    "    print(\"L'opération a pris %.2fs\" %t2)\n",
    "    print(\"Les meilleurs paramètres sont:\", gs.best_params_)\n",
    "    print(\"Le meilleur score AUC est: %.2f\" %gs.best_score_)\n",
    "    \n",
    "    return  gs"
   ]
  },
  {
   "cell_type": "code",
   "execution_count": 1311,
   "metadata": {},
   "outputs": [
    {
     "name": "stdout",
     "output_type": "stream",
     "text": [
      "RandomForestClassifier\n",
      "------------------------\n",
      "L'opération a pris 203.14s\n",
      "Les meilleurs paramètres sont: {'max_depth': 100, 'max_features': 12, 'n_estimators': 25}\n",
      "Le meilleur score AUC est: 0.82\n"
     ]
    }
   ],
   "source": [
    "rfc = Found_Best_Paramas(\"RandomForestClassifier\",X_train,y_train )"
   ]
  },
  {
   "cell_type": "code",
   "execution_count": 1312,
   "metadata": {},
   "outputs": [
    {
     "name": "stdout",
     "output_type": "stream",
     "text": [
      "KNeighborsClassifier\n",
      "----------------------\n",
      "L'opération a pris 61.09s\n",
      "Les meilleurs paramètres sont: {'n_neighbors': 35}\n",
      "Le meilleur score AUC est: 0.79\n"
     ]
    }
   ],
   "source": [
    "knc = Found_Best_Paramas(\"KNeighborsClassifier\",X_train,y_train )"
   ]
  },
  {
   "cell_type": "code",
   "execution_count": 1313,
   "metadata": {},
   "outputs": [
    {
     "name": "stdout",
     "output_type": "stream",
     "text": [
      "DecisionTreeClassifier\n",
      "------------------------\n",
      "L'opération a pris 23.78s\n",
      "Les meilleurs paramètres sont: {'max_depth': 8, 'max_features': 7}\n",
      "Le meilleur score AUC est: 0.82\n"
     ]
    }
   ],
   "source": [
    "dtc = Found_Best_Paramas(\"DecisionTreeClassifier\",X_train,y_train )"
   ]
  },
  {
   "cell_type": "code",
   "execution_count": 1314,
   "metadata": {},
   "outputs": [
    {
     "name": "stdout",
     "output_type": "stream",
     "text": [
      "GradientBoostingClassifier\n",
      "----------------------------\n",
      "L'opération a pris 34.96s\n",
      "Les meilleurs paramètres sont: {'learning_rate': 0.1, 'max_depth': 5, 'n_estimators': 25}\n",
      "Le meilleur score AUC est: 0.83\n"
     ]
    }
   ],
   "source": [
    "gbc = Found_Best_Paramas(\"GradientBoostingClassifier\",X_train,y_train )"
   ]
  },
  {
   "cell_type": "code",
   "execution_count": 1315,
   "metadata": {},
   "outputs": [
    {
     "name": "stdout",
     "output_type": "stream",
     "text": [
      "LinearDiscriminantAnalysis\n",
      "----------------------------\n",
      "L'opération a pris 1.04s\n",
      "Les meilleurs paramètres sont: {}\n",
      "Le meilleur score AUC est: 0.82\n"
     ]
    }
   ],
   "source": [
    "lda = Found_Best_Paramas(\"LinearDiscriminantAnalysis\",X_train,y_train )"
   ]
  },
  {
   "cell_type": "code",
   "execution_count": 1316,
   "metadata": {},
   "outputs": [
    {
     "name": "stdout",
     "output_type": "stream",
     "text": [
      "LogisticRegression\n",
      "--------------------\n",
      "L'opération a pris 5.41s\n",
      "Les meilleurs paramètres sont: {'C': 1, 'penalty': 'l2'}\n",
      "Le meilleur score AUC est: 0.82\n"
     ]
    }
   ],
   "source": [
    "lr = Found_Best_Paramas(\"LogisticRegression\",X_train,y_train )"
   ]
  },
  {
   "cell_type": "markdown",
   "metadata": {},
   "source": [
    "Construction des modèles\n",
    "--"
   ]
  },
  {
   "cell_type": "code",
   "execution_count": 1317,
   "metadata": {},
   "outputs": [],
   "source": [
    "modele = [RandomForestClassifier(max_depth = 50, max_features = 7, n_estimators = 25),\n",
    "         KNeighborsClassifier(n_neighbors = 35),DecisionTreeClassifier(max_depth = 8, max_features = 8),\n",
    "         GradientBoostingClassifier(learning_rate = 0.1, max_depth = 5, n_estimators = 25),\n",
    "         LinearDiscriminantAnalysis(),LogisticRegression(C =  1, penalty = 'l2')]"
   ]
  },
  {
   "cell_type": "code",
   "execution_count": null,
   "metadata": {},
   "outputs": [],
   "source": []
  },
  {
   "cell_type": "markdown",
   "metadata": {},
   "source": [
    "Analyse des performance du modèle\n",
    "--"
   ]
  },
  {
   "cell_type": "code",
   "execution_count": 1318,
   "metadata": {},
   "outputs": [],
   "source": [
    "def Model_Perf_Analysis(model, X_train, y_train, X_test, y_test, \n",
    "          smote = True, show_roc = True, show_conf_matrix = True, cut_off = 0.45, show_prc = False) : \n",
    "    \n",
    "    #--------Expression regulier pour convertir le fonction en chaine de caractere pour le titre de graphe---------#\n",
    "    b = re.findall(r\"[A-Za-z0-9]+\", str(model)) \n",
    "    \n",
    "    #---------------------------------------------requilibrage des données-----------------------------------------#\n",
    "    if smote == True:\n",
    "        print(\"SMOTE\")\n",
    "        print(\"--------\")\n",
    "        from imblearn.over_sampling import SMOTE\n",
    "        smote = SMOTE(random_state=42 , k_neighbors=15)\n",
    "        X_train, y_train = smote.fit_resample(X_train, y_train)\n",
    "    \n",
    "    #-------------------------------------------------mise en marche du modele-------------------------------------#\n",
    "    lr = model.fit(X_train, y_train)\n",
    "    print(\"train score %.2f\" %lr.score(X_train, y_train))\n",
    "    print(\"--------\")\n",
    "    \n",
    "    #--------------------------------------------determination des y-pred-----------------------------------------#\n",
    "    train_pred = lr.predict_proba(X_train)[:,1]\n",
    "    test_pred = lr.predict_proba(X_test)[:,1]\n",
    "    print(\"test score %.2f\" %lr.score(X_test, y_test))\n",
    "    print(\"--------\")\n",
    "    print(\"Cut-off : \", cut_off)\n",
    "    \n",
    "    \n",
    "    #--determination de metrique (accuracy, precision et toute la clique au seuil de 50% de confiance (standard))--#\n",
    "    print(\"--------\")\n",
    "    print(\"classification_report\\n\")\n",
    "    test_pred_b = (test_pred > cut_off).astype(bool)\n",
    "    train_pred_b = (train_pred > cut_off).astype(bool)\n",
    "    print(classification_report(y_test, test_pred_b))\n",
    "    print(\"\\n\")\n",
    "\n",
    "    train_pred_b = (train_pred > cut_off).astype(bool)\n",
    "    \n",
    "    #----------------------------- determinetion de la matrice de confusion--------------------------------------#\n",
    "    if show_conf_matrix == True : \n",
    "        print(\"Matrice de confusion\\n\")\n",
    "        print(confusion_matrix(y_test, test_pred_b))\n",
    "        print(\"--------\")\n",
    "        #AUC\n",
    "    fpr, tpr, _= roc_curve(y_test, test_pred)\n",
    "    roc_auc = auc(fpr, tpr)\n",
    "    fpr_, tpr_, _train= roc_curve(y_train, train_pred)\n",
    "    roc_auc_ = auc(fpr_, tpr_)\n",
    "    print(\"L'AUC est de %.2f\" %roc_auc)\n",
    "    print(\"--------\")\n",
    "    Gini = roc_auc * 2 - 1\n",
    "    print('Gini: %.2f' % (Gini))\n",
    "    print(\"--------\")\n",
    "    \n",
    "    \n",
    "    #------------------------------------Graphe de la courbe de roc-----------------------------------------#\n",
    "    if show_roc == True:\n",
    "        print('roc curve')\n",
    "        \n",
    "        plt.figure(figsize=(6,6))\n",
    "        plt.xlim([-0.01, 1.00])\n",
    "        plt.ylim([-0.01, 1.01])\n",
    "        plt.plot(fpr, tpr, lw=3, label='roc curve - Test (auc = {:0.2f})'.format(roc_auc))\n",
    "        #plt.plot(fpr_, tpr_, lw=3, label='roc curve - Train (auc = {:0.2f})'.format(roc_auc_))\n",
    "        plt.xlabel('False Positive Rate', fontsize=16)\n",
    "        plt.ylabel('True Positive Rate', fontsize=16)\n",
    "        plt.title(b[0], fontsize=16)\n",
    "        plt.legend(loc='lower right', fontsize=13)\n",
    "        plt.plot([0, 1], [0, 1], color='navy', lw=3, linestyle='--')\n",
    "        #plt.axes().set_aspect('equal')\n",
    "        plt.show()\n",
    "        print(\"\\n\")\n",
    "        \n",
    "    #-------------------------------------Graphe de la precision et du recall--------------------------------------#   \n",
    "    \n",
    "    precision, recall, thresholds = precision_recall_curve(y_test, test_pred)\n",
    "    precision_, recall_, thresholds_ = precision_recall_curve(y_train, train_pred)\n",
    "    \n",
    "    closest_zero = np.argmin(np.abs(thresholds))\n",
    "    closest_zero_p = precision[closest_zero]\n",
    "    closest_zero_r = recall[closest_zero]\n",
    "    \n",
    "    closest_zero_ = np.argmin(np.abs(thresholds_))\n",
    "    closest_zero_p_ = precision_[closest_zero_]\n",
    "    closest_zero_r_ = recall_[closest_zero_]\n",
    "    \n",
    "    if show_prc == True : \n",
    "        \n",
    "        print(\"precision_recall_curve\")\n",
    "        #plt.figure(figsize = (6,6))\n",
    "        plt.xlim([0.0, 1.01])\n",
    "        plt.ylim([0.0, 1.01])\n",
    "        plt.plot(precision, recall, label='prc - Test')\n",
    "        plt.xlabel('Precision', fontsize=16)\n",
    "        plt.ylabel('Recall', fontsize=16)\n",
    "        plt.axes().set_aspect('equal')\n",
    "        plt.legend(loc='lower left', fontsize=13)\n",
    "        plt.show()\n",
    "\n",
    "    J = tpr - fpr\n",
    "    ix = np.argmax(J)\n",
    "    seuil_opt = thresholds[ix]\n",
    "    \n",
    "    J_ = tpr_ - fpr_\n",
    "    ix_ = np.argmax(J_)\n",
    "    seuil_opt_ = thresholds_[ix_]\n",
    "    print('Meilleur cut-off test : %f' % (seuil_opt))\n",
    "    print('Meilleur cut-off train : %f' % (seuil_opt_))\n",
    "    \n",
    "    return fpr, tpr, roc_auc"
   ]
  },
  {
   "cell_type": "code",
   "execution_count": 1320,
   "metadata": {},
   "outputs": [
    {
     "name": "stdout",
     "output_type": "stream",
     "text": [
      "RandomForestClassifier(max_depth=50, max_features=7, n_estimators=25)\n",
      "KNeighborsClassifier(n_neighbors=35)\n",
      "DecisionTreeClassifier(max_depth=8, max_features=8)\n",
      "GradientBoostingClassifier(max_depth=5, n_estimators=25)\n",
      "LinearDiscriminantAnalysis()\n",
      "LogisticRegression(C=1)\n"
     ]
    }
   ],
   "source": [
    "for c in modele:\n",
    "    print(str(c))"
   ]
  },
  {
   "cell_type": "code",
   "execution_count": 1321,
   "metadata": {},
   "outputs": [
    {
     "name": "stdout",
     "output_type": "stream",
     "text": [
      "SMOTE\n",
      "--------\n",
      "train score 0.78\n",
      "--------\n",
      "test score 0.77\n",
      "--------\n",
      "Cut-off :  0.45\n",
      "--------\n",
      "classification_report\n",
      "\n",
      "              precision    recall  f1-score   support\n",
      "\n",
      "           0       0.88      0.76      0.82      3953\n",
      "           1       0.52      0.73      0.61      1443\n",
      "\n",
      "    accuracy                           0.75      5396\n",
      "   macro avg       0.70      0.74      0.71      5396\n",
      "weighted avg       0.79      0.75      0.76      5396\n",
      "\n",
      "\n",
      "\n",
      "Matrice de confusion\n",
      "\n",
      "[[2989  964]\n",
      " [ 391 1052]]\n",
      "--------\n",
      "L'AUC est de 0.81\n",
      "--------\n",
      "Gini: 0.62\n",
      "--------\n",
      "roc curve\n"
     ]
    },
    {
     "data": {
      "image/png": "[encoded data removed]",
      "text/plain": [
       "<Figure size 432x432 with 1 Axes>"
      ]
     },
     "metadata": {},
     "output_type": "display_data"
    },
    {
     "name": "stdout",
     "output_type": "stream",
     "text": [
      "\n",
      "\n",
      "Meilleur cut-off test : 0.503895\n",
      "Meilleur cut-off train : 0.740449\n"
     ]
    }
   ],
   "source": [
    "fpr_r, tpr_r, roc_auc_r = Model_Perf_Analysis( model = modele[0],X_train = X_train, y_train = y_train, X_test = X_test, y_test = y_test)"
   ]
  },
  {
   "cell_type": "code",
   "execution_count": 1322,
   "metadata": {},
   "outputs": [
    {
     "name": "stdout",
     "output_type": "stream",
     "text": [
      "SMOTE\n",
      "--------\n",
      "train score 0.70\n",
      "--------\n",
      "test score 0.78\n",
      "--------\n",
      "Cut-off :  0.45\n",
      "--------\n",
      "classification_report\n",
      "\n",
      "              precision    recall  f1-score   support\n",
      "\n",
      "           0       0.84      0.86      0.85      3953\n",
      "           1       0.58      0.53      0.56      1443\n",
      "\n",
      "    accuracy                           0.77      5396\n",
      "   macro avg       0.71      0.70      0.70      5396\n",
      "weighted avg       0.77      0.77      0.77      5396\n",
      "\n",
      "\n",
      "\n",
      "Matrice de confusion\n",
      "\n",
      "[[3404  549]\n",
      " [ 671  772]]\n",
      "--------\n",
      "L'AUC est de 0.80\n",
      "--------\n",
      "Gini: 0.60\n",
      "--------\n",
      "roc curve\n"
     ]
    },
    {
     "data": {
      "image/png": "[encoded data removed]",
      "text/plain": [
       "<Figure size 432x432 with 1 Axes>"
      ]
     },
     "metadata": {},
     "output_type": "display_data"
    },
    {
     "name": "stdout",
     "output_type": "stream",
     "text": [
      "\n",
      "\n",
      "Meilleur cut-off test : 0.685714\n",
      "Meilleur cut-off train : 0.685714\n"
     ]
    }
   ],
   "source": [
    "fpr_k, tpr_k, roc_auc_k = Model_Perf_Analysis( model = modele[1],X_train = X_train, y_train = y_train, X_test = X_test, y_test = y_test)"
   ]
  },
  {
   "cell_type": "code",
   "execution_count": 1323,
   "metadata": {},
   "outputs": [
    {
     "name": "stdout",
     "output_type": "stream",
     "text": [
      "SMOTE\n",
      "--------\n",
      "train score 0.77\n",
      "--------\n",
      "test score 0.77\n",
      "--------\n",
      "Cut-off :  0.45\n",
      "--------\n",
      "classification_report\n",
      "\n",
      "              precision    recall  f1-score   support\n",
      "\n",
      "           0       0.89      0.75      0.82      3953\n",
      "           1       0.52      0.73      0.61      1443\n",
      "\n",
      "    accuracy                           0.75      5396\n",
      "   macro avg       0.70      0.74      0.71      5396\n",
      "weighted avg       0.79      0.75      0.76      5396\n",
      "\n",
      "\n",
      "\n",
      "Matrice de confusion\n",
      "\n",
      "[[2984  969]\n",
      " [ 385 1058]]\n",
      "--------\n",
      "L'AUC est de 0.81\n",
      "--------\n",
      "Gini: 0.62\n",
      "--------\n",
      "roc curve\n"
     ]
    },
    {
     "data": {
      "image/png": "[encoded data removed]",
      "text/plain": [
       "<Figure size 432x432 with 1 Axes>"
      ]
     },
     "metadata": {},
     "output_type": "display_data"
    },
    {
     "name": "stdout",
     "output_type": "stream",
     "text": [
      "\n",
      "\n",
      "Meilleur cut-off test : 0.507553\n",
      "Meilleur cut-off train : 0.500000\n"
     ]
    }
   ],
   "source": [
    "fpr_d, tpr_d, roc_auc_d = Model_Perf_Analysis( model = modele[2],X_train = X_train, y_train = y_train, X_test = X_test, y_test = y_test)"
   ]
  },
  {
   "cell_type": "code",
   "execution_count": 1324,
   "metadata": {},
   "outputs": [
    {
     "name": "stdout",
     "output_type": "stream",
     "text": [
      "SMOTE\n",
      "--------\n",
      "train score 0.77\n",
      "--------\n",
      "test score 0.77\n",
      "--------\n",
      "Cut-off :  0.45\n",
      "--------\n",
      "classification_report\n",
      "\n",
      "              precision    recall  f1-score   support\n",
      "\n",
      "           0       0.89      0.76      0.82      3953\n",
      "           1       0.53      0.74      0.62      1443\n",
      "\n",
      "    accuracy                           0.76      5396\n",
      "   macro avg       0.71      0.75      0.72      5396\n",
      "weighted avg       0.79      0.76      0.77      5396\n",
      "\n",
      "\n",
      "\n",
      "Matrice de confusion\n",
      "\n",
      "[[3024  929]\n",
      " [ 380 1063]]\n",
      "--------\n",
      "L'AUC est de 0.82\n",
      "--------\n",
      "Gini: 0.63\n",
      "--------\n",
      "roc curve\n"
     ]
    },
    {
     "data": {
      "image/png": "[encoded data removed]",
      "text/plain": [
       "<Figure size 432x432 with 1 Axes>"
      ]
     },
     "metadata": {},
     "output_type": "display_data"
    },
    {
     "name": "stdout",
     "output_type": "stream",
     "text": [
      "\n",
      "\n",
      "Meilleur cut-off test : 0.484146\n",
      "Meilleur cut-off train : 0.746887\n"
     ]
    }
   ],
   "source": [
    "fpr_gb, tpr_gb, roc_auc_gb = Model_Perf_Analysis( model = modele[3],X_train = X_train, y_train = y_train, X_test = X_test, y_test = y_test)"
   ]
  },
  {
   "cell_type": "code",
   "execution_count": 1325,
   "metadata": {},
   "outputs": [
    {
     "name": "stdout",
     "output_type": "stream",
     "text": [
      "SMOTE\n",
      "--------\n",
      "train score 0.75\n",
      "--------\n",
      "test score 0.76\n",
      "--------\n",
      "Cut-off :  0.45\n",
      "--------\n",
      "classification_report\n",
      "\n",
      "              precision    recall  f1-score   support\n",
      "\n",
      "           0       0.88      0.76      0.82      3953\n",
      "           1       0.52      0.72      0.61      1443\n",
      "\n",
      "    accuracy                           0.75      5396\n",
      "   macro avg       0.70      0.74      0.71      5396\n",
      "weighted avg       0.79      0.75      0.76      5396\n",
      "\n",
      "\n",
      "\n",
      "Matrice de confusion\n",
      "\n",
      "[[3000  953]\n",
      " [ 400 1043]]\n",
      "--------\n",
      "L'AUC est de 0.81\n",
      "--------\n",
      "Gini: 0.62\n",
      "--------\n",
      "roc curve\n"
     ]
    },
    {
     "data": {
      "image/png": "[encoded data removed]",
      "text/plain": [
       "<Figure size 432x432 with 1 Axes>"
      ]
     },
     "metadata": {},
     "output_type": "display_data"
    },
    {
     "name": "stdout",
     "output_type": "stream",
     "text": [
      "\n",
      "\n",
      "Meilleur cut-off test : 0.623624\n",
      "Meilleur cut-off train : 0.431705\n"
     ]
    }
   ],
   "source": [
    "fpr_ld, tpr_ld, roc_auc_ld = Model_Perf_Analysis( model = modele[4],X_train = X_train, y_train = y_train, X_test = X_test, y_test = y_test)"
   ]
  },
  {
   "cell_type": "code",
   "execution_count": 1326,
   "metadata": {},
   "outputs": [
    {
     "name": "stdout",
     "output_type": "stream",
     "text": [
      "SMOTE\n",
      "--------\n",
      "train score 0.75\n",
      "--------\n",
      "test score 0.76\n",
      "--------\n",
      "Cut-off :  0.45\n",
      "--------\n",
      "classification_report\n",
      "\n",
      "              precision    recall  f1-score   support\n",
      "\n",
      "           0       0.88      0.76      0.82      3953\n",
      "           1       0.53      0.72      0.61      1443\n",
      "\n",
      "    accuracy                           0.75      5396\n",
      "   macro avg       0.70      0.74      0.71      5396\n",
      "weighted avg       0.79      0.75      0.76      5396\n",
      "\n",
      "\n",
      "\n",
      "Matrice de confusion\n",
      "\n",
      "[[3008  945]\n",
      " [ 398 1045]]\n",
      "--------\n",
      "L'AUC est de 0.81\n",
      "--------\n",
      "Gini: 0.62\n",
      "--------\n",
      "roc curve\n"
     ]
    },
    {
     "data": {
      "image/png": "[encoded data removed]",
      "text/plain": [
       "<Figure size 432x432 with 1 Axes>"
      ]
     },
     "metadata": {},
     "output_type": "display_data"
    },
    {
     "name": "stdout",
     "output_type": "stream",
     "text": [
      "\n",
      "\n",
      "Meilleur cut-off test : 0.615094\n",
      "Meilleur cut-off train : 0.413501\n"
     ]
    }
   ],
   "source": [
    "fpr_lr, tpr_lr, roc_auc_lr = Model_Perf_Analysis( model = modele[5],X_train = X_train, y_train = y_train, X_test = X_test, y_test = y_test)"
   ]
  },
  {
   "cell_type": "code",
   "execution_count": 1327,
   "metadata": {},
   "outputs": [
    {
     "data": {
      "image/png": "[encoded data removed]",
      "text/plain": [
       "<Figure size 432x432 with 1 Axes>"
      ]
     },
     "metadata": {},
     "output_type": "display_data"
    }
   ],
   "source": [
    "plt.figure(figsize=(6,6))\n",
    "plt.xlim([-0.01, 1.00])\n",
    "plt.ylim([-0.01, 1.01])\n",
    "plt.plot(fpr_r, tpr_r, lw=3, label='RF (auc = {:0.2f})'.format(roc_auc_r))\n",
    "plt.plot(fpr_d, tpr_d, lw=3, label='DT (auc = {:0.2f})'.format(roc_auc_d))\n",
    "plt.plot(fpr_gb, tpr_gb, lw=3, label='GB (auc = {:0.2f})'.format(roc_auc_gb))\n",
    "plt.plot(fpr_ld, tpr_ld, lw=3, label='LDA (auc = {:0.2f})'.format(roc_auc_ld))\n",
    "plt.plot(fpr_k, tpr_k, lw=3, label='KNN (auc = {:0.2f})'.format(roc_auc_k))\n",
    "plt.plot(fpr_lr, tpr_lr, lw=3, label='LR (auc = {:0.2f})'.format(roc_auc_lr))\n",
    "\n",
    "#plt.plot(fpr_sc, tpr_sc, lw=3, label='SK (auc = {:0.2f})'.format(roc_auc_sc))\n",
    "#plt.plot(fpr_vc, tpr_vc, lw=3, label='VC (auc = {:0.2f})'.format(roc_auc_vc))\n",
    "#plt.plot(fpr, tpr, lw=3, label='LR (auc = {:0.2f})'.format(roc_auc))\n",
    "\n",
    "plt.xlabel('False Positive Rate', fontsize=16)\n",
    "plt.ylabel('True Positive Rate', fontsize=16)\n",
    "plt.title('ML Models', fontsize=16)\n",
    "plt.legend(loc='lower right', fontsize=13)\n",
    "plt.plot([0, 1], [0, 1], color='navy', lw=3, linestyle='--')\n",
    "#plt.axes().set_aspect('equal')\n",
    "plt.show()"
   ]
  },
  {
   "cell_type": "code",
   "execution_count": null,
   "metadata": {},
   "outputs": [],
   "source": []
  },
  {
   "cell_type": "markdown",
   "metadata": {},
   "source": [
    "Construction des Probabilité Homogène de Risque (CHR)\n",
    "--"
   ]
  },
  {
   "cell_type": "code",
   "execution_count": 1328,
   "metadata": {},
   "outputs": [],
   "source": [
    "def get_CHR(proba,pred,base,target):\n",
    "    \n",
    "    \n",
    "    \"\"\"\n",
    "    list_model = [rfc,knc,dtc,gbc,lda,lr]\n",
    "    i = 0\n",
    "    for c in list_model:\n",
    "        i += 1\n",
    "        print(\"modele \"+str(i))\n",
    "        print(\"-\"*12)\n",
    "        prob = c.predict_proba(X_train)\n",
    "        pred = c.predict(X_train)\n",
    "        display(get_CHR(prob,pred,base_model,\"default_time\"))\n",
    "        print(\"\\n\")\n",
    "    \"\"\"\n",
    "    \n",
    "    #----------------------------------- construction base pour CHR ------------------------------------#\n",
    "    \n",
    "    data = pd.concat([pd.DataFrame(proba),pd.DataFrame(pred)],axis=1)\n",
    "    data.columns = [\"proba_0\",\"proba_1\",\"pred\"]\n",
    "    data[target] = base[target]\n",
    "    \n",
    "    #----------------------------- construction base optimal ------------------------------------------#\n",
    "    data_optimal = data.loc[data[\"pred\"] == 1][[\"proba_1\",\"pred\",target]]\n",
    "    Bins1 = np.linspace(0,1, num=35)\n",
    "    data_optimal['bins'] = pd.cut(data_optimal['proba_1'],bins=Bins1,precision=0,labels=False, duplicates='drop')\n",
    "    data_optimal = data_optimal[['proba_1', 'pred', target, 'bins']]\n",
    "    data_optimal.columns = ['proba_1', 'pred', target, 'classe']\n",
    "    \n",
    "    clean_table = data_optimal.groupby([\"classe\",\"default_time\"])[\"classe\"].size().to_frame(\"count\")\n",
    "    clean_table = clean_table.reset_index()\n",
    "\n",
    "    #--------------------------------------determination des CHR------------------------------------------------#\n",
    "    somme = [sum(clean_table.loc[clean_table[\"classe\"] == i][\"count\"]) for i in {c for c in clean_table.classe}]\n",
    "    defauts = [c for c,i in zip(clean_table[\"count\"],clean_table[\"default_time\"]) if i == 1]\n",
    "    \n",
    "    pr = list()\n",
    "    for som,bad in zip(somme,defauts):\n",
    "        try:\n",
    "            pr.append(bad/som)\n",
    "        except:\n",
    "            pass\n",
    "    CHR = pd.DataFrame([])\n",
    "    cls_ = [\"classe \"+str(i) for i in range(len(pr))]\n",
    "    CHR[\"CLASSE_\"] = cls_\n",
    "    CHR[\"PROB\"] = sorted(pr)\n",
    "    \n",
    "    return CHR"
   ]
  },
  {
   "cell_type": "code",
   "execution_count": 1329,
   "metadata": {
    "scrolled": false
   },
   "outputs": [
    {
     "name": "stdout",
     "output_type": "stream",
     "text": [
      "modele 1: GridSearchCV(cv=5, estimator=RandomForestClassifier(),\n",
      "             param_grid={'max_depth': [25, 50, 75, 100],\n",
      "                         'max_features': [3, 4, 5, 6, 7, 8, 9, 10, 11, 12],\n",
      "                         'n_estimators': [5, 15, 25]},\n",
      "             return_train_score=True, scoring='roc_auc')\n",
      "------------\n"
     ]
    },
    {
     "data": {
      "text/html": [
       "<div>\n",
       "<style scoped>\n",
       "    .dataframe tbody tr th:only-of-type {\n",
       "        vertical-align: middle;\n",
       "    }\n",
       "\n",
       "    .dataframe tbody tr th {\n",
       "        vertical-align: top;\n",
       "    }\n",
       "\n",
       "    .dataframe thead th {\n",
       "        text-align: right;\n",
       "    }\n",
       "</style>\n",
       "<table border=\"1\" class=\"dataframe\">\n",
       "  <thead>\n",
       "    <tr style=\"text-align: right;\">\n",
       "      <th></th>\n",
       "      <th>CLASSE_</th>\n",
       "      <th>PROB</th>\n",
       "    </tr>\n",
       "  </thead>\n",
       "  <tbody>\n",
       "    <tr>\n",
       "      <th>0</th>\n",
       "      <td>classe 0</td>\n",
       "      <td>0.032864</td>\n",
       "    </tr>\n",
       "    <tr>\n",
       "      <th>1</th>\n",
       "      <td>classe 1</td>\n",
       "      <td>0.046481</td>\n",
       "    </tr>\n",
       "    <tr>\n",
       "      <th>2</th>\n",
       "      <td>classe 2</td>\n",
       "      <td>0.050905</td>\n",
       "    </tr>\n",
       "    <tr>\n",
       "      <th>3</th>\n",
       "      <td>classe 3</td>\n",
       "      <td>0.057377</td>\n",
       "    </tr>\n",
       "    <tr>\n",
       "      <th>4</th>\n",
       "      <td>classe 4</td>\n",
       "      <td>0.123894</td>\n",
       "    </tr>\n",
       "    <tr>\n",
       "      <th>5</th>\n",
       "      <td>classe 5</td>\n",
       "      <td>0.133829</td>\n",
       "    </tr>\n",
       "    <tr>\n",
       "      <th>6</th>\n",
       "      <td>classe 6</td>\n",
       "      <td>0.151724</td>\n",
       "    </tr>\n",
       "    <tr>\n",
       "      <th>7</th>\n",
       "      <td>classe 7</td>\n",
       "      <td>0.167969</td>\n",
       "    </tr>\n",
       "    <tr>\n",
       "      <th>8</th>\n",
       "      <td>classe 8</td>\n",
       "      <td>0.177945</td>\n",
       "    </tr>\n",
       "    <tr>\n",
       "      <th>9</th>\n",
       "      <td>classe 9</td>\n",
       "      <td>0.237179</td>\n",
       "    </tr>\n",
       "    <tr>\n",
       "      <th>10</th>\n",
       "      <td>classe 10</td>\n",
       "      <td>0.338889</td>\n",
       "    </tr>\n",
       "    <tr>\n",
       "      <th>11</th>\n",
       "      <td>classe 11</td>\n",
       "      <td>0.423077</td>\n",
       "    </tr>\n",
       "    <tr>\n",
       "      <th>12</th>\n",
       "      <td>classe 12</td>\n",
       "      <td>0.682927</td>\n",
       "    </tr>\n",
       "    <tr>\n",
       "      <th>13</th>\n",
       "      <td>classe 13</td>\n",
       "      <td>0.809524</td>\n",
       "    </tr>\n",
       "    <tr>\n",
       "      <th>14</th>\n",
       "      <td>classe 14</td>\n",
       "      <td>1.116564</td>\n",
       "    </tr>\n",
       "    <tr>\n",
       "      <th>15</th>\n",
       "      <td>classe 15</td>\n",
       "      <td>3.055556</td>\n",
       "    </tr>\n",
       "    <tr>\n",
       "      <th>16</th>\n",
       "      <td>classe 16</td>\n",
       "      <td>5.500000</td>\n",
       "    </tr>\n",
       "  </tbody>\n",
       "</table>\n",
       "</div>"
      ],
      "text/plain": [
       "      CLASSE_      PROB\n",
       "0    classe 0  0.032864\n",
       "1    classe 1  0.046481\n",
       "2    classe 2  0.050905\n",
       "3    classe 3  0.057377\n",
       "4    classe 4  0.123894\n",
       "5    classe 5  0.133829\n",
       "6    classe 6  0.151724\n",
       "7    classe 7  0.167969\n",
       "8    classe 8  0.177945\n",
       "9    classe 9  0.237179\n",
       "10  classe 10  0.338889\n",
       "11  classe 11  0.423077\n",
       "12  classe 12  0.682927\n",
       "13  classe 13  0.809524\n",
       "14  classe 14  1.116564\n",
       "15  classe 15  3.055556\n",
       "16  classe 16  5.500000"
      ]
     },
     "metadata": {},
     "output_type": "display_data"
    },
    {
     "name": "stdout",
     "output_type": "stream",
     "text": [
      "\n",
      "\n",
      "modele 2: GridSearchCV(cv=5, estimator=KNeighborsClassifier(),\n",
      "             param_grid={'n_neighbors': [5, 20, 35]}, return_train_score=True,\n",
      "             scoring='roc_auc')\n",
      "------------\n"
     ]
    },
    {
     "data": {
      "text/html": [
       "<div>\n",
       "<style scoped>\n",
       "    .dataframe tbody tr th:only-of-type {\n",
       "        vertical-align: middle;\n",
       "    }\n",
       "\n",
       "    .dataframe tbody tr th {\n",
       "        vertical-align: top;\n",
       "    }\n",
       "\n",
       "    .dataframe thead th {\n",
       "        text-align: right;\n",
       "    }\n",
       "</style>\n",
       "<table border=\"1\" class=\"dataframe\">\n",
       "  <thead>\n",
       "    <tr style=\"text-align: right;\">\n",
       "      <th></th>\n",
       "      <th>CLASSE_</th>\n",
       "      <th>PROB</th>\n",
       "    </tr>\n",
       "  </thead>\n",
       "  <tbody>\n",
       "    <tr>\n",
       "      <th>0</th>\n",
       "      <td>classe 0</td>\n",
       "      <td>0.043732</td>\n",
       "    </tr>\n",
       "    <tr>\n",
       "      <th>1</th>\n",
       "      <td>classe 1</td>\n",
       "      <td>0.100418</td>\n",
       "    </tr>\n",
       "    <tr>\n",
       "      <th>2</th>\n",
       "      <td>classe 2</td>\n",
       "      <td>0.111888</td>\n",
       "    </tr>\n",
       "    <tr>\n",
       "      <th>3</th>\n",
       "      <td>classe 3</td>\n",
       "      <td>0.120000</td>\n",
       "    </tr>\n",
       "    <tr>\n",
       "      <th>4</th>\n",
       "      <td>classe 4</td>\n",
       "      <td>0.159664</td>\n",
       "    </tr>\n",
       "    <tr>\n",
       "      <th>5</th>\n",
       "      <td>classe 5</td>\n",
       "      <td>0.167224</td>\n",
       "    </tr>\n",
       "    <tr>\n",
       "      <th>6</th>\n",
       "      <td>classe 6</td>\n",
       "      <td>0.175847</td>\n",
       "    </tr>\n",
       "    <tr>\n",
       "      <th>7</th>\n",
       "      <td>classe 7</td>\n",
       "      <td>0.268132</td>\n",
       "    </tr>\n",
       "    <tr>\n",
       "      <th>8</th>\n",
       "      <td>classe 8</td>\n",
       "      <td>0.307432</td>\n",
       "    </tr>\n",
       "    <tr>\n",
       "      <th>9</th>\n",
       "      <td>classe 9</td>\n",
       "      <td>0.423077</td>\n",
       "    </tr>\n",
       "    <tr>\n",
       "      <th>10</th>\n",
       "      <td>classe 10</td>\n",
       "      <td>0.430769</td>\n",
       "    </tr>\n",
       "    <tr>\n",
       "      <th>11</th>\n",
       "      <td>classe 11</td>\n",
       "      <td>0.454849</td>\n",
       "    </tr>\n",
       "    <tr>\n",
       "      <th>12</th>\n",
       "      <td>classe 12</td>\n",
       "      <td>0.462963</td>\n",
       "    </tr>\n",
       "    <tr>\n",
       "      <th>13</th>\n",
       "      <td>classe 13</td>\n",
       "      <td>0.666667</td>\n",
       "    </tr>\n",
       "    <tr>\n",
       "      <th>14</th>\n",
       "      <td>classe 14</td>\n",
       "      <td>1.590000</td>\n",
       "    </tr>\n",
       "  </tbody>\n",
       "</table>\n",
       "</div>"
      ],
      "text/plain": [
       "      CLASSE_      PROB\n",
       "0    classe 0  0.043732\n",
       "1    classe 1  0.100418\n",
       "2    classe 2  0.111888\n",
       "3    classe 3  0.120000\n",
       "4    classe 4  0.159664\n",
       "5    classe 5  0.167224\n",
       "6    classe 6  0.175847\n",
       "7    classe 7  0.268132\n",
       "8    classe 8  0.307432\n",
       "9    classe 9  0.423077\n",
       "10  classe 10  0.430769\n",
       "11  classe 11  0.454849\n",
       "12  classe 12  0.462963\n",
       "13  classe 13  0.666667\n",
       "14  classe 14  1.590000"
      ]
     },
     "metadata": {},
     "output_type": "display_data"
    },
    {
     "name": "stdout",
     "output_type": "stream",
     "text": [
      "\n",
      "\n",
      "modele 3: GridSearchCV(cv=5, estimator=DecisionTreeClassifier(),\n",
      "             param_grid={'max_depth': [2, 4, 6, 8, 10, 12, 14, 16, 18, 20],\n",
      "                         'max_features': [3, 4, 5, 6, 7, 8, 9, 10, 11, 12]},\n",
      "             return_train_score=True, scoring='roc_auc')\n",
      "------------\n"
     ]
    },
    {
     "data": {
      "text/html": [
       "<div>\n",
       "<style scoped>\n",
       "    .dataframe tbody tr th:only-of-type {\n",
       "        vertical-align: middle;\n",
       "    }\n",
       "\n",
       "    .dataframe tbody tr th {\n",
       "        vertical-align: top;\n",
       "    }\n",
       "\n",
       "    .dataframe thead th {\n",
       "        text-align: right;\n",
       "    }\n",
       "</style>\n",
       "<table border=\"1\" class=\"dataframe\">\n",
       "  <thead>\n",
       "    <tr style=\"text-align: right;\">\n",
       "      <th></th>\n",
       "      <th>CLASSE_</th>\n",
       "      <th>PROB</th>\n",
       "    </tr>\n",
       "  </thead>\n",
       "  <tbody>\n",
       "    <tr>\n",
       "      <th>0</th>\n",
       "      <td>classe 0</td>\n",
       "      <td>0.034483</td>\n",
       "    </tr>\n",
       "    <tr>\n",
       "      <th>1</th>\n",
       "      <td>classe 1</td>\n",
       "      <td>0.046025</td>\n",
       "    </tr>\n",
       "    <tr>\n",
       "      <th>2</th>\n",
       "      <td>classe 2</td>\n",
       "      <td>0.063584</td>\n",
       "    </tr>\n",
       "    <tr>\n",
       "      <th>3</th>\n",
       "      <td>classe 3</td>\n",
       "      <td>0.074468</td>\n",
       "    </tr>\n",
       "    <tr>\n",
       "      <th>4</th>\n",
       "      <td>classe 4</td>\n",
       "      <td>0.087948</td>\n",
       "    </tr>\n",
       "    <tr>\n",
       "      <th>5</th>\n",
       "      <td>classe 5</td>\n",
       "      <td>0.133178</td>\n",
       "    </tr>\n",
       "    <tr>\n",
       "      <th>6</th>\n",
       "      <td>classe 6</td>\n",
       "      <td>0.223077</td>\n",
       "    </tr>\n",
       "    <tr>\n",
       "      <th>7</th>\n",
       "      <td>classe 7</td>\n",
       "      <td>0.280000</td>\n",
       "    </tr>\n",
       "    <tr>\n",
       "      <th>8</th>\n",
       "      <td>classe 8</td>\n",
       "      <td>0.324022</td>\n",
       "    </tr>\n",
       "    <tr>\n",
       "      <th>9</th>\n",
       "      <td>classe 9</td>\n",
       "      <td>0.395604</td>\n",
       "    </tr>\n",
       "    <tr>\n",
       "      <th>10</th>\n",
       "      <td>classe 10</td>\n",
       "      <td>0.468085</td>\n",
       "    </tr>\n",
       "    <tr>\n",
       "      <th>11</th>\n",
       "      <td>classe 11</td>\n",
       "      <td>0.631579</td>\n",
       "    </tr>\n",
       "    <tr>\n",
       "      <th>12</th>\n",
       "      <td>classe 12</td>\n",
       "      <td>0.652582</td>\n",
       "    </tr>\n",
       "    <tr>\n",
       "      <th>13</th>\n",
       "      <td>classe 13</td>\n",
       "      <td>0.794521</td>\n",
       "    </tr>\n",
       "    <tr>\n",
       "      <th>14</th>\n",
       "      <td>classe 14</td>\n",
       "      <td>4.756757</td>\n",
       "    </tr>\n",
       "  </tbody>\n",
       "</table>\n",
       "</div>"
      ],
      "text/plain": [
       "      CLASSE_      PROB\n",
       "0    classe 0  0.034483\n",
       "1    classe 1  0.046025\n",
       "2    classe 2  0.063584\n",
       "3    classe 3  0.074468\n",
       "4    classe 4  0.087948\n",
       "5    classe 5  0.133178\n",
       "6    classe 6  0.223077\n",
       "7    classe 7  0.280000\n",
       "8    classe 8  0.324022\n",
       "9    classe 9  0.395604\n",
       "10  classe 10  0.468085\n",
       "11  classe 11  0.631579\n",
       "12  classe 12  0.652582\n",
       "13  classe 13  0.794521\n",
       "14  classe 14  4.756757"
      ]
     },
     "metadata": {},
     "output_type": "display_data"
    },
    {
     "name": "stdout",
     "output_type": "stream",
     "text": [
      "\n",
      "\n",
      "modele 4: GridSearchCV(cv=5, estimator=GradientBoostingClassifier(),\n",
      "             param_grid={'learning_rate': [0.05, 0.1, 0.2],\n",
      "                         'max_depth': [1, 2, 5], 'n_estimators': [5, 15, 25]},\n",
      "             return_train_score=True, scoring='roc_auc')\n",
      "------------\n"
     ]
    },
    {
     "data": {
      "text/html": [
       "<div>\n",
       "<style scoped>\n",
       "    .dataframe tbody tr th:only-of-type {\n",
       "        vertical-align: middle;\n",
       "    }\n",
       "\n",
       "    .dataframe tbody tr th {\n",
       "        vertical-align: top;\n",
       "    }\n",
       "\n",
       "    .dataframe thead th {\n",
       "        text-align: right;\n",
       "    }\n",
       "</style>\n",
       "<table border=\"1\" class=\"dataframe\">\n",
       "  <thead>\n",
       "    <tr style=\"text-align: right;\">\n",
       "      <th></th>\n",
       "      <th>CLASSE_</th>\n",
       "      <th>PROB</th>\n",
       "    </tr>\n",
       "  </thead>\n",
       "  <tbody>\n",
       "    <tr>\n",
       "      <th>0</th>\n",
       "      <td>classe 0</td>\n",
       "      <td>0.157895</td>\n",
       "    </tr>\n",
       "    <tr>\n",
       "      <th>1</th>\n",
       "      <td>classe 1</td>\n",
       "      <td>0.188679</td>\n",
       "    </tr>\n",
       "    <tr>\n",
       "      <th>2</th>\n",
       "      <td>classe 2</td>\n",
       "      <td>0.221987</td>\n",
       "    </tr>\n",
       "    <tr>\n",
       "      <th>3</th>\n",
       "      <td>classe 3</td>\n",
       "      <td>0.222222</td>\n",
       "    </tr>\n",
       "    <tr>\n",
       "      <th>4</th>\n",
       "      <td>classe 4</td>\n",
       "      <td>0.237258</td>\n",
       "    </tr>\n",
       "    <tr>\n",
       "      <th>5</th>\n",
       "      <td>classe 5</td>\n",
       "      <td>0.245902</td>\n",
       "    </tr>\n",
       "    <tr>\n",
       "      <th>6</th>\n",
       "      <td>classe 6</td>\n",
       "      <td>0.253066</td>\n",
       "    </tr>\n",
       "    <tr>\n",
       "      <th>7</th>\n",
       "      <td>classe 7</td>\n",
       "      <td>0.258427</td>\n",
       "    </tr>\n",
       "    <tr>\n",
       "      <th>8</th>\n",
       "      <td>classe 8</td>\n",
       "      <td>0.262471</td>\n",
       "    </tr>\n",
       "    <tr>\n",
       "      <th>9</th>\n",
       "      <td>classe 9</td>\n",
       "      <td>0.270492</td>\n",
       "    </tr>\n",
       "    <tr>\n",
       "      <th>10</th>\n",
       "      <td>classe 10</td>\n",
       "      <td>0.278970</td>\n",
       "    </tr>\n",
       "  </tbody>\n",
       "</table>\n",
       "</div>"
      ],
      "text/plain": [
       "      CLASSE_      PROB\n",
       "0    classe 0  0.157895\n",
       "1    classe 1  0.188679\n",
       "2    classe 2  0.221987\n",
       "3    classe 3  0.222222\n",
       "4    classe 4  0.237258\n",
       "5    classe 5  0.245902\n",
       "6    classe 6  0.253066\n",
       "7    classe 7  0.258427\n",
       "8    classe 8  0.262471\n",
       "9    classe 9  0.270492\n",
       "10  classe 10  0.278970"
      ]
     },
     "metadata": {},
     "output_type": "display_data"
    },
    {
     "name": "stdout",
     "output_type": "stream",
     "text": [
      "\n",
      "\n",
      "modele 5: GridSearchCV(cv=5, estimator=LinearDiscriminantAnalysis(), param_grid={},\n",
      "             return_train_score=True, scoring='roc_auc')\n",
      "------------\n"
     ]
    },
    {
     "data": {
      "text/html": [
       "<div>\n",
       "<style scoped>\n",
       "    .dataframe tbody tr th:only-of-type {\n",
       "        vertical-align: middle;\n",
       "    }\n",
       "\n",
       "    .dataframe tbody tr th {\n",
       "        vertical-align: top;\n",
       "    }\n",
       "\n",
       "    .dataframe thead th {\n",
       "        text-align: right;\n",
       "    }\n",
       "</style>\n",
       "<table border=\"1\" class=\"dataframe\">\n",
       "  <thead>\n",
       "    <tr style=\"text-align: right;\">\n",
       "      <th></th>\n",
       "      <th>CLASSE_</th>\n",
       "      <th>PROB</th>\n",
       "    </tr>\n",
       "  </thead>\n",
       "  <tbody>\n",
       "    <tr>\n",
       "      <th>0</th>\n",
       "      <td>classe 0</td>\n",
       "      <td>0.029595</td>\n",
       "    </tr>\n",
       "    <tr>\n",
       "      <th>1</th>\n",
       "      <td>classe 1</td>\n",
       "      <td>0.042781</td>\n",
       "    </tr>\n",
       "    <tr>\n",
       "      <th>2</th>\n",
       "      <td>classe 2</td>\n",
       "      <td>0.076121</td>\n",
       "    </tr>\n",
       "    <tr>\n",
       "      <th>3</th>\n",
       "      <td>classe 3</td>\n",
       "      <td>0.076642</td>\n",
       "    </tr>\n",
       "    <tr>\n",
       "      <th>4</th>\n",
       "      <td>classe 4</td>\n",
       "      <td>0.111511</td>\n",
       "    </tr>\n",
       "    <tr>\n",
       "      <th>5</th>\n",
       "      <td>classe 5</td>\n",
       "      <td>0.120000</td>\n",
       "    </tr>\n",
       "    <tr>\n",
       "      <th>6</th>\n",
       "      <td>classe 6</td>\n",
       "      <td>0.154762</td>\n",
       "    </tr>\n",
       "    <tr>\n",
       "      <th>7</th>\n",
       "      <td>classe 7</td>\n",
       "      <td>0.162996</td>\n",
       "    </tr>\n",
       "    <tr>\n",
       "      <th>8</th>\n",
       "      <td>classe 8</td>\n",
       "      <td>0.180556</td>\n",
       "    </tr>\n",
       "    <tr>\n",
       "      <th>9</th>\n",
       "      <td>classe 9</td>\n",
       "      <td>0.216867</td>\n",
       "    </tr>\n",
       "    <tr>\n",
       "      <th>10</th>\n",
       "      <td>classe 10</td>\n",
       "      <td>0.479675</td>\n",
       "    </tr>\n",
       "    <tr>\n",
       "      <th>11</th>\n",
       "      <td>classe 11</td>\n",
       "      <td>0.650943</td>\n",
       "    </tr>\n",
       "    <tr>\n",
       "      <th>12</th>\n",
       "      <td>classe 12</td>\n",
       "      <td>0.851852</td>\n",
       "    </tr>\n",
       "    <tr>\n",
       "      <th>13</th>\n",
       "      <td>classe 13</td>\n",
       "      <td>1.088000</td>\n",
       "    </tr>\n",
       "    <tr>\n",
       "      <th>14</th>\n",
       "      <td>classe 14</td>\n",
       "      <td>1.340909</td>\n",
       "    </tr>\n",
       "    <tr>\n",
       "      <th>15</th>\n",
       "      <td>classe 15</td>\n",
       "      <td>1.555556</td>\n",
       "    </tr>\n",
       "  </tbody>\n",
       "</table>\n",
       "</div>"
      ],
      "text/plain": [
       "      CLASSE_      PROB\n",
       "0    classe 0  0.029595\n",
       "1    classe 1  0.042781\n",
       "2    classe 2  0.076121\n",
       "3    classe 3  0.076642\n",
       "4    classe 4  0.111511\n",
       "5    classe 5  0.120000\n",
       "6    classe 6  0.154762\n",
       "7    classe 7  0.162996\n",
       "8    classe 8  0.180556\n",
       "9    classe 9  0.216867\n",
       "10  classe 10  0.479675\n",
       "11  classe 11  0.650943\n",
       "12  classe 12  0.851852\n",
       "13  classe 13  1.088000\n",
       "14  classe 14  1.340909\n",
       "15  classe 15  1.555556"
      ]
     },
     "metadata": {},
     "output_type": "display_data"
    },
    {
     "name": "stdout",
     "output_type": "stream",
     "text": [
      "\n",
      "\n",
      "modele 6: GridSearchCV(cv=5, estimator=LogisticRegression(),\n",
      "             param_grid={'C': [0.001, 0.01, 0.1, 1, 10, 100, 1000],\n",
      "                         'penalty': ['l1', 'l2']},\n",
      "             return_train_score=True, scoring='roc_auc')\n",
      "------------\n"
     ]
    },
    {
     "data": {
      "text/html": [
       "<div>\n",
       "<style scoped>\n",
       "    .dataframe tbody tr th:only-of-type {\n",
       "        vertical-align: middle;\n",
       "    }\n",
       "\n",
       "    .dataframe tbody tr th {\n",
       "        vertical-align: top;\n",
       "    }\n",
       "\n",
       "    .dataframe thead th {\n",
       "        text-align: right;\n",
       "    }\n",
       "</style>\n",
       "<table border=\"1\" class=\"dataframe\">\n",
       "  <thead>\n",
       "    <tr style=\"text-align: right;\">\n",
       "      <th></th>\n",
       "      <th>CLASSE_</th>\n",
       "      <th>PROB</th>\n",
       "    </tr>\n",
       "  </thead>\n",
       "  <tbody>\n",
       "    <tr>\n",
       "      <th>0</th>\n",
       "      <td>classe 0</td>\n",
       "      <td>0.212121</td>\n",
       "    </tr>\n",
       "    <tr>\n",
       "      <th>1</th>\n",
       "      <td>classe 1</td>\n",
       "      <td>0.214953</td>\n",
       "    </tr>\n",
       "    <tr>\n",
       "      <th>2</th>\n",
       "      <td>classe 2</td>\n",
       "      <td>0.220238</td>\n",
       "    </tr>\n",
       "    <tr>\n",
       "      <th>3</th>\n",
       "      <td>classe 3</td>\n",
       "      <td>0.226562</td>\n",
       "    </tr>\n",
       "    <tr>\n",
       "      <th>4</th>\n",
       "      <td>classe 4</td>\n",
       "      <td>0.232877</td>\n",
       "    </tr>\n",
       "    <tr>\n",
       "      <th>5</th>\n",
       "      <td>classe 5</td>\n",
       "      <td>0.243304</td>\n",
       "    </tr>\n",
       "    <tr>\n",
       "      <th>6</th>\n",
       "      <td>classe 6</td>\n",
       "      <td>0.244353</td>\n",
       "    </tr>\n",
       "    <tr>\n",
       "      <th>7</th>\n",
       "      <td>classe 7</td>\n",
       "      <td>0.246154</td>\n",
       "    </tr>\n",
       "    <tr>\n",
       "      <th>8</th>\n",
       "      <td>classe 8</td>\n",
       "      <td>0.251613</td>\n",
       "    </tr>\n",
       "    <tr>\n",
       "      <th>9</th>\n",
       "      <td>classe 9</td>\n",
       "      <td>0.251916</td>\n",
       "    </tr>\n",
       "    <tr>\n",
       "      <th>10</th>\n",
       "      <td>classe 10</td>\n",
       "      <td>0.252525</td>\n",
       "    </tr>\n",
       "    <tr>\n",
       "      <th>11</th>\n",
       "      <td>classe 11</td>\n",
       "      <td>0.264000</td>\n",
       "    </tr>\n",
       "    <tr>\n",
       "      <th>12</th>\n",
       "      <td>classe 12</td>\n",
       "      <td>0.283708</td>\n",
       "    </tr>\n",
       "    <tr>\n",
       "      <th>13</th>\n",
       "      <td>classe 13</td>\n",
       "      <td>0.313253</td>\n",
       "    </tr>\n",
       "  </tbody>\n",
       "</table>\n",
       "</div>"
      ],
      "text/plain": [
       "      CLASSE_      PROB\n",
       "0    classe 0  0.212121\n",
       "1    classe 1  0.214953\n",
       "2    classe 2  0.220238\n",
       "3    classe 3  0.226562\n",
       "4    classe 4  0.232877\n",
       "5    classe 5  0.243304\n",
       "6    classe 6  0.244353\n",
       "7    classe 7  0.246154\n",
       "8    classe 8  0.251613\n",
       "9    classe 9  0.251916\n",
       "10  classe 10  0.252525\n",
       "11  classe 11  0.264000\n",
       "12  classe 12  0.283708\n",
       "13  classe 13  0.313253"
      ]
     },
     "metadata": {},
     "output_type": "display_data"
    },
    {
     "name": "stdout",
     "output_type": "stream",
     "text": [
      "\n",
      "\n"
     ]
    }
   ],
   "source": [
    "list_model = [rfc,knc,dtc,gbc,lda,lr]\n",
    "i = 0\n",
    "for c in list_model:\n",
    "    i += 1\n",
    "    print(\"modele \"+str(i)+\": \"+ str(c))\n",
    "    print(\"-\"*12)\n",
    "    prob = c.predict_proba(X_train)\n",
    "    pred = c.predict(X_train)\n",
    "    display(get_CHR(prob,pred,base_model,\"default_time\"))\n",
    "    print(\"\\n\")"
   ]
  },
  {
   "cell_type": "code",
   "execution_count": null,
   "metadata": {},
   "outputs": [],
   "source": []
  },
  {
   "cell_type": "code",
   "execution_count": null,
   "metadata": {},
   "outputs": [],
   "source": []
  }
 ],
 "metadata": {
  "colab": {
   "collapsed_sections": [],
   "name": "projet_credit_risk.ipynb",
   "provenance": [],
   "toc_visible": true
  },
  "kernelspec": {
   "display_name": "Python 3 (ipykernel)",
   "language": "python",
   "name": "python3"
  },
  "language_info": {
   "codemirror_mode": {
    "name": "ipython",
    "version": 3
   },
   "file_extension": ".py",
   "mimetype": "text/x-python",
   "name": "python",
   "nbconvert_exporter": "python",
   "pygments_lexer": "ipython3",
   "version": "3.9.7"
  }
 },
 "nbformat": 4,
 "nbformat_minor": 1
}
